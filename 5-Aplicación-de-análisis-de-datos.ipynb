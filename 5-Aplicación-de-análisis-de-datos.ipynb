{
 "cells": [
  {
   "cell_type": "markdown",
   "id": "61953276",
   "metadata": {},
   "source": [
    "## Aplicación de análisis de datos (práctica)\n",
    "\n",
    "### Anexar notebook o pdf de la misma al Google Classroom para que valga por 2 prácticas si está completa, o lo proporcional correspondiente.\n",
    "\n",
    "- Elegir un conjunto de datos.\n",
    "- Puede ser de:\n",
    "    - https://archive.ics.uci.edu/ml/index.php\n",
    "    - https://www.kaggle.com/datasets \n",
    "    - o datos abiertos:    \n",
    "        - https://datos.gob.mx\n",
    "        - https://datos.cdmx.gob.mx/\n",
    "    - u otras fuentes.\n",
    "    \n",
    "- Hacer análisis exploratorio, reducir variables y plantear pregunta a investigar.\n",
    "- Elegir si conviene un análisis de clasificación o clustering.\n",
    "- Elegir algoritmo o algoritmos.\n",
    "- Implementar algoritmos.\n",
    "- Evaluar algoritmos implementados.\n",
    "- Predecir o sacar conclusiones del análisis, graficar algún resultado.\n",
    "\n",
    "**Usaremos el siguiente conjuntode datos:** https://raw.githubusercontent.com/igomezv/DataScienceIntermedio/main/datasets/Dataset_CGO_2018_2022.csv"
   ]
  },
  {
   "cell_type": "code",
   "execution_count": null,
   "id": "93657bbe",
   "metadata": {},
   "outputs": [],
   "source": []
  }
 ],
 "metadata": {
  "kernelspec": {
   "display_name": "Python 3 (ipykernel)",
   "language": "python",
   "name": "python3"
  },
  "language_info": {
   "codemirror_mode": {
    "name": "ipython",
    "version": 3
   },
   "file_extension": ".py",
   "mimetype": "text/x-python",
   "name": "python",
   "nbconvert_exporter": "python",
   "pygments_lexer": "ipython3",
   "version": "3.9.13"
  }
 },
 "nbformat": 4,
 "nbformat_minor": 5
}
