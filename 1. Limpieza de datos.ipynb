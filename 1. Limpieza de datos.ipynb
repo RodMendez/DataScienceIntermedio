{
 "cells": [
  {
   "cell_type": "markdown",
   "id": "359a93e1",
   "metadata": {},
   "source": [
    "3.1. Problema de calidad de los datos (30 min).\n",
    "\n",
    "3.2. Conversiones de datos (30 min).\n",
    "\n",
    "3.3. Filtrado de datos (1 h).\n",
    "\n",
    "3.4. Selección de variables (1 h)."
   ]
  },
  {
   "cell_type": "code",
   "execution_count": null,
   "id": "acb74f0b",
   "metadata": {},
   "outputs": [],
   "source": []
  }
 ],
 "metadata": {
  "kernelspec": {
   "display_name": "Python 3 (ipykernel)",
   "language": "python",
   "name": "python3"
  },
  "language_info": {
   "codemirror_mode": {
    "name": "ipython",
    "version": 3
   },
   "file_extension": ".py",
   "mimetype": "text/x-python",
   "name": "python",
   "nbconvert_exporter": "python",
   "pygments_lexer": "ipython3",
   "version": "3.10.6"
  }
 },
 "nbformat": 4,
 "nbformat_minor": 5
}
