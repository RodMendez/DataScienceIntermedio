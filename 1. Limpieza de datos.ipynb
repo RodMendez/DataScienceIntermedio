{
 "cells": [
  {
   "cell_type": "markdown",
   "id": "359a93e1",
   "metadata": {},
   "source": [
    "3.1. Problema de calidad de los datos.\n",
    "    - NaN, datos faltantes\n",
    "    - Mayúsculas\n",
    "    - \n",
    "\n",
    "3.2. Conversiones de datos (30 min).\n",
    "\n",
    "3.3. Filtrado de datos (1 h).\n",
    "\n",
    "3.4. Selección de variables (30 h).\n",
    "\n",
    "\n",
    "## ¿Qué problemas pueden tener los datos?\n",
    "\n",
    "- Datos nulos\n",
    "- Mayusculas/minúsculas\n",
    "- Formatos del archivo, ¿cómo leerlos?"
   ]
  },
  {
   "cell_type": "code",
   "execution_count": 1,
   "id": "acb74f0b",
   "metadata": {},
   "outputs": [],
   "source": [
    "import numpy as np"
   ]
  },
  {
   "cell_type": "code",
   "execution_count": 6,
   "id": "9838b4ea",
   "metadata": {},
   "outputs": [],
   "source": [
    "lista = [[1,2],[3,4],[5, \"na\"]]"
   ]
  },
  {
   "cell_type": "code",
   "execution_count": 10,
   "id": "04c12b90",
   "metadata": {},
   "outputs": [],
   "source": [
    "larray = np.array(lista)"
   ]
  },
  {
   "cell_type": "code",
   "execution_count": 11,
   "id": "6a926f9b",
   "metadata": {},
   "outputs": [
    {
     "ename": "UFuncTypeError",
     "evalue": "ufunc 'multiply' did not contain a loop with signature matching types (dtype('<U21'), dtype('int64')) -> None",
     "output_type": "error",
     "traceback": [
      "\u001b[0;31m---------------------------------------------------------------------------\u001b[0m",
      "\u001b[0;31mUFuncTypeError\u001b[0m                            Traceback (most recent call last)",
      "\u001b[0;32m/tmp/ipykernel_6156/3312218591.py\u001b[0m in \u001b[0;36m<module>\u001b[0;34m\u001b[0m\n\u001b[0;32m----> 1\u001b[0;31m \u001b[0mlarray\u001b[0m \u001b[0;34m*\u001b[0m \u001b[0;36m5\u001b[0m\u001b[0;34m\u001b[0m\u001b[0;34m\u001b[0m\u001b[0m\n\u001b[0m",
      "\u001b[0;31mUFuncTypeError\u001b[0m: ufunc 'multiply' did not contain a loop with signature matching types (dtype('<U21'), dtype('int64')) -> None"
     ]
    }
   ],
   "source": [
    "larray * 5"
   ]
  },
  {
   "cell_type": "code",
   "execution_count": null,
   "id": "f0d2639b",
   "metadata": {},
   "outputs": [],
   "source": []
  },
  {
   "cell_type": "code",
   "execution_count": 2,
   "id": "82cc27b1",
   "metadata": {},
   "outputs": [],
   "source": [
    "array_prueba = np.array([[40, np.nan], [20,30],[30,40]])"
   ]
  },
  {
   "cell_type": "code",
   "execution_count": 3,
   "id": "da781de9",
   "metadata": {},
   "outputs": [
    {
     "data": {
      "text/plain": [
       "array([[40., nan],\n",
       "       [20., 30.],\n",
       "       [30., 40.]])"
      ]
     },
     "execution_count": 3,
     "metadata": {},
     "output_type": "execute_result"
    }
   ],
   "source": [
    "array_prueba"
   ]
  },
  {
   "cell_type": "code",
   "execution_count": null,
   "id": "fef50c4f",
   "metadata": {},
   "outputs": [],
   "source": []
  },
  {
   "cell_type": "markdown",
   "id": "7d455b05",
   "metadata": {},
   "source": [
    "### Quitar valores nulos con sklearn.preprocessing"
   ]
  },
  {
   "cell_type": "code",
   "execution_count": 5,
   "id": "c18f3802",
   "metadata": {},
   "outputs": [
    {
     "data": {
      "text/plain": [
       "(3, 2)"
      ]
     },
     "execution_count": 5,
     "metadata": {},
     "output_type": "execute_result"
    }
   ],
   "source": [
    "np.shape(array_prueba)"
   ]
  },
  {
   "cell_type": "code",
   "execution_count": 11,
   "id": "d1530ada",
   "metadata": {},
   "outputs": [
    {
     "data": {
      "text/plain": [
       "array([[45., 70.,  8.],\n",
       "       [40., 60.,  7.],\n",
       "       [44., 55.,  6.],\n",
       "       [30., 50.,  7.],\n",
       "       [60., 85.,  9.],\n",
       "       [55., 65.,  8.],\n",
       "       [50., 73.,  5.],\n",
       "       [33., 70.,  8.]])"
      ]
     },
     "execution_count": 11,
     "metadata": {},
     "output_type": "execute_result"
    }
   ],
   "source": [
    "np.loadtxt('datasets/prueba1.csv', skiprows=1, usecols=[4,5,6])"
   ]
  },
  {
   "cell_type": "code",
   "execution_count": 15,
   "id": "71d01a56",
   "metadata": {},
   "outputs": [
    {
     "data": {
      "text/plain": [
       "array([[45., 70.,  8.],\n",
       "       [40., 60.,  7.],\n",
       "       [44., 55.,  6.],\n",
       "       [30., 50.,  7.],\n",
       "       [60., 85.,  9.],\n",
       "       [55., 65.,  8.],\n",
       "       [50., 73.,  5.],\n",
       "       [33., 70.,  8.]])"
      ]
     },
     "execution_count": 15,
     "metadata": {},
     "output_type": "execute_result"
    }
   ],
   "source": [
    "np.loadtxt('datasets/prueba2.csv', skiprows=1, usecols=[4,5,6], delimiter=',')"
   ]
  },
  {
   "cell_type": "code",
   "execution_count": null,
   "id": "5159eca2",
   "metadata": {},
   "outputs": [],
   "source": [
    "sk"
   ]
  }
 ],
 "metadata": {
  "kernelspec": {
   "display_name": "Python 3 (ipykernel)",
   "language": "python",
   "name": "python3"
  },
  "language_info": {
   "codemirror_mode": {
    "name": "ipython",
    "version": 3
   },
   "file_extension": ".py",
   "mimetype": "text/x-python",
   "name": "python",
   "nbconvert_exporter": "python",
   "pygments_lexer": "ipython3",
   "version": "3.10.6"
  }
 },
 "nbformat": 4,
 "nbformat_minor": 5
}
