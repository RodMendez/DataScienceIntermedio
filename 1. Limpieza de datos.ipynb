{
 "cells": [
  {
   "cell_type": "markdown",
   "id": "359a93e1",
   "metadata": {},
   "source": [
    "3.1. Problema de calidad de los datos.\n",
    "    - NaN, datos faltantes\n",
    "    - Mayúsculas\n",
    "    - \n",
    "\n",
    "3.2. Conversiones de datos (30 min).\n",
    "\n",
    "3.3. Filtrado de datos (1 h).\n",
    "\n",
    "3.4. Selección de variables (30 h).\n",
    "\n",
    "(https://d2mk45aasx86xg.cloudfront.net/image10_11zon_6f0d16a388.web[\n",
    "\n",
    "## ¿Qué es y por qué es importante el pre-procesamiento?\n",
    "\n",
    "\n",
    "## ¿Qué problemas pueden tener los datos?\n",
    "\n",
    "- Datos nulos\n",
    "- Mayusculas/minúsculas\n",
    "- Formatos del archivo, ¿cómo leerlos?"
   ]
  },
  {
   "cell_type": "code",
   "execution_count": 2,
   "id": "acb74f0b",
   "metadata": {},
   "outputs": [],
   "source": [
    "import numpy as np"
   ]
  },
  {
   "cell_type": "code",
   "execution_count": 3,
   "id": "9838b4ea",
   "metadata": {},
   "outputs": [],
   "source": [
    "lista = [[1,2],[3,4],[5, \"na\"]]"
   ]
  },
  {
   "cell_type": "code",
   "execution_count": 4,
   "id": "04c12b90",
   "metadata": {},
   "outputs": [],
   "source": [
    "larray = np.array(lista)"
   ]
  },
  {
   "cell_type": "code",
   "execution_count": 5,
   "id": "6a926f9b",
   "metadata": {},
   "outputs": [
    {
     "ename": "UFuncTypeError",
     "evalue": "ufunc 'multiply' did not contain a loop with signature matching types (dtype('<U21'), dtype('int64')) -> None",
     "output_type": "error",
     "traceback": [
      "\u001b[0;31m---------------------------------------------------------------------------\u001b[0m",
      "\u001b[0;31mUFuncTypeError\u001b[0m                            Traceback (most recent call last)",
      "\u001b[0;32m/tmp/ipykernel_8822/3312218591.py\u001b[0m in \u001b[0;36m<module>\u001b[0;34m\u001b[0m\n\u001b[0;32m----> 1\u001b[0;31m \u001b[0mlarray\u001b[0m \u001b[0;34m*\u001b[0m \u001b[0;36m5\u001b[0m\u001b[0;34m\u001b[0m\u001b[0;34m\u001b[0m\u001b[0m\n\u001b[0m",
      "\u001b[0;31mUFuncTypeError\u001b[0m: ufunc 'multiply' did not contain a loop with signature matching types (dtype('<U21'), dtype('int64')) -> None"
     ]
    }
   ],
   "source": [
    "larray * 5"
   ]
  },
  {
   "cell_type": "markdown",
   "id": "c7c41197",
   "metadata": {},
   "source": [
    "#### ¿Por qué nos marca error?"
   ]
  },
  {
   "cell_type": "code",
   "execution_count": 9,
   "id": "fe80a060",
   "metadata": {},
   "outputs": [
    {
     "data": {
      "text/plain": [
       "(array([['1', '2'],\n",
       "        ['3', '4'],\n",
       "        ['5', 'na']], dtype='<U21'),\n",
       " (3, 2),\n",
       " numpy.ndarray)"
      ]
     },
     "execution_count": 9,
     "metadata": {},
     "output_type": "execute_result"
    }
   ],
   "source": [
    "larray, np.shape(larray), type(larray)"
   ]
  },
  {
   "cell_type": "markdown",
   "id": "7e1695de",
   "metadata": {},
   "source": [
    "#### Investigar dtype=U en https://numpy.org/doc/stable/reference/arrays.dtypes.html "
   ]
  },
  {
   "cell_type": "code",
   "execution_count": 21,
   "id": "70f4c076",
   "metadata": {},
   "outputs": [],
   "source": [
    "larray = np.array(lista, dtype=float)"
   ]
  },
  {
   "cell_type": "code",
   "execution_count": 22,
   "id": "41eba0dd",
   "metadata": {},
   "outputs": [
    {
     "data": {
      "text/plain": [
       "nan"
      ]
     },
     "execution_count": 22,
     "metadata": {},
     "output_type": "execute_result"
    }
   ],
   "source": [
    "lista[2][1]"
   ]
  },
  {
   "cell_type": "code",
   "execution_count": 23,
   "id": "aa702e21",
   "metadata": {},
   "outputs": [],
   "source": [
    "lista[2][1] = np.nan"
   ]
  },
  {
   "cell_type": "code",
   "execution_count": 24,
   "id": "69a77642",
   "metadata": {},
   "outputs": [
    {
     "data": {
      "text/plain": [
       "[[1, 2], [3, 4], [5, nan]]"
      ]
     },
     "execution_count": 24,
     "metadata": {},
     "output_type": "execute_result"
    }
   ],
   "source": [
    "lista"
   ]
  },
  {
   "cell_type": "code",
   "execution_count": 25,
   "id": "d552afbe",
   "metadata": {},
   "outputs": [],
   "source": [
    "larray = np.array(lista)"
   ]
  },
  {
   "cell_type": "code",
   "execution_count": 26,
   "id": "81ab7b95",
   "metadata": {},
   "outputs": [
    {
     "data": {
      "text/plain": [
       "(array([[ 1.,  2.],\n",
       "        [ 3.,  4.],\n",
       "        [ 5., nan]]),\n",
       " (3, 2),\n",
       " numpy.ndarray)"
      ]
     },
     "execution_count": 26,
     "metadata": {},
     "output_type": "execute_result"
    }
   ],
   "source": [
    "larray, np.shape(larray), type(larray)"
   ]
  },
  {
   "cell_type": "code",
   "execution_count": 27,
   "id": "49ed3827",
   "metadata": {},
   "outputs": [
    {
     "data": {
      "text/plain": [
       "array([[ 5., 10.],\n",
       "       [15., 20.],\n",
       "       [25., nan]])"
      ]
     },
     "execution_count": 27,
     "metadata": {},
     "output_type": "execute_result"
    }
   ],
   "source": [
    "larray * 5"
   ]
  },
  {
   "cell_type": "markdown",
   "id": "7d455b05",
   "metadata": {},
   "source": [
    " ### Quitar valores nulos con sklearn.preprocessing https://scikit-learn.org/stable/modules/impute.html#impute"
   ]
  },
  {
   "cell_type": "code",
   "execution_count": 29,
   "id": "c18f3802",
   "metadata": {},
   "outputs": [],
   "source": [
    "from sklearn.impute import SimpleImputer"
   ]
  },
  {
   "cell_type": "code",
   "execution_count": 30,
   "id": "5da02b8f",
   "metadata": {},
   "outputs": [],
   "source": [
    "imp = SimpleImputer(missing_values=np.nan, strategy='mean')"
   ]
  },
  {
   "cell_type": "code",
   "execution_count": 31,
   "id": "9d5091b7",
   "metadata": {},
   "outputs": [
    {
     "data": {
      "text/html": [
       "<style>#sk-container-id-1 {color: black;background-color: white;}#sk-container-id-1 pre{padding: 0;}#sk-container-id-1 div.sk-toggleable {background-color: white;}#sk-container-id-1 label.sk-toggleable__label {cursor: pointer;display: block;width: 100%;margin-bottom: 0;padding: 0.3em;box-sizing: border-box;text-align: center;}#sk-container-id-1 label.sk-toggleable__label-arrow:before {content: \"▸\";float: left;margin-right: 0.25em;color: #696969;}#sk-container-id-1 label.sk-toggleable__label-arrow:hover:before {color: black;}#sk-container-id-1 div.sk-estimator:hover label.sk-toggleable__label-arrow:before {color: black;}#sk-container-id-1 div.sk-toggleable__content {max-height: 0;max-width: 0;overflow: hidden;text-align: left;background-color: #f0f8ff;}#sk-container-id-1 div.sk-toggleable__content pre {margin: 0.2em;color: black;border-radius: 0.25em;background-color: #f0f8ff;}#sk-container-id-1 input.sk-toggleable__control:checked~div.sk-toggleable__content {max-height: 200px;max-width: 100%;overflow: auto;}#sk-container-id-1 input.sk-toggleable__control:checked~label.sk-toggleable__label-arrow:before {content: \"▾\";}#sk-container-id-1 div.sk-estimator input.sk-toggleable__control:checked~label.sk-toggleable__label {background-color: #d4ebff;}#sk-container-id-1 div.sk-label input.sk-toggleable__control:checked~label.sk-toggleable__label {background-color: #d4ebff;}#sk-container-id-1 input.sk-hidden--visually {border: 0;clip: rect(1px 1px 1px 1px);clip: rect(1px, 1px, 1px, 1px);height: 1px;margin: -1px;overflow: hidden;padding: 0;position: absolute;width: 1px;}#sk-container-id-1 div.sk-estimator {font-family: monospace;background-color: #f0f8ff;border: 1px dotted black;border-radius: 0.25em;box-sizing: border-box;margin-bottom: 0.5em;}#sk-container-id-1 div.sk-estimator:hover {background-color: #d4ebff;}#sk-container-id-1 div.sk-parallel-item::after {content: \"\";width: 100%;border-bottom: 1px solid gray;flex-grow: 1;}#sk-container-id-1 div.sk-label:hover label.sk-toggleable__label {background-color: #d4ebff;}#sk-container-id-1 div.sk-serial::before {content: \"\";position: absolute;border-left: 1px solid gray;box-sizing: border-box;top: 0;bottom: 0;left: 50%;z-index: 0;}#sk-container-id-1 div.sk-serial {display: flex;flex-direction: column;align-items: center;background-color: white;padding-right: 0.2em;padding-left: 0.2em;position: relative;}#sk-container-id-1 div.sk-item {position: relative;z-index: 1;}#sk-container-id-1 div.sk-parallel {display: flex;align-items: stretch;justify-content: center;background-color: white;position: relative;}#sk-container-id-1 div.sk-item::before, #sk-container-id-1 div.sk-parallel-item::before {content: \"\";position: absolute;border-left: 1px solid gray;box-sizing: border-box;top: 0;bottom: 0;left: 50%;z-index: -1;}#sk-container-id-1 div.sk-parallel-item {display: flex;flex-direction: column;z-index: 1;position: relative;background-color: white;}#sk-container-id-1 div.sk-parallel-item:first-child::after {align-self: flex-end;width: 50%;}#sk-container-id-1 div.sk-parallel-item:last-child::after {align-self: flex-start;width: 50%;}#sk-container-id-1 div.sk-parallel-item:only-child::after {width: 0;}#sk-container-id-1 div.sk-dashed-wrapped {border: 1px dashed gray;margin: 0 0.4em 0.5em 0.4em;box-sizing: border-box;padding-bottom: 0.4em;background-color: white;}#sk-container-id-1 div.sk-label label {font-family: monospace;font-weight: bold;display: inline-block;line-height: 1.2em;}#sk-container-id-1 div.sk-label-container {text-align: center;}#sk-container-id-1 div.sk-container {/* jupyter's `normalize.less` sets `[hidden] { display: none; }` but bootstrap.min.css set `[hidden] { display: none !important; }` so we also need the `!important` here to be able to override the default hidden behavior on the sphinx rendered scikit-learn.org. See: https://github.com/scikit-learn/scikit-learn/issues/21755 */display: inline-block !important;position: relative;}#sk-container-id-1 div.sk-text-repr-fallback {display: none;}</style><div id=\"sk-container-id-1\" class=\"sk-top-container\"><div class=\"sk-text-repr-fallback\"><pre>SimpleImputer()</pre><b>In a Jupyter environment, please rerun this cell to show the HTML representation or trust the notebook. <br />On GitHub, the HTML representation is unable to render, please try loading this page with nbviewer.org.</b></div><div class=\"sk-container\" hidden><div class=\"sk-item\"><div class=\"sk-estimator sk-toggleable\"><input class=\"sk-toggleable__control sk-hidden--visually\" id=\"sk-estimator-id-1\" type=\"checkbox\" checked><label for=\"sk-estimator-id-1\" class=\"sk-toggleable__label sk-toggleable__label-arrow\">SimpleImputer</label><div class=\"sk-toggleable__content\"><pre>SimpleImputer()</pre></div></div></div></div></div>"
      ],
      "text/plain": [
       "SimpleImputer()"
      ]
     },
     "execution_count": 31,
     "metadata": {},
     "output_type": "execute_result"
    }
   ],
   "source": [
    "imp.fit(larray)"
   ]
  },
  {
   "cell_type": "code",
   "execution_count": 33,
   "id": "e562771b",
   "metadata": {},
   "outputs": [
    {
     "data": {
      "text/plain": [
       "array([[1., 2.],\n",
       "       [3., 4.],\n",
       "       [5., 3.]])"
      ]
     },
     "execution_count": 33,
     "metadata": {},
     "output_type": "execute_result"
    }
   ],
   "source": [
    "imp.transform(larray)"
   ]
  },
  {
   "cell_type": "markdown",
   "id": "3dd60d56",
   "metadata": {},
   "source": [
    "##### Repetir y probar con diferentes estrategias"
   ]
  },
  {
   "cell_type": "code",
   "execution_count": null,
   "id": "d5d6638b",
   "metadata": {},
   "outputs": [],
   "source": []
  },
  {
   "cell_type": "code",
   "execution_count": null,
   "id": "161d38e7",
   "metadata": {},
   "outputs": [],
   "source": []
  },
  {
   "cell_type": "code",
   "execution_count": null,
   "id": "b8e2ec93",
   "metadata": {},
   "outputs": [],
   "source": []
  },
  {
   "cell_type": "code",
   "execution_count": null,
   "id": "40fc7bd9",
   "metadata": {},
   "outputs": [],
   "source": []
  },
  {
   "cell_type": "code",
   "execution_count": null,
   "id": "7c054378",
   "metadata": {},
   "outputs": [],
   "source": []
  },
  {
   "cell_type": "code",
   "execution_count": 11,
   "id": "d1530ada",
   "metadata": {},
   "outputs": [
    {
     "data": {
      "text/plain": [
       "array([[45., 70.,  8.],\n",
       "       [40., 60.,  7.],\n",
       "       [44., 55.,  6.],\n",
       "       [30., 50.,  7.],\n",
       "       [60., 85.,  9.],\n",
       "       [55., 65.,  8.],\n",
       "       [50., 73.,  5.],\n",
       "       [33., 70.,  8.]])"
      ]
     },
     "execution_count": 11,
     "metadata": {},
     "output_type": "execute_result"
    }
   ],
   "source": [
    "np.loadtxt('datasets/prueba1.csv', skiprows=1, usecols=[4,5,6])"
   ]
  },
  {
   "cell_type": "code",
   "execution_count": 15,
   "id": "71d01a56",
   "metadata": {},
   "outputs": [
    {
     "data": {
      "text/plain": [
       "array([[45., 70.,  8.],\n",
       "       [40., 60.,  7.],\n",
       "       [44., 55.,  6.],\n",
       "       [30., 50.,  7.],\n",
       "       [60., 85.,  9.],\n",
       "       [55., 65.,  8.],\n",
       "       [50., 73.,  5.],\n",
       "       [33., 70.,  8.]])"
      ]
     },
     "execution_count": 15,
     "metadata": {},
     "output_type": "execute_result"
    }
   ],
   "source": [
    "np.loadtxt('datasets/prueba2.csv', skiprows=1, usecols=[4,5,6], delimiter=',')"
   ]
  },
  {
   "cell_type": "code",
   "execution_count": null,
   "id": "5159eca2",
   "metadata": {},
   "outputs": [],
   "source": [
    "sk"
   ]
  }
 ],
 "metadata": {
  "kernelspec": {
   "display_name": "Python 3 (ipykernel)",
   "language": "python",
   "name": "python3"
  },
  "language_info": {
   "codemirror_mode": {
    "name": "ipython",
    "version": 3
   },
   "file_extension": ".py",
   "mimetype": "text/x-python",
   "name": "python",
   "nbconvert_exporter": "python",
   "pygments_lexer": "ipython3",
   "version": "3.10.6"
  }
 },
 "nbformat": 4,
 "nbformat_minor": 5
}
