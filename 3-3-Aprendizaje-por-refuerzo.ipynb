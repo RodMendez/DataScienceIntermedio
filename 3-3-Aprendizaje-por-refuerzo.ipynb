{
 "cells": [
  {
   "cell_type": "markdown",
   "metadata": {},
   "source": [
    "# Aprendizaje por refuerzo (posponer al viernes)\n",
    "\n",
    "![](https://raw.githubusercontent.com/igomezv/DataScienceIntermedio/main/img/refuerzo.png)\n",
    "Fuente de la imagen: medium.com\n",
    "\n",
    "“maximizar la recompensa“\n",
    "\n",
    "**Definiciones importantes:**\n",
    "\n",
    "- Agente: modelo a entrenar para que tome decisiones.\n",
    "- Ambiente: Entorno donde interactúa el agente. El ambiente limita y pone reglas. \n",
    "\n",
    "Entre ambiente y agente hay las siguientes relaciones: \n",
    "\n",
    "- Acción: posibles acciones que puede tomar el agente en determinado momento.\n",
    "- Estado (del ambiente): indicadores del ambiente sobre cómo están los diversos elementos que lo componen en determinado momento.\n",
    "- Recompensas (o penalización): cada acción del agente obtiene un premio o una penalización. \n",
    "\n",
    "Ver: https://towardsdatascience.com/hands-on-introduction-to-reinforcement-learning-in-python-da07f7aaca88 "
   ]
  },
  {
   "cell_type": "code",
   "execution_count": null,
   "metadata": {},
   "outputs": [],
   "source": []
  }
 ],
 "metadata": {
  "kernelspec": {
   "display_name": "Python 3",
   "language": "python",
   "name": "python3"
  },
  "language_info": {
   "codemirror_mode": {
    "name": "ipython",
    "version": 3
   },
   "file_extension": ".py",
   "mimetype": "text/x-python",
   "name": "python",
   "nbconvert_exporter": "python",
   "pygments_lexer": "ipython3",
   "version": "3.8.10"
  }
 },
 "nbformat": 4,
 "nbformat_minor": 5
}
