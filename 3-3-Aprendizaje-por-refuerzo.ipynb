{
 "cells": [
  {
   "cell_type": "markdown",
   "metadata": {},
   "source": [
    "# Aprendizaje por refuerzo (posponer al viernes)\n",
    "\n",
    "![](https://raw.githubusercontent.com/igomezv/DataScienceIntermedio/main/img/refuerzo.png)\n",
    "Fuente de la imagen: medium.com\n",
    "\n",
    "“maximizar la recompensa“\n",
    "\n",
    "    el Agente: será nuestro modelo que queremos entrenar y que aprenda a tomar decisiones.\n",
    "    Ambiente: será el entorno en donde interactúa y “se mueve” el agente. El ambiente contiene las limitaciones y reglas posibles a cada momento.\n",
    "\n",
    "Entre ellos hay una relación que se retroalimenta y cuenta con los siguientes nexos:\n",
    "\n",
    "    Acción: las posibles acciones que puede tomar en un momento determinado el Agente.\n",
    "    Estado (del ambiente): son los indicadores del ambiente de cómo están los diversos elementos que lo componen en ese momento.\n",
    "    Recompensas (ó castigos!): a raíz de cada acción tomada por el Agente, podremos obtener un premio ó una penalización que orientarán al Agente en si lo está haciendo bien ó mal. "
   ]
  },
  {
   "cell_type": "code",
   "execution_count": null,
   "metadata": {},
   "outputs": [],
   "source": [
    "https://towardsdatascience.com/hands-on-introduction-to-reinforcement-learning-in-python-da07f7aaca88"
   ]
  }
 ],
 "metadata": {
  "kernelspec": {
   "display_name": "Python 3",
   "language": "python",
   "name": "python3"
  },
  "language_info": {
   "codemirror_mode": {
    "name": "ipython",
    "version": 3
   },
   "file_extension": ".py",
   "mimetype": "text/x-python",
   "name": "python",
   "nbconvert_exporter": "python",
   "pygments_lexer": "ipython3",
   "version": "3.8.10"
  }
 },
 "nbformat": 4,
 "nbformat_minor": 5
}
