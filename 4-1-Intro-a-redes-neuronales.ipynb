{
 "cells": [
  {
   "cell_type": "markdown",
   "id": "39961de7",
   "metadata": {},
   "source": [
    "## Redes neuronales\n",
    "\n",
    "![](https://raw.githubusercontent.com/igomezv/MACS_2021_neural_networks/main/figures/ANN.png)\n",
    "\n",
    "![](https://raw.githubusercontent.com/igomezv/MACS_2021_neural_networks/main/figures/ANN.png)\n",
    "\n",
    "\n",
    "### Tipos de funciones de activación:\n",
    "Fuente: https://mlfromscratch.com/activation-functions-explained/#/\n",
    "![title](https://mlfromscratch.com/content/images/2019/12/activation-functions.gif)\n",
    "\n",
    "\n",
    "### Descenso del gradiente (intuición)\n",
    "\n",
    "- La deducción no es propósito de esta notebook, pero cada nuevo paso en busca de la minimización de la función de costo, obedece la siguiente regla:\n",
    "\n",
    "$ v -> v' = v - \\eta \\nabla C$, donde $v$ es $f(w, b)$ y $\\eta$ la tasa de aprendizaje (tamaño de paso, learning rate)\n",
    "\n",
    "- Se da un paso en dirección opuesta al gradiente hasta minimizar la función de costo.\n",
    "\n",
    "- Se le llama *backpropagation* al algoritmo que realiza esto iterativamente desde la última capa hasta la primera.\n",
    "\n",
    "Fuente: https://kevinbinz.com/2019/05/26/intro-gradient-descent/\n",
    "\n",
    "![title](https://kevinbinz.files.wordpress.com/2019/05/dualspace_explore.gif)\n",
    "\n",
    "- Se quiere encontrar (x,y) tal que sea un mínimo en la superficie (función de costo).\n",
    "\n",
    "Fuente: https://towardsdatascience.com/a-visual-explanation-of-gradient-descent-methods-momentum-adagrad-rmsprop-adam-f898b102325c\n",
    "\n",
    "![title](https://miro.medium.com/max/819/1*hUd744hDEEGx0-ypWGhrkw.gif)\n",
    "\n",
    "\n",
    "![title](https://raw.githubusercontent.com/igomezv/MACS_2021_ML_basics_neural_networks/main/figures/approxTheorem.png)\n",
    "\n",
    "\n",
    "\n",
    "### Algunos tipos de redes neuronales\n",
    "Fuente: https://www.asimovinstitute.org/neural-network-zoo/\n",
    "<div>\n",
    "    <img src=\"https://www.asimovinstitute.org/wp-content/uploads/2019/04/NeuralNetworkZoo20042019.png\", width=\"500\">\n",
    "</div>\n",
    "\n",
    "## 1. Construyamos una red neuronal configurable con keras"
   ]
  },
  {
   "cell_type": "code",
   "execution_count": 1,
   "id": "b1e3b42a",
   "metadata": {},
   "outputs": [],
   "source": [
    "import tensorflow.keras as K\n",
    "import numpy as np\n",
    "import matplotlib.pyplot as plt\n",
    "from sklearn.preprocessing import StandardScaler\n",
    "import pandas as pd\n",
    "import seaborn as sns\n",
    "from sklearn.preprocessing import OneHotEncoder"
   ]
  },
  {
   "cell_type": "markdown",
   "id": "4dad6b37",
   "metadata": {},
   "source": [
    "#### Analicemos si una red neuronal puede aprender las siguientes tres funciones:\n",
    "\n",
    "* $line(x) = 2x+3$\n",
    "* $quadratic(x) = x^2 +2$\n",
    "* $quadtres(x_1,x_2,x_3) = x_1^2 + 2x_2 + x_3$"
   ]
  },
  {
   "cell_type": "code",
   "execution_count": 2,
   "id": "bbe9d427",
   "metadata": {},
   "outputs": [],
   "source": [
    "def line(x):\n",
    "    return 2*x + 3 + 0.05 * np.random.rand()\n",
    "\n",
    "def quadratic(x):\n",
    "    return x**2 + 2 + 0.001 * np.random.rand()\n",
    "\n",
    "def quadtres(x):\n",
    "    y = np.zeros(len(x))\n",
    "    for i in range(len(x)):\n",
    "        y[i] = x[i, 0]**2 + 2*x[i, 1] + x[i, 2]\n",
    "    return y"
   ]
  },
  {
   "cell_type": "code",
   "execution_count": 5,
   "id": "c2a35210",
   "metadata": {},
   "outputs": [
    {
     "data": {
      "text/html": [
       "<div>\n",
       "<style scoped>\n",
       "    .dataframe tbody tr th:only-of-type {\n",
       "        vertical-align: middle;\n",
       "    }\n",
       "\n",
       "    .dataframe tbody tr th {\n",
       "        vertical-align: top;\n",
       "    }\n",
       "\n",
       "    .dataframe thead th {\n",
       "        text-align: right;\n",
       "    }\n",
       "</style>\n",
       "<table border=\"1\" class=\"dataframe\">\n",
       "  <thead>\n",
       "    <tr style=\"text-align: right;\">\n",
       "      <th></th>\n",
       "      <th>x</th>\n",
       "      <th>y</th>\n",
       "    </tr>\n",
       "  </thead>\n",
       "  <tbody>\n",
       "    <tr>\n",
       "      <th>0</th>\n",
       "      <td>0.643364</td>\n",
       "      <td>2.414578</td>\n",
       "    </tr>\n",
       "    <tr>\n",
       "      <th>1</th>\n",
       "      <td>0.048857</td>\n",
       "      <td>2.003047</td>\n",
       "    </tr>\n",
       "  </tbody>\n",
       "</table>\n",
       "</div>"
      ],
      "text/plain": [
       "          x         y\n",
       "0  0.643364  2.414578\n",
       "1  0.048857  2.003047"
      ]
     },
     "execution_count": 5,
     "metadata": {},
     "output_type": "execute_result"
    }
   ],
   "source": [
    "# Descomentar función para generar datos\n",
    "# fn = line\n",
    "fn = quadratic\n",
    "# fn = quadtres\n",
    "\n",
    "# Seleccionar número de puntos para el dataset\n",
    "npoints = 100\n",
    "\n",
    "# Generar X\n",
    "## para line y quadratic\n",
    "X = np.random.rand(npoints)\n",
    "## para quadtres\n",
    "# X = np.random.rand(npoints, 3)\n",
    "\n",
    "# Generar Y\n",
    "Y = fn(X)\n",
    "\n",
    "# Ver tabla de datos\n",
    "## para line y quadratic\n",
    "data =pd.DataFrame(zip(X,Y), columns=['x', 'y'])\n",
    "## para quadtres\n",
    "# data =pd.DataFrame(zip(X[:,0], X[:,1], X[:,2], Y), columns=['$x_1$', '$x_2$', '$x_3$', 'y'])\n",
    "data.head(2)"
   ]
  },
  {
   "cell_type": "code",
   "execution_count": 20,
   "id": "512e0471",
   "metadata": {},
   "outputs": [],
   "source": [
    "from sklearn.model_selection import train_test_split\n",
    "scaler = StandardScaler()\n",
    "scaler.fit(X.reshape(-1,1))\n",
    "\n",
    "X_train, X_val = train_test_split(X, train_size=0.8, shuffle=True, random_state=1)\n",
    "Y_train, Y_val = train_test_split(Y, train_size=0.8, shuffle=True, random_state=1)\n",
    "X_train = scaler.transform(X_train.reshape(-1,1))\n",
    "X_val = scaler.transform(X_val.reshape(-1,1))\n"
   ]
  },
  {
   "cell_type": "code",
   "execution_count": 23,
   "id": "1196398d",
   "metadata": {},
   "outputs": [
    {
     "name": "stdout",
     "output_type": "stream",
     "text": [
      "Model: \"sequential_6\"\n",
      "_________________________________________________________________\n",
      " Layer (type)                Output Shape              Param #   \n",
      "=================================================================\n",
      " dense_7 (Dense)             (None, 200)               400       \n",
      "                                                                 \n",
      " dense_8 (Dense)             (None, 200)               40200     \n",
      "                                                                 \n",
      " dense_9 (Dense)             (None, 2)                 402       \n",
      "                                                                 \n",
      "=================================================================\n",
      "Total params: 41,002\n",
      "Trainable params: 41,002\n",
      "Non-trainable params: 0\n",
      "_________________________________________________________________\n"
     ]
    }
   ],
   "source": [
    "\n",
    "\n",
    "# Red neuronal\n",
    "model = K.models.Sequential()\n",
    "# Hidden layers\n",
    "topology = [1,200,2]\n",
    "\n",
    "for i, nodes in enumerate(topology):\n",
    "    if i == 0:\n",
    "        model.add(K.layers.Dense(topology[1], input_dim=topology[0], activation='relu'))\n",
    "    elif i < len(topology)-2:\n",
    "        model.add(K.layers.Dense(topology[i+1], activation='relu'))\n",
    "    else:\n",
    "        model.add(K.layers.Dense(topology[i], activation='linear'))\n",
    "optimizer = K.optimizers.Adam(learning_rate=0.0001)\n",
    "model.compile(optimizer=optimizer, loss='mean_squared_error')\n",
    "model.summary()\n",
    "\n",
    "\n",
    "callbacks = [K.callbacks.EarlyStopping(monitor='val_loss', mode='min',\n",
    "                                       min_delta=0.0,\n",
    "                                       patience=2,\n",
    "                                       restore_best_weights=True)]\n",
    "\n",
    "    "
   ]
  },
  {
   "cell_type": "code",
   "execution_count": 25,
   "id": "c10a0862",
   "metadata": {},
   "outputs": [],
   "source": [
    "\n",
    "epochs=100\n",
    "bs = 4\n",
    "\n",
    "history = model.fit(X_train, Y_train, validation_data=(X_val, Y_val),\n",
    "                                  epochs=epochs, batch_size=bs,\n",
    "                                  callbacks=callbacks, verbose=0)"
   ]
  },
  {
   "cell_type": "code",
   "execution_count": 26,
   "id": "2a7848df",
   "metadata": {},
   "outputs": [],
   "source": [
    "nlayer = 1\n",
    "weights, biases = model.layers[nlayer].get_weights()"
   ]
  },
  {
   "cell_type": "code",
   "execution_count": 27,
   "id": "db6e3ff5",
   "metadata": {},
   "outputs": [
    {
     "name": "stdout",
     "output_type": "stream",
     "text": [
      "1/1 [==============================] - 0s 62ms/step\n"
     ]
    },
    {
     "data": {
      "text/plain": [
       "array([[2.7352738, 2.73338  ],\n",
       "       [2.3784   , 2.375995 ],\n",
       "       [2.2544043, 2.2564917],\n",
       "       [2.6243575, 2.621677 ],\n",
       "       [2.3973658, 2.3950477],\n",
       "       [2.030843 , 2.02971  ],\n",
       "       [2.9355943, 2.9377463],\n",
       "       [2.068285 , 2.0697842],\n",
       "       [2.4533434, 2.4519858],\n",
       "       [2.1155236, 2.1164656],\n",
       "       [2.12643  , 2.1275249],\n",
       "       [2.0088642, 2.0071332],\n",
       "       [2.5149176, 2.5141048],\n",
       "       [2.0281892, 2.02688  ],\n",
       "       [2.0082202, 2.0063062],\n",
       "       [2.3685029, 2.3661418],\n",
       "       [2.3923278, 2.3900604],\n",
       "       [2.148805 , 2.1490574],\n",
       "       [2.327493 , 2.326286 ],\n",
       "       [2.4351306, 2.4332676]], dtype=float32)"
      ]
     },
     "execution_count": 27,
     "metadata": {},
     "output_type": "execute_result"
    }
   ],
   "source": [
    "model.predict(X_val)"
   ]
  },
  {
   "cell_type": "code",
   "execution_count": 32,
   "id": "93f86446",
   "metadata": {},
   "outputs": [
    {
     "data": {
      "text/plain": [
       "<matplotlib.legend.Legend at 0x1d838594310>"
      ]
     },
     "execution_count": 32,
     "metadata": {},
     "output_type": "execute_result"
    },
    {
     "data": {
      "image/png": "[encoded data removed]",
      "text/plain": [
       "<Figure size 640x480 with 1 Axes>"
      ]
     },
     "metadata": {},
     "output_type": "display_data"
    }
   ],
   "source": [
    "plt.plot(history.history['loss'], label='training set')\n",
    "plt.plot(history.history['val_loss'], label='validation set')\n",
    "mse = np.min(history.history['val_loss'])\n",
    "plt.title('MSE: {}'.format(mse))\n",
    "plt.ylabel('loss function')\n",
    "plt.xlabel('epoch')\n",
    "plt.legend(['train', 'val'], loc='upper right')        "
   ]
  },
  {
   "cell_type": "code",
   "execution_count": null,
   "id": "363106e9",
   "metadata": {},
   "outputs": [],
   "source": [
    "# new_vector = np.array([0.7, 0.5, 0.6]).reshape(1,3)\n",
    "new_vector = np.array([0.7])\n",
    "prediction = network.predict(new_vector)\n",
    "\n",
    "\n",
    "print(\"Valor real: {}\".format(float(fn(new_vector))))\n",
    "print(\"Predicción: {}\".format(float(prediction)))"
   ]
  },
  {
   "cell_type": "markdown",
   "id": "a64f343c",
   "metadata": {},
   "source": [
    "## "
   ]
  }
 ],
 "metadata": {
  "kernelspec": {
   "display_name": "Python 3 (ipykernel)",
   "language": "python",
   "name": "python3"
  },
  "language_info": {
   "codemirror_mode": {
    "name": "ipython",
    "version": 3
   },
   "file_extension": ".py",
   "mimetype": "text/x-python",
   "name": "python",
   "nbconvert_exporter": "python",
   "pygments_lexer": "ipython3",
   "version": "3.9.13"
  }
 },
 "nbformat": 4,
 "nbformat_minor": 5
}
