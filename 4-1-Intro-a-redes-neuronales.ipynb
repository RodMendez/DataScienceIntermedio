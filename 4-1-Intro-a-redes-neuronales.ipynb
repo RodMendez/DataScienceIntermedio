{
  "cells": [
    {
      "cell_type": "markdown",
      "id": "3fc13412",
      "metadata": {
        "id": "3fc13412"
      },
      "source": [
        "## Redes neuronales\n",
        "\n",
        "![](https://raw.githubusercontent.com/igomezv/MACS_2021_neural_networks/main/figures/ANN.png)\n",
        "\n",
        "\n",
        "### Tipos de funciones de activación:\n",
        "Fuente: https://mlfromscratch.com/activation-functions-explained/#/\n",
        "![title](https://mlfromscratch.com/content/images/2019/12/activation-functions.gif)\n",
        "\n",
        "![](http://grupo.us.es/gtocoma/pid/pid10/RedesNeuronales_archivos/image041.jpg)\n",
        "\n",
        "\n",
        "### Funciones de pérdida:\n",
        "\n",
        "![](https://raw.githubusercontent.com/igomezv/DataScienceIntermedio/main/img/lossfn.png)\n",
        "Fuente: medium.com\n",
        "\n",
        "\n",
        "\n",
        "### Descenso del gradiente (intuición)\n",
        "\n",
        "- La deducción no es propósito de esta notebook, pero cada nuevo paso en busca de la minimización de la función de costo, obedece la siguiente regla:\n",
        "\n",
        "$ v -> v' = v - \\eta \\nabla C$, donde $v$ es $f(w, b)$ y $\\eta$ la tasa de aprendizaje (tamaño de paso, learning rate)\n",
        "\n",
        "- Se da un paso en dirección opuesta al gradiente hasta minimizar la función de costo.\n",
        "\n",
        "- Se le llama *backpropagation* al algoritmo que realiza esto iterativamente desde la última capa hasta la primera.\n",
        "\n",
        "Fuente: https://kevinbinz.com/2019/05/26/intro-gradient-descent/\n",
        "\n",
        "![title](https://kevinbinz.files.wordpress.com/2019/05/dualspace_explore.gif)\n",
        "\n",
        "- Se quiere encontrar (x,y) tal que sea un mínimo en la superficie (función de costo).\n",
        "\n",
        "Fuente: https://towardsdatascience.com/a-visual-explanation-of-gradient-descent-methods-momentum-adagrad-rmsprop-adam-f898b102325c\n",
        "\n",
        "![title](https://miro.medium.com/max/819/1*hUd744hDEEGx0-ypWGhrkw.gif)\n",
        "\n",
        "\n",
        "![title](https://raw.githubusercontent.com/igomezv/MACS_2021_ML_basics_neural_networks/main/figures/approxTheorem.png)\n",
        "\n",
        "\n",
        "\n",
        "### Algunos tipos de redes neuronales\n",
        "Fuente: https://www.asimovinstitute.org/neural-network-zoo/\n",
        "<div>\n",
        "    <img src=\"https://www.asimovinstitute.org/wp-content/uploads/2019/04/NeuralNetworkZoo20042019.png\", width=\"500\">\n",
        "</div>\n",
        "\n",
        "## 1. Construyamos una red neuronal con keras para regresión"
      ]
    },
    {
      "cell_type": "code",
      "execution_count": 1,
      "id": "46e8b654",
      "metadata": {
        "id": "46e8b654"
      },
      "outputs": [],
      "source": [
        "import tensorflow.keras as K\n",
        "import numpy as np\n",
        "import matplotlib.pyplot as plt\n",
        "from sklearn.preprocessing import StandardScaler\n",
        "from tensorflow.keras.models import Sequential\n",
        "from tensorflow.keras.layers import Dense, Activation, Dropout\n",
        "from tensorflow.keras.utils import to_categorical, plot_model\n",
        "import pandas as pd\n",
        "import seaborn as sns\n",
        "# from sklearn.preprocessing import OneHotEncoder"
      ]
    },
    {
      "cell_type": "markdown",
      "id": "afac7ea4",
      "metadata": {
        "id": "afac7ea4"
      },
      "source": [
        "#### Analicemos si una red neuronal puede aprender las siguientes tres funciones:\n",
        "\n",
        "* $line(x) = 2x+3$\n",
        "* $quadratic(x) = x^2 +2$\n",
        "* $quadtres(x_1,x_2,x_3) = x_1^2 + 2x_2 + x_3$"
      ]
    },
    {
      "cell_type": "code",
      "execution_count": 2,
      "id": "0e5d8c91",
      "metadata": {
        "id": "0e5d8c91"
      },
      "outputs": [],
      "source": [
        "def line(x):\n",
        "    return 2*x + 3 + 0.05\n",
        "\n",
        "def quadratic(x):\n",
        "    return x**2 + 2 + 0.001\n",
        "\n",
        "def quadtres(x):\n",
        "    y = np.zeros(len(x))\n",
        "    for i in range(len(x)):\n",
        "        y[i] = x[i, 0]**2 + 2*x[i, 1] + x[i, 2]\n",
        "    return y"
      ]
    },
    {
      "cell_type": "code",
      "execution_count": 3,
      "id": "ce071917",
      "metadata": {
        "id": "ce071917",
        "outputId": "ef75ff37-d568-4355-f32c-6779dd2adcf2",
        "colab": {
          "base_uri": "https://localhost:8080/",
          "height": 206
        }
      },
      "outputs": [
        {
          "output_type": "execute_result",
          "data": {
            "text/plain": [
              "      $x_1$     $x_2$     $x_3$         y\n",
              "0  0.405049  0.341738  0.591545  1.665039\n",
              "1  0.371760  0.675579  0.947478  2.519690\n",
              "2  0.604489  0.121006  0.745704  1.109973\n",
              "3  0.209764  0.991282  0.574617  2.584638\n",
              "4  0.555482  0.971637  0.023570  2.221769"
            ],
            "text/html": [
              "\n",
              "  <div id=\"df-de4f279c-cfd0-4e24-aa20-636ed3d2e889\" class=\"colab-df-container\">\n",
              "    <div>\n",
              "<style scoped>\n",
              "    .dataframe tbody tr th:only-of-type {\n",
              "        vertical-align: middle;\n",
              "    }\n",
              "\n",
              "    .dataframe tbody tr th {\n",
              "        vertical-align: top;\n",
              "    }\n",
              "\n",
              "    .dataframe thead th {\n",
              "        text-align: right;\n",
              "    }\n",
              "</style>\n",
              "<table border=\"1\" class=\"dataframe\">\n",
              "  <thead>\n",
              "    <tr style=\"text-align: right;\">\n",
              "      <th></th>\n",
              "      <th>$x_1$</th>\n",
              "      <th>$x_2$</th>\n",
              "      <th>$x_3$</th>\n",
              "      <th>y</th>\n",
              "    </tr>\n",
              "  </thead>\n",
              "  <tbody>\n",
              "    <tr>\n",
              "      <th>0</th>\n",
              "      <td>0.405049</td>\n",
              "      <td>0.341738</td>\n",
              "      <td>0.591545</td>\n",
              "      <td>1.665039</td>\n",
              "    </tr>\n",
              "    <tr>\n",
              "      <th>1</th>\n",
              "      <td>0.371760</td>\n",
              "      <td>0.675579</td>\n",
              "      <td>0.947478</td>\n",
              "      <td>2.519690</td>\n",
              "    </tr>\n",
              "    <tr>\n",
              "      <th>2</th>\n",
              "      <td>0.604489</td>\n",
              "      <td>0.121006</td>\n",
              "      <td>0.745704</td>\n",
              "      <td>1.109973</td>\n",
              "    </tr>\n",
              "    <tr>\n",
              "      <th>3</th>\n",
              "      <td>0.209764</td>\n",
              "      <td>0.991282</td>\n",
              "      <td>0.574617</td>\n",
              "      <td>2.584638</td>\n",
              "    </tr>\n",
              "    <tr>\n",
              "      <th>4</th>\n",
              "      <td>0.555482</td>\n",
              "      <td>0.971637</td>\n",
              "      <td>0.023570</td>\n",
              "      <td>2.221769</td>\n",
              "    </tr>\n",
              "  </tbody>\n",
              "</table>\n",
              "</div>\n",
              "    <div class=\"colab-df-buttons\">\n",
              "\n",
              "  <div class=\"colab-df-container\">\n",
              "    <button class=\"colab-df-convert\" onclick=\"convertToInteractive('df-de4f279c-cfd0-4e24-aa20-636ed3d2e889')\"\n",
              "            title=\"Convert this dataframe to an interactive table.\"\n",
              "            style=\"display:none;\">\n",
              "\n",
              "  <svg xmlns=\"http://www.w3.org/2000/svg\" height=\"24px\" viewBox=\"0 -960 960 960\">\n",
              "    <path d=\"M120-120v-720h720v720H120Zm60-500h600v-160H180v160Zm220 220h160v-160H400v160Zm0 220h160v-160H400v160ZM180-400h160v-160H180v160Zm440 0h160v-160H620v160ZM180-180h160v-160H180v160Zm440 0h160v-160H620v160Z\"/>\n",
              "  </svg>\n",
              "    </button>\n",
              "\n",
              "  <style>\n",
              "    .colab-df-container {\n",
              "      display:flex;\n",
              "      gap: 12px;\n",
              "    }\n",
              "\n",
              "    .colab-df-convert {\n",
              "      background-color: #E8F0FE;\n",
              "      border: none;\n",
              "      border-radius: 50%;\n",
              "      cursor: pointer;\n",
              "      display: none;\n",
              "      fill: #1967D2;\n",
              "      height: 32px;\n",
              "      padding: 0 0 0 0;\n",
              "      width: 32px;\n",
              "    }\n",
              "\n",
              "    .colab-df-convert:hover {\n",
              "      background-color: #E2EBFA;\n",
              "      box-shadow: 0px 1px 2px rgba(60, 64, 67, 0.3), 0px 1px 3px 1px rgba(60, 64, 67, 0.15);\n",
              "      fill: #174EA6;\n",
              "    }\n",
              "\n",
              "    .colab-df-buttons div {\n",
              "      margin-bottom: 4px;\n",
              "    }\n",
              "\n",
              "    [theme=dark] .colab-df-convert {\n",
              "      background-color: #3B4455;\n",
              "      fill: #D2E3FC;\n",
              "    }\n",
              "\n",
              "    [theme=dark] .colab-df-convert:hover {\n",
              "      background-color: #434B5C;\n",
              "      box-shadow: 0px 1px 3px 1px rgba(0, 0, 0, 0.15);\n",
              "      filter: drop-shadow(0px 1px 2px rgba(0, 0, 0, 0.3));\n",
              "      fill: #FFFFFF;\n",
              "    }\n",
              "  </style>\n",
              "\n",
              "    <script>\n",
              "      const buttonEl =\n",
              "        document.querySelector('#df-de4f279c-cfd0-4e24-aa20-636ed3d2e889 button.colab-df-convert');\n",
              "      buttonEl.style.display =\n",
              "        google.colab.kernel.accessAllowed ? 'block' : 'none';\n",
              "\n",
              "      async function convertToInteractive(key) {\n",
              "        const element = document.querySelector('#df-de4f279c-cfd0-4e24-aa20-636ed3d2e889');\n",
              "        const dataTable =\n",
              "          await google.colab.kernel.invokeFunction('convertToInteractive',\n",
              "                                                    [key], {});\n",
              "        if (!dataTable) return;\n",
              "\n",
              "        const docLinkHtml = 'Like what you see? Visit the ' +\n",
              "          '<a target=\"_blank\" href=https://colab.research.google.com/notebooks/data_table.ipynb>data table notebook</a>'\n",
              "          + ' to learn more about interactive tables.';\n",
              "        element.innerHTML = '';\n",
              "        dataTable['output_type'] = 'display_data';\n",
              "        await google.colab.output.renderOutput(dataTable, element);\n",
              "        const docLink = document.createElement('div');\n",
              "        docLink.innerHTML = docLinkHtml;\n",
              "        element.appendChild(docLink);\n",
              "      }\n",
              "    </script>\n",
              "  </div>\n",
              "\n",
              "\n",
              "<div id=\"df-91039f24-3c22-486b-bbac-660863c8920f\">\n",
              "  <button class=\"colab-df-quickchart\" onclick=\"quickchart('df-91039f24-3c22-486b-bbac-660863c8920f')\"\n",
              "            title=\"Suggest charts.\"\n",
              "            style=\"display:none;\">\n",
              "\n",
              "<svg xmlns=\"http://www.w3.org/2000/svg\" height=\"24px\"viewBox=\"0 0 24 24\"\n",
              "     width=\"24px\">\n",
              "    <g>\n",
              "        <path d=\"M19 3H5c-1.1 0-2 .9-2 2v14c0 1.1.9 2 2 2h14c1.1 0 2-.9 2-2V5c0-1.1-.9-2-2-2zM9 17H7v-7h2v7zm4 0h-2V7h2v10zm4 0h-2v-4h2v4z\"/>\n",
              "    </g>\n",
              "</svg>\n",
              "  </button>\n",
              "\n",
              "<style>\n",
              "  .colab-df-quickchart {\n",
              "      --bg-color: #E8F0FE;\n",
              "      --fill-color: #1967D2;\n",
              "      --hover-bg-color: #E2EBFA;\n",
              "      --hover-fill-color: #174EA6;\n",
              "      --disabled-fill-color: #AAA;\n",
              "      --disabled-bg-color: #DDD;\n",
              "  }\n",
              "\n",
              "  [theme=dark] .colab-df-quickchart {\n",
              "      --bg-color: #3B4455;\n",
              "      --fill-color: #D2E3FC;\n",
              "      --hover-bg-color: #434B5C;\n",
              "      --hover-fill-color: #FFFFFF;\n",
              "      --disabled-bg-color: #3B4455;\n",
              "      --disabled-fill-color: #666;\n",
              "  }\n",
              "\n",
              "  .colab-df-quickchart {\n",
              "    background-color: var(--bg-color);\n",
              "    border: none;\n",
              "    border-radius: 50%;\n",
              "    cursor: pointer;\n",
              "    display: none;\n",
              "    fill: var(--fill-color);\n",
              "    height: 32px;\n",
              "    padding: 0;\n",
              "    width: 32px;\n",
              "  }\n",
              "\n",
              "  .colab-df-quickchart:hover {\n",
              "    background-color: var(--hover-bg-color);\n",
              "    box-shadow: 0 1px 2px rgba(60, 64, 67, 0.3), 0 1px 3px 1px rgba(60, 64, 67, 0.15);\n",
              "    fill: var(--button-hover-fill-color);\n",
              "  }\n",
              "\n",
              "  .colab-df-quickchart-complete:disabled,\n",
              "  .colab-df-quickchart-complete:disabled:hover {\n",
              "    background-color: var(--disabled-bg-color);\n",
              "    fill: var(--disabled-fill-color);\n",
              "    box-shadow: none;\n",
              "  }\n",
              "\n",
              "  .colab-df-spinner {\n",
              "    border: 2px solid var(--fill-color);\n",
              "    border-color: transparent;\n",
              "    border-bottom-color: var(--fill-color);\n",
              "    animation:\n",
              "      spin 1s steps(1) infinite;\n",
              "  }\n",
              "\n",
              "  @keyframes spin {\n",
              "    0% {\n",
              "      border-color: transparent;\n",
              "      border-bottom-color: var(--fill-color);\n",
              "      border-left-color: var(--fill-color);\n",
              "    }\n",
              "    20% {\n",
              "      border-color: transparent;\n",
              "      border-left-color: var(--fill-color);\n",
              "      border-top-color: var(--fill-color);\n",
              "    }\n",
              "    30% {\n",
              "      border-color: transparent;\n",
              "      border-left-color: var(--fill-color);\n",
              "      border-top-color: var(--fill-color);\n",
              "      border-right-color: var(--fill-color);\n",
              "    }\n",
              "    40% {\n",
              "      border-color: transparent;\n",
              "      border-right-color: var(--fill-color);\n",
              "      border-top-color: var(--fill-color);\n",
              "    }\n",
              "    60% {\n",
              "      border-color: transparent;\n",
              "      border-right-color: var(--fill-color);\n",
              "    }\n",
              "    80% {\n",
              "      border-color: transparent;\n",
              "      border-right-color: var(--fill-color);\n",
              "      border-bottom-color: var(--fill-color);\n",
              "    }\n",
              "    90% {\n",
              "      border-color: transparent;\n",
              "      border-bottom-color: var(--fill-color);\n",
              "    }\n",
              "  }\n",
              "</style>\n",
              "\n",
              "  <script>\n",
              "    async function quickchart(key) {\n",
              "      const quickchartButtonEl =\n",
              "        document.querySelector('#' + key + ' button');\n",
              "      quickchartButtonEl.disabled = true;  // To prevent multiple clicks.\n",
              "      quickchartButtonEl.classList.add('colab-df-spinner');\n",
              "      try {\n",
              "        const charts = await google.colab.kernel.invokeFunction(\n",
              "            'suggestCharts', [key], {});\n",
              "      } catch (error) {\n",
              "        console.error('Error during call to suggestCharts:', error);\n",
              "      }\n",
              "      quickchartButtonEl.classList.remove('colab-df-spinner');\n",
              "      quickchartButtonEl.classList.add('colab-df-quickchart-complete');\n",
              "    }\n",
              "    (() => {\n",
              "      let quickchartButtonEl =\n",
              "        document.querySelector('#df-91039f24-3c22-486b-bbac-660863c8920f button');\n",
              "      quickchartButtonEl.style.display =\n",
              "        google.colab.kernel.accessAllowed ? 'block' : 'none';\n",
              "    })();\n",
              "  </script>\n",
              "</div>\n",
              "    </div>\n",
              "  </div>\n"
            ]
          },
          "metadata": {},
          "execution_count": 3
        }
      ],
      "source": [
        "# Descomentar función para generar datos\n",
        "# fn = line\n",
        "# fn = quadratic\n",
        "fn = quadtres\n",
        "\n",
        "# Seleccionar número de puntos para el dataset\n",
        "npoints = 100\n",
        "ruido = 0.2*np.random.randn(npoints)\n",
        "\n",
        "# Generar X\n",
        "## para line y quadratic\n",
        "# X = np.random.randint(0, 10, npoints)\n",
        "###### para tercera opcion\n",
        "X = np.random.rand(npoints, 3)\n",
        "\n",
        "# Generar Y\n",
        "Y = fn(X)+ ruido\n",
        "\n",
        "# Ver tabla de datos\n",
        "## para line y quadratic\n",
        "# data =pd.DataFrame(zip(X,Y), columns=['x', 'y'])\n",
        "\n",
        "###### para quadtres\n",
        "data =pd.DataFrame(zip(X[:,0], X[:,1], X[:,2], Y), columns=['$x_1$', '$x_2$', '$x_3$', 'y'])\n",
        "\n",
        "\n",
        "data.head(5)"
      ]
    },
    {
      "cell_type": "code",
      "execution_count": 4,
      "id": "c08ea233",
      "metadata": {
        "id": "c08ea233",
        "outputId": "d2dd10f2-4e94-4164-e8af-15da2af3c495",
        "colab": {
          "base_uri": "https://localhost:8080/",
          "height": 447
        }
      },
      "outputs": [
        {
          "output_type": "execute_result",
          "data": {
            "text/plain": [
              "[<matplotlib.lines.Line2D at 0x789be576b6d0>]"
            ]
          },
          "metadata": {},
          "execution_count": 4
        },
        {
          "output_type": "display_data",
          "data": {
            "text/plain": [
              "<Figure size 640x480 with 1 Axes>"
            ],
            "image/png": "[encoded data removed]"
          },
          "metadata": {}
        }
      ],
      "source": [
        "# plt.scatter(X, Y)\n",
        "\n",
        "\n",
        "###### Descomentar para el tercer caso\n",
        "plt.plot(Y)"
      ]
    },
    {
      "cell_type": "code",
      "execution_count": 5,
      "id": "37d6d1df",
      "metadata": {
        "id": "37d6d1df"
      },
      "outputs": [],
      "source": [
        "from sklearn.model_selection import train_test_split\n",
        "\n",
        "scaler = StandardScaler()\n",
        "scaler.fit(X.reshape(-1,1))\n",
        "\n",
        "X_train, X_val = train_test_split(X, train_size=0.8, shuffle=True, random_state=1)\n",
        "Y_train, Y_val = train_test_split(Y, train_size=0.8, shuffle=True, random_state=1)\n",
        "# Comentar para el último ejemplo\n",
        "# X_train = scaler.transform(X_train.reshape(-1,1))\n",
        "# X_val = scaler.transform(X_val.reshape(-1,1))\n"
      ]
    },
    {
      "cell_type": "code",
      "execution_count": 6,
      "id": "2e9a8f63",
      "metadata": {
        "id": "2e9a8f63",
        "outputId": "d81763ea-8d4a-434a-c4c0-c54644e9dd57",
        "colab": {
          "base_uri": "https://localhost:8080/"
        }
      },
      "outputs": [
        {
          "output_type": "stream",
          "name": "stdout",
          "text": [
            "Model: \"sequential\"\n",
            "_________________________________________________________________\n",
            " Layer (type)                Output Shape              Param #   \n",
            "=================================================================\n",
            " dense (Dense)               (None, 100)               400       \n",
            "                                                                 \n",
            " dense_1 (Dense)             (None, 100)               10100     \n",
            "                                                                 \n",
            " dense_2 (Dense)             (None, 100)               10100     \n",
            "                                                                 \n",
            " dense_3 (Dense)             (None, 1)                 101       \n",
            "                                                                 \n",
            "=================================================================\n",
            "Total params: 20701 (80.86 KB)\n",
            "Trainable params: 20701 (80.86 KB)\n",
            "Non-trainable params: 0 (0.00 Byte)\n",
            "_________________________________________________________________\n"
          ]
        }
      ],
      "source": [
        "# Red neuronal\n",
        "model = Sequential()\n",
        "\n",
        "# n_input debe coincidir con el número de variables independientes,\n",
        "# atributos o columnas.\n",
        "# n_input = 1\n",
        "###### Para el tercer caso n_input = 3\n",
        "n_input = 3\n",
        "hidden_1 = 100\n",
        "hidden_2 = 100\n",
        "hidden_3 = 100\n",
        "# n_output debe coincidir con el número de variables\n",
        "# dependientes o etiquetas o clases.\n",
        "n_output = 1\n",
        "\n",
        "# Input layer and first hidden layer.\n",
        "# La primer linea es la única que requiere el input_dim y nos incluye\n",
        "# la capa de entrada y la primera capa oculta.\n",
        "model.add(K.layers.Dense(hidden_1, input_dim=n_input, activation='relu'))\n",
        "# Hidden layers\n",
        "model.add(K.layers.Dense(hidden_2, activation='relu'))\n",
        "model.add(K.layers.Dense(hidden_3, activation='relu'))\n",
        "# Output layer\n",
        "model.add(K.layers.Dense(n_output, activation='linear'))\n",
        "\n",
        "optimizer = K.optimizers.Adam(learning_rate=0.0001)\n",
        "\n",
        "# Se compila el modelo, eligiendo Optimizador y Función de pérdida.\n",
        "model.compile(optimizer=optimizer, loss='mean_squared_error')\n",
        "model.summary()\n",
        "\n",
        "# callbacks = [K.callbacks.EarlyStopping(monitor='val_loss', mode='min',\n",
        "#                                        min_delta=0.0,\n",
        "#                                        patience=2,\n",
        "#                                        restore_best_weights=True)]"
      ]
    },
    {
      "cell_type": "code",
      "execution_count": 7,
      "id": "161b4c34",
      "metadata": {
        "id": "161b4c34",
        "outputId": "da5f7756-0270-449d-f2be-52837c28a801",
        "colab": {
          "base_uri": "https://localhost:8080/"
        }
      },
      "outputs": [
        {
          "output_type": "stream",
          "name": "stdout",
          "text": [
            "Epoch 1/200\n",
            "5/5 [==============================] - 3s 128ms/step - loss: 3.7926 - val_loss: 3.3093\n",
            "Epoch 2/200\n",
            "5/5 [==============================] - 0s 20ms/step - loss: 3.7022 - val_loss: 3.2281\n",
            "Epoch 3/200\n",
            "5/5 [==============================] - 0s 17ms/step - loss: 3.6148 - val_loss: 3.1475\n",
            "Epoch 4/200\n",
            "5/5 [==============================] - 0s 30ms/step - loss: 3.5325 - val_loss: 3.0665\n",
            "Epoch 5/200\n",
            "5/5 [==============================] - 0s 42ms/step - loss: 3.4471 - val_loss: 2.9854\n",
            "Epoch 6/200\n",
            "5/5 [==============================] - 0s 29ms/step - loss: 3.3634 - val_loss: 2.9018\n",
            "Epoch 7/200\n",
            "5/5 [==============================] - 0s 20ms/step - loss: 3.2738 - val_loss: 2.8150\n",
            "Epoch 8/200\n",
            "5/5 [==============================] - 0s 22ms/step - loss: 3.1826 - val_loss: 2.7246\n",
            "Epoch 9/200\n",
            "5/5 [==============================] - 0s 23ms/step - loss: 3.0847 - val_loss: 2.6296\n",
            "Epoch 10/200\n",
            "5/5 [==============================] - 0s 19ms/step - loss: 2.9863 - val_loss: 2.5314\n",
            "Epoch 11/200\n",
            "5/5 [==============================] - 0s 19ms/step - loss: 2.8818 - val_loss: 2.4299\n",
            "Epoch 12/200\n",
            "5/5 [==============================] - 0s 30ms/step - loss: 2.7716 - val_loss: 2.3240\n",
            "Epoch 13/200\n",
            "5/5 [==============================] - 0s 29ms/step - loss: 2.6600 - val_loss: 2.2118\n",
            "Epoch 14/200\n",
            "5/5 [==============================] - 0s 33ms/step - loss: 2.5454 - val_loss: 2.0916\n",
            "Epoch 15/200\n",
            "5/5 [==============================] - 0s 48ms/step - loss: 2.4206 - val_loss: 1.9670\n",
            "Epoch 16/200\n",
            "5/5 [==============================] - 0s 33ms/step - loss: 2.2943 - val_loss: 1.8371\n",
            "Epoch 17/200\n",
            "5/5 [==============================] - 0s 21ms/step - loss: 2.1538 - val_loss: 1.7057\n",
            "Epoch 18/200\n",
            "5/5 [==============================] - 0s 20ms/step - loss: 2.0115 - val_loss: 1.5680\n",
            "Epoch 19/200\n",
            "5/5 [==============================] - 0s 25ms/step - loss: 1.8652 - val_loss: 1.4234\n",
            "Epoch 20/200\n",
            "5/5 [==============================] - 0s 26ms/step - loss: 1.7122 - val_loss: 1.2793\n",
            "Epoch 21/200\n",
            "5/5 [==============================] - 0s 35ms/step - loss: 1.5598 - val_loss: 1.1388\n",
            "Epoch 22/200\n",
            "5/5 [==============================] - 0s 22ms/step - loss: 1.4017 - val_loss: 1.0060\n",
            "Epoch 23/200\n",
            "5/5 [==============================] - 0s 32ms/step - loss: 1.2545 - val_loss: 0.8796\n",
            "Epoch 24/200\n",
            "5/5 [==============================] - 0s 39ms/step - loss: 1.1136 - val_loss: 0.7602\n",
            "Epoch 25/200\n",
            "5/5 [==============================] - 0s 26ms/step - loss: 0.9864 - val_loss: 0.6474\n",
            "Epoch 26/200\n",
            "5/5 [==============================] - 0s 21ms/step - loss: 0.8488 - val_loss: 0.5475\n",
            "Epoch 27/200\n",
            "5/5 [==============================] - 0s 29ms/step - loss: 0.7332 - val_loss: 0.4569\n",
            "Epoch 28/200\n",
            "5/5 [==============================] - 0s 49ms/step - loss: 0.6247 - val_loss: 0.3783\n",
            "Epoch 29/200\n",
            "5/5 [==============================] - 0s 21ms/step - loss: 0.5316 - val_loss: 0.3106\n",
            "Epoch 30/200\n",
            "5/5 [==============================] - 0s 24ms/step - loss: 0.4432 - val_loss: 0.2563\n",
            "Epoch 31/200\n",
            "5/5 [==============================] - 0s 19ms/step - loss: 0.3677 - val_loss: 0.2145\n",
            "Epoch 32/200\n",
            "5/5 [==============================] - 0s 21ms/step - loss: 0.3110 - val_loss: 0.1830\n",
            "Epoch 33/200\n",
            "5/5 [==============================] - 0s 25ms/step - loss: 0.2617 - val_loss: 0.1615\n",
            "Epoch 34/200\n",
            "5/5 [==============================] - 0s 31ms/step - loss: 0.2264 - val_loss: 0.1478\n",
            "Epoch 35/200\n",
            "5/5 [==============================] - 0s 30ms/step - loss: 0.1990 - val_loss: 0.1406\n",
            "Epoch 36/200\n",
            "5/5 [==============================] - 0s 22ms/step - loss: 0.1760 - val_loss: 0.1379\n",
            "Epoch 37/200\n",
            "5/5 [==============================] - 0s 43ms/step - loss: 0.1616 - val_loss: 0.1379\n",
            "Epoch 38/200\n",
            "5/5 [==============================] - 0s 50ms/step - loss: 0.1530 - val_loss: 0.1394\n",
            "Epoch 39/200\n",
            "5/5 [==============================] - 0s 46ms/step - loss: 0.1459 - val_loss: 0.1412\n",
            "Epoch 40/200\n",
            "5/5 [==============================] - 0s 20ms/step - loss: 0.1412 - val_loss: 0.1428\n",
            "Epoch 41/200\n",
            "5/5 [==============================] - 0s 21ms/step - loss: 0.1383 - val_loss: 0.1440\n",
            "Epoch 42/200\n",
            "5/5 [==============================] - 0s 25ms/step - loss: 0.1352 - val_loss: 0.1434\n",
            "Epoch 43/200\n",
            "5/5 [==============================] - 0s 37ms/step - loss: 0.1327 - val_loss: 0.1422\n",
            "Epoch 44/200\n",
            "5/5 [==============================] - 0s 21ms/step - loss: 0.1305 - val_loss: 0.1408\n",
            "Epoch 45/200\n",
            "5/5 [==============================] - 0s 21ms/step - loss: 0.1287 - val_loss: 0.1387\n",
            "Epoch 46/200\n",
            "5/5 [==============================] - 0s 27ms/step - loss: 0.1268 - val_loss: 0.1362\n",
            "Epoch 47/200\n",
            "5/5 [==============================] - 0s 22ms/step - loss: 0.1249 - val_loss: 0.1331\n",
            "Epoch 48/200\n",
            "5/5 [==============================] - 0s 46ms/step - loss: 0.1230 - val_loss: 0.1301\n",
            "Epoch 49/200\n",
            "5/5 [==============================] - 0s 27ms/step - loss: 0.1213 - val_loss: 0.1268\n",
            "Epoch 50/200\n",
            "5/5 [==============================] - 0s 26ms/step - loss: 0.1194 - val_loss: 0.1245\n",
            "Epoch 51/200\n",
            "5/5 [==============================] - 0s 16ms/step - loss: 0.1175 - val_loss: 0.1222\n",
            "Epoch 52/200\n",
            "5/5 [==============================] - 0s 19ms/step - loss: 0.1159 - val_loss: 0.1198\n",
            "Epoch 53/200\n",
            "5/5 [==============================] - 0s 23ms/step - loss: 0.1143 - val_loss: 0.1171\n",
            "Epoch 54/200\n",
            "5/5 [==============================] - 0s 20ms/step - loss: 0.1127 - val_loss: 0.1143\n",
            "Epoch 55/200\n",
            "5/5 [==============================] - 0s 18ms/step - loss: 0.1112 - val_loss: 0.1118\n",
            "Epoch 56/200\n",
            "5/5 [==============================] - 0s 29ms/step - loss: 0.1099 - val_loss: 0.1093\n",
            "Epoch 57/200\n",
            "5/5 [==============================] - 0s 37ms/step - loss: 0.1081 - val_loss: 0.1075\n",
            "Epoch 58/200\n",
            "5/5 [==============================] - 0s 33ms/step - loss: 0.1070 - val_loss: 0.1054\n",
            "Epoch 59/200\n",
            "5/5 [==============================] - 0s 40ms/step - loss: 0.1055 - val_loss: 0.1033\n",
            "Epoch 60/200\n",
            "5/5 [==============================] - 0s 31ms/step - loss: 0.1041 - val_loss: 0.1015\n",
            "Epoch 61/200\n",
            "5/5 [==============================] - 0s 22ms/step - loss: 0.1031 - val_loss: 0.0998\n",
            "Epoch 62/200\n",
            "5/5 [==============================] - 0s 28ms/step - loss: 0.1016 - val_loss: 0.0981\n",
            "Epoch 63/200\n",
            "5/5 [==============================] - 0s 28ms/step - loss: 0.1004 - val_loss: 0.0961\n",
            "Epoch 64/200\n",
            "5/5 [==============================] - 0s 19ms/step - loss: 0.0992 - val_loss: 0.0942\n",
            "Epoch 65/200\n",
            "5/5 [==============================] - 0s 23ms/step - loss: 0.0982 - val_loss: 0.0927\n",
            "Epoch 66/200\n",
            "5/5 [==============================] - 0s 19ms/step - loss: 0.0970 - val_loss: 0.0913\n",
            "Epoch 67/200\n",
            "5/5 [==============================] - 0s 30ms/step - loss: 0.0959 - val_loss: 0.0896\n",
            "Epoch 68/200\n",
            "5/5 [==============================] - 0s 38ms/step - loss: 0.0948 - val_loss: 0.0883\n",
            "Epoch 69/200\n",
            "5/5 [==============================] - 0s 18ms/step - loss: 0.0939 - val_loss: 0.0862\n",
            "Epoch 70/200\n",
            "5/5 [==============================] - 0s 22ms/step - loss: 0.0928 - val_loss: 0.0846\n",
            "Epoch 71/200\n",
            "5/5 [==============================] - 0s 22ms/step - loss: 0.0918 - val_loss: 0.0833\n",
            "Epoch 72/200\n",
            "5/5 [==============================] - 0s 22ms/step - loss: 0.0909 - val_loss: 0.0817\n",
            "Epoch 73/200\n",
            "5/5 [==============================] - 0s 27ms/step - loss: 0.0902 - val_loss: 0.0809\n",
            "Epoch 74/200\n",
            "5/5 [==============================] - 0s 39ms/step - loss: 0.0891 - val_loss: 0.0797\n",
            "Epoch 75/200\n",
            "5/5 [==============================] - 0s 30ms/step - loss: 0.0883 - val_loss: 0.0779\n",
            "Epoch 76/200\n",
            "5/5 [==============================] - 0s 43ms/step - loss: 0.0873 - val_loss: 0.0766\n",
            "Epoch 77/200\n",
            "5/5 [==============================] - 0s 25ms/step - loss: 0.0867 - val_loss: 0.0754\n",
            "Epoch 78/200\n",
            "5/5 [==============================] - 0s 44ms/step - loss: 0.0858 - val_loss: 0.0744\n",
            "Epoch 79/200\n",
            "5/5 [==============================] - 0s 56ms/step - loss: 0.0851 - val_loss: 0.0735\n",
            "Epoch 80/200\n",
            "5/5 [==============================] - 0s 58ms/step - loss: 0.0844 - val_loss: 0.0725\n",
            "Epoch 81/200\n",
            "5/5 [==============================] - 0s 66ms/step - loss: 0.0836 - val_loss: 0.0718\n",
            "Epoch 82/200\n",
            "5/5 [==============================] - 0s 31ms/step - loss: 0.0830 - val_loss: 0.0712\n",
            "Epoch 83/200\n",
            "5/5 [==============================] - 0s 48ms/step - loss: 0.0823 - val_loss: 0.0704\n",
            "Epoch 84/200\n",
            "5/5 [==============================] - 0s 19ms/step - loss: 0.0815 - val_loss: 0.0691\n",
            "Epoch 85/200\n",
            "5/5 [==============================] - 0s 20ms/step - loss: 0.0809 - val_loss: 0.0677\n",
            "Epoch 86/200\n",
            "5/5 [==============================] - 0s 39ms/step - loss: 0.0802 - val_loss: 0.0666\n",
            "Epoch 87/200\n",
            "5/5 [==============================] - 0s 36ms/step - loss: 0.0795 - val_loss: 0.0657\n",
            "Epoch 88/200\n",
            "5/5 [==============================] - 0s 28ms/step - loss: 0.0792 - val_loss: 0.0658\n",
            "Epoch 89/200\n",
            "5/5 [==============================] - 0s 31ms/step - loss: 0.0783 - val_loss: 0.0652\n",
            "Epoch 90/200\n",
            "5/5 [==============================] - 0s 23ms/step - loss: 0.0776 - val_loss: 0.0644\n",
            "Epoch 91/200\n",
            "5/5 [==============================] - 0s 38ms/step - loss: 0.0773 - val_loss: 0.0628\n",
            "Epoch 92/200\n",
            "5/5 [==============================] - 0s 28ms/step - loss: 0.0765 - val_loss: 0.0620\n",
            "Epoch 93/200\n",
            "5/5 [==============================] - 0s 25ms/step - loss: 0.0759 - val_loss: 0.0612\n",
            "Epoch 94/200\n",
            "5/5 [==============================] - 0s 33ms/step - loss: 0.0753 - val_loss: 0.0606\n",
            "Epoch 95/200\n",
            "5/5 [==============================] - 0s 20ms/step - loss: 0.0748 - val_loss: 0.0601\n",
            "Epoch 96/200\n",
            "5/5 [==============================] - 0s 23ms/step - loss: 0.0742 - val_loss: 0.0598\n",
            "Epoch 97/200\n",
            "5/5 [==============================] - 0s 25ms/step - loss: 0.0736 - val_loss: 0.0593\n",
            "Epoch 98/200\n",
            "5/5 [==============================] - 0s 16ms/step - loss: 0.0731 - val_loss: 0.0584\n",
            "Epoch 99/200\n",
            "5/5 [==============================] - 0s 22ms/step - loss: 0.0725 - val_loss: 0.0576\n",
            "Epoch 100/200\n",
            "5/5 [==============================] - 0s 27ms/step - loss: 0.0721 - val_loss: 0.0570\n",
            "Epoch 101/200\n",
            "5/5 [==============================] - 0s 21ms/step - loss: 0.0716 - val_loss: 0.0560\n",
            "Epoch 102/200\n",
            "5/5 [==============================] - 0s 33ms/step - loss: 0.0710 - val_loss: 0.0555\n",
            "Epoch 103/200\n",
            "5/5 [==============================] - 0s 24ms/step - loss: 0.0706 - val_loss: 0.0548\n",
            "Epoch 104/200\n",
            "5/5 [==============================] - 0s 23ms/step - loss: 0.0701 - val_loss: 0.0545\n",
            "Epoch 105/200\n",
            "5/5 [==============================] - 0s 38ms/step - loss: 0.0696 - val_loss: 0.0541\n",
            "Epoch 106/200\n",
            "5/5 [==============================] - 0s 33ms/step - loss: 0.0691 - val_loss: 0.0536\n",
            "Epoch 107/200\n",
            "5/5 [==============================] - 0s 52ms/step - loss: 0.0688 - val_loss: 0.0536\n",
            "Epoch 108/200\n",
            "5/5 [==============================] - 0s 52ms/step - loss: 0.0683 - val_loss: 0.0531\n",
            "Epoch 109/200\n",
            "5/5 [==============================] - 0s 64ms/step - loss: 0.0679 - val_loss: 0.0524\n",
            "Epoch 110/200\n",
            "5/5 [==============================] - 0s 72ms/step - loss: 0.0674 - val_loss: 0.0518\n",
            "Epoch 111/200\n",
            "5/5 [==============================] - 0s 41ms/step - loss: 0.0670 - val_loss: 0.0513\n",
            "Epoch 112/200\n",
            "5/5 [==============================] - 0s 33ms/step - loss: 0.0666 - val_loss: 0.0508\n",
            "Epoch 113/200\n",
            "5/5 [==============================] - 0s 46ms/step - loss: 0.0662 - val_loss: 0.0507\n",
            "Epoch 114/200\n",
            "5/5 [==============================] - 0s 39ms/step - loss: 0.0658 - val_loss: 0.0499\n",
            "Epoch 115/200\n",
            "5/5 [==============================] - 0s 42ms/step - loss: 0.0653 - val_loss: 0.0496\n",
            "Epoch 116/200\n",
            "5/5 [==============================] - 0s 47ms/step - loss: 0.0650 - val_loss: 0.0491\n",
            "Epoch 117/200\n",
            "5/5 [==============================] - 0s 59ms/step - loss: 0.0645 - val_loss: 0.0488\n",
            "Epoch 118/200\n",
            "5/5 [==============================] - 0s 47ms/step - loss: 0.0642 - val_loss: 0.0481\n",
            "Epoch 119/200\n",
            "5/5 [==============================] - 0s 19ms/step - loss: 0.0638 - val_loss: 0.0480\n",
            "Epoch 120/200\n",
            "5/5 [==============================] - 0s 26ms/step - loss: 0.0634 - val_loss: 0.0480\n",
            "Epoch 121/200\n",
            "5/5 [==============================] - 0s 20ms/step - loss: 0.0630 - val_loss: 0.0473\n",
            "Epoch 122/200\n",
            "5/5 [==============================] - 0s 30ms/step - loss: 0.0627 - val_loss: 0.0473\n",
            "Epoch 123/200\n",
            "5/5 [==============================] - 0s 20ms/step - loss: 0.0622 - val_loss: 0.0466\n",
            "Epoch 124/200\n",
            "5/5 [==============================] - 0s 31ms/step - loss: 0.0618 - val_loss: 0.0461\n",
            "Epoch 125/200\n",
            "5/5 [==============================] - 0s 28ms/step - loss: 0.0615 - val_loss: 0.0460\n",
            "Epoch 126/200\n",
            "5/5 [==============================] - 0s 24ms/step - loss: 0.0611 - val_loss: 0.0455\n",
            "Epoch 127/200\n",
            "5/5 [==============================] - 0s 20ms/step - loss: 0.0607 - val_loss: 0.0452\n",
            "Epoch 128/200\n",
            "5/5 [==============================] - 0s 24ms/step - loss: 0.0604 - val_loss: 0.0450\n",
            "Epoch 129/200\n",
            "5/5 [==============================] - 0s 17ms/step - loss: 0.0601 - val_loss: 0.0448\n",
            "Epoch 130/200\n",
            "5/5 [==============================] - 0s 22ms/step - loss: 0.0597 - val_loss: 0.0446\n",
            "Epoch 131/200\n",
            "5/5 [==============================] - 0s 18ms/step - loss: 0.0594 - val_loss: 0.0441\n",
            "Epoch 132/200\n",
            "5/5 [==============================] - 0s 15ms/step - loss: 0.0590 - val_loss: 0.0438\n",
            "Epoch 133/200\n",
            "5/5 [==============================] - 0s 11ms/step - loss: 0.0587 - val_loss: 0.0435\n",
            "Epoch 134/200\n",
            "5/5 [==============================] - 0s 10ms/step - loss: 0.0584 - val_loss: 0.0432\n",
            "Epoch 135/200\n",
            "5/5 [==============================] - 0s 11ms/step - loss: 0.0582 - val_loss: 0.0428\n",
            "Epoch 136/200\n",
            "5/5 [==============================] - 0s 16ms/step - loss: 0.0578 - val_loss: 0.0428\n",
            "Epoch 137/200\n",
            "5/5 [==============================] - 0s 14ms/step - loss: 0.0575 - val_loss: 0.0427\n",
            "Epoch 138/200\n",
            "5/5 [==============================] - 0s 11ms/step - loss: 0.0573 - val_loss: 0.0426\n",
            "Epoch 139/200\n",
            "5/5 [==============================] - 0s 11ms/step - loss: 0.0570 - val_loss: 0.0421\n",
            "Epoch 140/200\n",
            "5/5 [==============================] - 0s 14ms/step - loss: 0.0567 - val_loss: 0.0417\n",
            "Epoch 141/200\n",
            "5/5 [==============================] - 0s 16ms/step - loss: 0.0564 - val_loss: 0.0414\n",
            "Epoch 142/200\n",
            "5/5 [==============================] - 0s 15ms/step - loss: 0.0564 - val_loss: 0.0408\n",
            "Epoch 143/200\n",
            "5/5 [==============================] - 0s 10ms/step - loss: 0.0560 - val_loss: 0.0406\n",
            "Epoch 144/200\n",
            "5/5 [==============================] - 0s 10ms/step - loss: 0.0557 - val_loss: 0.0406\n",
            "Epoch 145/200\n",
            "5/5 [==============================] - 0s 10ms/step - loss: 0.0556 - val_loss: 0.0408\n",
            "Epoch 146/200\n",
            "5/5 [==============================] - 0s 14ms/step - loss: 0.0552 - val_loss: 0.0402\n",
            "Epoch 147/200\n",
            "5/5 [==============================] - 0s 10ms/step - loss: 0.0549 - val_loss: 0.0398\n",
            "Epoch 148/200\n",
            "5/5 [==============================] - 0s 10ms/step - loss: 0.0545 - val_loss: 0.0395\n",
            "Epoch 149/200\n",
            "5/5 [==============================] - 0s 12ms/step - loss: 0.0544 - val_loss: 0.0392\n",
            "Epoch 150/200\n",
            "5/5 [==============================] - 0s 14ms/step - loss: 0.0541 - val_loss: 0.0390\n",
            "Epoch 151/200\n",
            "5/5 [==============================] - 0s 10ms/step - loss: 0.0538 - val_loss: 0.0388\n",
            "Epoch 152/200\n",
            "5/5 [==============================] - 0s 12ms/step - loss: 0.0536 - val_loss: 0.0387\n",
            "Epoch 153/200\n",
            "5/5 [==============================] - 0s 15ms/step - loss: 0.0535 - val_loss: 0.0385\n",
            "Epoch 154/200\n",
            "5/5 [==============================] - 0s 16ms/step - loss: 0.0529 - val_loss: 0.0381\n",
            "Epoch 155/200\n",
            "5/5 [==============================] - 0s 11ms/step - loss: 0.0527 - val_loss: 0.0375\n",
            "Epoch 156/200\n",
            "5/5 [==============================] - 0s 10ms/step - loss: 0.0523 - val_loss: 0.0373\n",
            "Epoch 157/200\n",
            "5/5 [==============================] - 0s 14ms/step - loss: 0.0521 - val_loss: 0.0371\n",
            "Epoch 158/200\n",
            "5/5 [==============================] - 0s 10ms/step - loss: 0.0518 - val_loss: 0.0370\n",
            "Epoch 159/200\n",
            "5/5 [==============================] - 0s 10ms/step - loss: 0.0519 - val_loss: 0.0372\n",
            "Epoch 160/200\n",
            "5/5 [==============================] - 0s 11ms/step - loss: 0.0514 - val_loss: 0.0368\n",
            "Epoch 161/200\n",
            "5/5 [==============================] - 0s 11ms/step - loss: 0.0513 - val_loss: 0.0365\n",
            "Epoch 162/200\n",
            "5/5 [==============================] - 0s 10ms/step - loss: 0.0510 - val_loss: 0.0365\n",
            "Epoch 163/200\n",
            "5/5 [==============================] - 0s 15ms/step - loss: 0.0507 - val_loss: 0.0364\n",
            "Epoch 164/200\n",
            "5/5 [==============================] - 0s 15ms/step - loss: 0.0507 - val_loss: 0.0364\n",
            "Epoch 165/200\n",
            "5/5 [==============================] - 0s 15ms/step - loss: 0.0504 - val_loss: 0.0361\n",
            "Epoch 166/200\n",
            "5/5 [==============================] - 0s 15ms/step - loss: 0.0502 - val_loss: 0.0357\n",
            "Epoch 167/200\n",
            "5/5 [==============================] - 0s 14ms/step - loss: 0.0499 - val_loss: 0.0355\n",
            "Epoch 168/200\n",
            "5/5 [==============================] - 0s 11ms/step - loss: 0.0499 - val_loss: 0.0352\n",
            "Epoch 169/200\n",
            "5/5 [==============================] - 0s 11ms/step - loss: 0.0497 - val_loss: 0.0351\n",
            "Epoch 170/200\n",
            "5/5 [==============================] - 0s 10ms/step - loss: 0.0495 - val_loss: 0.0351\n",
            "Epoch 171/200\n",
            "5/5 [==============================] - 0s 12ms/step - loss: 0.0493 - val_loss: 0.0351\n",
            "Epoch 172/200\n",
            "5/5 [==============================] - 0s 11ms/step - loss: 0.0492 - val_loss: 0.0349\n",
            "Epoch 173/200\n",
            "5/5 [==============================] - 0s 14ms/step - loss: 0.0490 - val_loss: 0.0347\n",
            "Epoch 174/200\n",
            "5/5 [==============================] - 0s 13ms/step - loss: 0.0489 - val_loss: 0.0343\n",
            "Epoch 175/200\n",
            "5/5 [==============================] - 0s 11ms/step - loss: 0.0487 - val_loss: 0.0341\n",
            "Epoch 176/200\n",
            "5/5 [==============================] - 0s 11ms/step - loss: 0.0486 - val_loss: 0.0339\n",
            "Epoch 177/200\n",
            "5/5 [==============================] - 0s 15ms/step - loss: 0.0484 - val_loss: 0.0340\n",
            "Epoch 178/200\n",
            "5/5 [==============================] - 0s 10ms/step - loss: 0.0482 - val_loss: 0.0340\n",
            "Epoch 179/200\n",
            "5/5 [==============================] - 0s 10ms/step - loss: 0.0483 - val_loss: 0.0342\n",
            "Epoch 180/200\n",
            "5/5 [==============================] - 0s 10ms/step - loss: 0.0480 - val_loss: 0.0339\n",
            "Epoch 181/200\n",
            "5/5 [==============================] - 0s 15ms/step - loss: 0.0478 - val_loss: 0.0335\n",
            "Epoch 182/200\n",
            "5/5 [==============================] - 0s 16ms/step - loss: 0.0478 - val_loss: 0.0334\n",
            "Epoch 183/200\n",
            "5/5 [==============================] - 0s 15ms/step - loss: 0.0476 - val_loss: 0.0332\n",
            "Epoch 184/200\n",
            "5/5 [==============================] - 0s 12ms/step - loss: 0.0475 - val_loss: 0.0330\n",
            "Epoch 185/200\n",
            "5/5 [==============================] - 0s 10ms/step - loss: 0.0475 - val_loss: 0.0331\n",
            "Epoch 186/200\n",
            "5/5 [==============================] - 0s 14ms/step - loss: 0.0472 - val_loss: 0.0329\n",
            "Epoch 187/200\n",
            "5/5 [==============================] - 0s 11ms/step - loss: 0.0471 - val_loss: 0.0327\n",
            "Epoch 188/200\n",
            "5/5 [==============================] - 0s 11ms/step - loss: 0.0471 - val_loss: 0.0325\n",
            "Epoch 189/200\n",
            "5/5 [==============================] - 0s 14ms/step - loss: 0.0468 - val_loss: 0.0324\n",
            "Epoch 190/200\n",
            "5/5 [==============================] - 0s 11ms/step - loss: 0.0467 - val_loss: 0.0324\n",
            "Epoch 191/200\n",
            "5/5 [==============================] - 0s 17ms/step - loss: 0.0467 - val_loss: 0.0322\n",
            "Epoch 192/200\n",
            "5/5 [==============================] - 0s 11ms/step - loss: 0.0467 - val_loss: 0.0320\n",
            "Epoch 193/200\n",
            "5/5 [==============================] - 0s 16ms/step - loss: 0.0464 - val_loss: 0.0321\n",
            "Epoch 194/200\n",
            "5/5 [==============================] - 0s 11ms/step - loss: 0.0463 - val_loss: 0.0320\n",
            "Epoch 195/200\n",
            "5/5 [==============================] - 0s 15ms/step - loss: 0.0464 - val_loss: 0.0318\n",
            "Epoch 196/200\n",
            "5/5 [==============================] - 0s 15ms/step - loss: 0.0462 - val_loss: 0.0317\n",
            "Epoch 197/200\n",
            "5/5 [==============================] - 0s 15ms/step - loss: 0.0460 - val_loss: 0.0317\n",
            "Epoch 198/200\n",
            "5/5 [==============================] - 0s 11ms/step - loss: 0.0462 - val_loss: 0.0319\n",
            "Epoch 199/200\n",
            "5/5 [==============================] - 0s 10ms/step - loss: 0.0458 - val_loss: 0.0316\n",
            "Epoch 200/200\n",
            "5/5 [==============================] - 0s 11ms/step - loss: 0.0458 - val_loss: 0.0312\n"
          ]
        }
      ],
      "source": [
        "epochs = 200\n",
        "bs = 16\n",
        "\n",
        "history = model.fit(X_train, Y_train, validation_data=(X_val, Y_val),\n",
        "                    epochs=epochs, batch_size=bs)"
      ]
    },
    {
      "cell_type": "code",
      "execution_count": 8,
      "id": "253a471c",
      "metadata": {
        "id": "253a471c"
      },
      "outputs": [],
      "source": [
        "# nlayer = 2\n",
        "# weights, biases = model.layers[nlayer].get_weights()"
      ]
    },
    {
      "cell_type": "code",
      "execution_count": 9,
      "id": "820a721b",
      "metadata": {
        "id": "820a721b",
        "outputId": "30cdad51-f3aa-4b70-9d42-0105f80ec6d2",
        "colab": {
          "base_uri": "https://localhost:8080/",
          "height": 489
        }
      },
      "outputs": [
        {
          "output_type": "execute_result",
          "data": {
            "text/plain": [
              "<matplotlib.legend.Legend at 0x789bd07c2590>"
            ]
          },
          "metadata": {},
          "execution_count": 9
        },
        {
          "output_type": "display_data",
          "data": {
            "text/plain": [
              "<Figure size 640x480 with 1 Axes>"
            ],
            "image/png": "[encoded data removed]"
          },
          "metadata": {}
        }
      ],
      "source": [
        "plt.plot(history.history['loss'], label='training set')\n",
        "plt.plot(history.history['val_loss'], label='validation set')\n",
        "mse = np.min(history.history['val_loss'])\n",
        "plt.title('MSE: {}'.format(mse))\n",
        "plt.ylabel('loss function')\n",
        "plt.xlabel('epoch')\n",
        "plt.legend(['training', 'validation'], loc='upper right')"
      ]
    },
    {
      "cell_type": "markdown",
      "id": "c32914fc",
      "metadata": {
        "id": "c32914fc"
      },
      "source": [
        "**Revisar el comportamiento de las curvas de la función de pérdida:** https://machinelearningmastery.com/learning-curves-for-diagnosing-machine-learning-model-performance/"
      ]
    },
    {
      "cell_type": "code",
      "execution_count": 10,
      "id": "aa8dd548",
      "metadata": {
        "id": "aa8dd548",
        "outputId": "e55c9ed4-ee2c-4772-db58-c03d4d55c9d9",
        "colab": {
          "base_uri": "https://localhost:8080/"
        }
      },
      "outputs": [
        {
          "output_type": "stream",
          "name": "stdout",
          "text": [
            "1/1 [==============================] - 0s 89ms/step\n"
          ]
        }
      ],
      "source": [
        "Y_pred = model.predict(X_val)"
      ]
    },
    {
      "cell_type": "markdown",
      "id": "3cc51ecd",
      "metadata": {
        "id": "3cc51ecd"
      },
      "source": [
        "### Ejercicio: repetir los tres ejemplos y hacer predicciones de dos diferentes vectores para cada una de las tres funciones."
      ]
    },
    {
      "cell_type": "code",
      "execution_count": 11,
      "id": "f5208507",
      "metadata": {
        "id": "f5208507",
        "outputId": "21f1ab02-9aed-4b98-e0ad-f1f4fd644a97",
        "colab": {
          "base_uri": "https://localhost:8080/"
        }
      },
      "outputs": [
        {
          "output_type": "stream",
          "name": "stdout",
          "text": [
            "1/1 [==============================] - 0s 20ms/step\n",
            "Valor real: 1.1036000000000001\n",
            "Predicción: 1.035174012184143\n"
          ]
        },
        {
          "output_type": "execute_result",
          "data": {
            "text/plain": [
              "array([[1.035174]], dtype=float32)"
            ]
          },
          "metadata": {},
          "execution_count": 11
        }
      ],
      "source": [
        "# new_vector = np.array([0.7])\n",
        "new_vector = np.array([0.06, 0.5, 0.1]).reshape(1,-1)\n",
        "prediction = model.predict(new_vector)\n",
        "\n",
        "print(\"Valor real: {}\".format(float(fn(new_vector))))\n",
        "print(\"Predicción: {}\".format(float(prediction)))\n",
        "prediction"
      ]
    },
    {
      "cell_type": "code",
      "execution_count": 12,
      "id": "c8ac29e3",
      "metadata": {
        "id": "c8ac29e3",
        "outputId": "772cfb11-6bfc-4b6a-b16b-7edcddb5b930",
        "colab": {
          "base_uri": "https://localhost:8080/",
          "height": 466
        }
      },
      "outputs": [
        {
          "output_type": "execute_result",
          "data": {
            "text/plain": [
              "<matplotlib.legend.Legend at 0x789bd0870d00>"
            ]
          },
          "metadata": {},
          "execution_count": 12
        },
        {
          "output_type": "display_data",
          "data": {
            "text/plain": [
              "<Figure size 640x480 with 1 Axes>"
            ],
            "image/png": "[encoded data removed]"
          },
          "metadata": {}
        }
      ],
      "source": [
        "# # Graficar para los primeros dos casos\n",
        "# plt.scatter(X_val, Y_val, label='Función verdadera')\n",
        "# plt.scatter(X_val, Y_pred, label='Predicción de la red neuronal')\n",
        "\n",
        "### Descomentar siguientes dos para el tercer ejemplo.\n",
        "plt.plot(Y_val, label='Función verdadera')\n",
        "plt.plot(Y_pred, label='Predicción de la red neuronal')\n",
        "plt.xlabel(\"X\")\n",
        "plt.ylabel(\"Y\")\n",
        "plt.legend()"
      ]
    },
    {
      "cell_type": "markdown",
      "id": "3d203363",
      "metadata": {
        "id": "3d203363"
      },
      "source": [
        "## Clasificación con ANN"
      ]
    },
    {
      "cell_type": "code",
      "execution_count": 13,
      "id": "38ac3472",
      "metadata": {
        "id": "38ac3472",
        "outputId": "2879bda6-51e3-4d66-81de-e2856400b185",
        "colab": {
          "base_uri": "https://localhost:8080/"
        }
      },
      "outputs": [
        {
          "output_type": "stream",
          "name": "stdout",
          "text": [
            "Downloading data from https://storage.googleapis.com/tensorflow/tf-keras-datasets/mnist.npz\n",
            "11490434/11490434 [==============================] - 1s 0us/step\n",
            "Train labels:  {0: 5923, 1: 6742, 2: 5958, 3: 6131, 4: 5842, 5: 5421, 6: 5918, 7: 6265, 8: 5851, 9: 5949}\n",
            "\n",
            "Validation labels:  {0: 496, 1: 565, 2: 506, 3: 499, 4: 502, 5: 451, 6: 456, 7: 526, 8: 490, 9: 509}\n",
            "\n",
            "Test labels:  {0: 484, 1: 570, 2: 526, 3: 511, 4: 480, 5: 441, 6: 502, 7: 502, 8: 484, 9: 500}\n"
          ]
        }
      ],
      "source": [
        "# import dataset\n",
        "from keras.datasets import mnist\n",
        "\n",
        "# load dataset\n",
        "(x_train, y_train),(x_test, y_test) = mnist.load_data()\n",
        "\n",
        "x_test, x_val = train_test_split(x_test, test_size=0.5, random_state=0)\n",
        "y_test, y_val = train_test_split(y_test, test_size=0.5, random_state=0)\n",
        "\n",
        "# count the number of unique train labels\n",
        "unique, counts = np.unique(y_train, return_counts=True)\n",
        "print(\"Train labels: \", dict(zip(unique, counts)))\n",
        "\n",
        "# count the number of unique val labels\n",
        "unique, counts = np.unique(y_val, return_counts=True)\n",
        "print(\"\\nValidation labels: \", dict(zip(unique, counts)))\n",
        "\n",
        "# count the number of unique test labels\n",
        "unique, counts = np.unique(y_test, return_counts=True)\n",
        "print(\"\\nTest labels: \", dict(zip(unique, counts)))"
      ]
    },
    {
      "cell_type": "code",
      "execution_count": 14,
      "id": "a7ab3ba1",
      "metadata": {
        "id": "a7ab3ba1",
        "outputId": "cca16180-62f3-48a6-d4a8-cf24e56897d1",
        "colab": {
          "base_uri": "https://localhost:8080/",
          "height": 422
        }
      },
      "outputs": [
        {
          "output_type": "display_data",
          "data": {
            "text/plain": [
              "<Figure size 500x500 with 25 Axes>"
            ],
            "image/png": "[encoded data removed]"
          },
          "metadata": {}
        }
      ],
      "source": [
        "# sample 25 mnist digits from train dataset\n",
        "indexes = np.random.randint(0, x_train.shape[0], size=25)\n",
        "images = x_train[indexes]\n",
        "labels = y_train[indexes]\n",
        "\n",
        "# plot the 25 mnist digits\n",
        "plt.figure(figsize=(5,5))\n",
        "for i in range(len(indexes)):\n",
        "    plt.subplot(5, 5, i + 1)\n",
        "    image = images[i]\n",
        "    plt.imshow(image, cmap='gray')\n",
        "    plt.axis('off')\n",
        "\n",
        "plt.show()\n",
        "plt.savefig(\"mnist-samples.png\")\n",
        "plt.close('all')"
      ]
    },
    {
      "cell_type": "code",
      "execution_count": 15,
      "id": "a5d08152",
      "metadata": {
        "id": "a5d08152",
        "outputId": "a0b46543-4b65-4d92-b46a-f8daa93c9418",
        "colab": {
          "base_uri": "https://localhost:8080/"
        }
      },
      "outputs": [
        {
          "output_type": "execute_result",
          "data": {
            "text/plain": [
              "10"
            ]
          },
          "metadata": {},
          "execution_count": 15
        }
      ],
      "source": [
        "# compute the number of labels\n",
        "num_labels = len(np.unique(y_train))\n",
        "num_labels"
      ]
    },
    {
      "cell_type": "code",
      "execution_count": 16,
      "id": "9a0efe77",
      "metadata": {
        "id": "9a0efe77",
        "outputId": "3822eb3f-a9f6-42a8-db8e-edcf89bb4b0d",
        "colab": {
          "base_uri": "https://localhost:8080/"
        }
      },
      "outputs": [
        {
          "output_type": "execute_result",
          "data": {
            "text/plain": [
              "array([5, 2, 9, ..., 1, 1, 6], dtype=uint8)"
            ]
          },
          "metadata": {},
          "execution_count": 16
        }
      ],
      "source": [
        "y_test"
      ]
    },
    {
      "cell_type": "code",
      "execution_count": 17,
      "id": "cfaafa20",
      "metadata": {
        "id": "cfaafa20",
        "outputId": "3cb784bb-dad1-46ce-da6d-eabf07ca69cb",
        "colab": {
          "base_uri": "https://localhost:8080/"
        }
      },
      "outputs": [
        {
          "output_type": "execute_result",
          "data": {
            "text/plain": [
              "((60000,), (5000,))"
            ]
          },
          "metadata": {},
          "execution_count": 17
        }
      ],
      "source": [
        "np.shape(y_train), np.shape(y_test)"
      ]
    },
    {
      "cell_type": "code",
      "execution_count": 18,
      "id": "16c25d0c",
      "metadata": {
        "id": "16c25d0c"
      },
      "outputs": [],
      "source": [
        "# convert to one-hot vector\n",
        "y_train = to_categorical(y_train)\n",
        "y_test = to_categorical(y_test)\n",
        "y_val = to_categorical(y_val)"
      ]
    },
    {
      "cell_type": "code",
      "execution_count": 19,
      "id": "2fdaf923",
      "metadata": {
        "id": "2fdaf923",
        "outputId": "92185df0-be22-42b9-e0d7-0838bb94e94a",
        "colab": {
          "base_uri": "https://localhost:8080/"
        }
      },
      "outputs": [
        {
          "output_type": "execute_result",
          "data": {
            "text/plain": [
              "array([[0., 0., 0., ..., 0., 0., 0.],\n",
              "       [0., 0., 1., ..., 0., 0., 0.],\n",
              "       [0., 0., 0., ..., 0., 0., 1.],\n",
              "       ...,\n",
              "       [0., 1., 0., ..., 0., 0., 0.],\n",
              "       [0., 1., 0., ..., 0., 0., 0.],\n",
              "       [0., 0., 0., ..., 0., 0., 0.]], dtype=float32)"
            ]
          },
          "metadata": {},
          "execution_count": 19
        }
      ],
      "source": [
        "y_test"
      ]
    },
    {
      "cell_type": "code",
      "execution_count": 20,
      "id": "409bf56c",
      "metadata": {
        "id": "409bf56c",
        "outputId": "628e1d46-ba7b-4838-ba29-a3d446fec9e9",
        "colab": {
          "base_uri": "https://localhost:8080/"
        }
      },
      "outputs": [
        {
          "output_type": "execute_result",
          "data": {
            "text/plain": [
              "((60000, 10), (5000, 10))"
            ]
          },
          "metadata": {},
          "execution_count": 20
        }
      ],
      "source": [
        "np.shape(y_train), np.shape(y_test)"
      ]
    },
    {
      "cell_type": "code",
      "execution_count": 21,
      "id": "2f7ab74d",
      "metadata": {
        "id": "2f7ab74d",
        "outputId": "a49fceb6-0750-4f6c-946c-222fca88922e",
        "colab": {
          "base_uri": "https://localhost:8080/"
        }
      },
      "outputs": [
        {
          "output_type": "execute_result",
          "data": {
            "text/plain": [
              "784"
            ]
          },
          "metadata": {},
          "execution_count": 21
        }
      ],
      "source": [
        "# image dimensions (assumed square)\n",
        "image_size = x_train.shape[1]\n",
        "input_size = image_size * image_size\n",
        "input_size"
      ]
    },
    {
      "cell_type": "code",
      "execution_count": 22,
      "id": "8e031e02",
      "metadata": {
        "id": "8e031e02"
      },
      "outputs": [],
      "source": [
        "# resize and normalize\n",
        "x_train = np.reshape(x_train, [-1, input_size])\n",
        "x_train = x_train.astype('float32') / 255\n",
        "x_test = np.reshape(x_test, [-1, input_size])\n",
        "x_test = x_test.astype('float32') / 255\n",
        "x_val = np.reshape(x_val, [-1, input_size])\n",
        "x_val = x_val.astype('float32') / 255"
      ]
    },
    {
      "cell_type": "markdown",
      "id": "661a71bc",
      "metadata": {
        "id": "661a71bc"
      },
      "source": [
        "#### Dropout\n",
        "\n",
        "![](https://raw.githubusercontent.com/igomezv/DataScienceIntermedio/main/img/dropout.gif)"
      ]
    },
    {
      "cell_type": "code",
      "execution_count": 23,
      "id": "a2100dda",
      "metadata": {
        "id": "a2100dda"
      },
      "outputs": [],
      "source": [
        "# network parameters\n",
        "batch_size = 128\n",
        "hidden_units = 50\n",
        "dropout = 0.1"
      ]
    },
    {
      "cell_type": "markdown",
      "id": "29830cfb",
      "metadata": {
        "id": "29830cfb"
      },
      "source": [
        "La función de activación softmax se usa para clasificación de varias etiquetas.\n",
        "\n",
        "$$P(y=j|x)=\\frac{e^{w^T_jx+b_j}}{\\sum_k e^{w^T_kx+b_k}}$$\n",
        "\n",
        "![](https://developers.google.com/static/machine-learning/crash-course/images/SoftmaxLayer.svg)\n",
        "Fuente: Google developers"
      ]
    },
    {
      "cell_type": "code",
      "execution_count": 24,
      "id": "2212ecc2",
      "metadata": {
        "id": "2212ecc2",
        "outputId": "4fdb187f-7ab8-408e-8a5d-b64c42082383",
        "colab": {
          "base_uri": "https://localhost:8080/"
        }
      },
      "outputs": [
        {
          "output_type": "stream",
          "name": "stdout",
          "text": [
            "Model: \"sequential_1\"\n",
            "_________________________________________________________________\n",
            " Layer (type)                Output Shape              Param #   \n",
            "=================================================================\n",
            " dense_4 (Dense)             (None, 50)                39250     \n",
            "                                                                 \n",
            " activation (Activation)     (None, 50)                0         \n",
            "                                                                 \n",
            " dropout (Dropout)           (None, 50)                0         \n",
            "                                                                 \n",
            " dense_5 (Dense)             (None, 50)                2550      \n",
            "                                                                 \n",
            " activation_1 (Activation)   (None, 50)                0         \n",
            "                                                                 \n",
            " dropout_1 (Dropout)         (None, 50)                0         \n",
            "                                                                 \n",
            " dense_6 (Dense)             (None, 10)                510       \n",
            "                                                                 \n",
            " activation_2 (Activation)   (None, 10)                0         \n",
            "                                                                 \n",
            "=================================================================\n",
            "Total params: 42310 (165.27 KB)\n",
            "Trainable params: 42310 (165.27 KB)\n",
            "Non-trainable params: 0 (0.00 Byte)\n",
            "_________________________________________________________________\n"
          ]
        }
      ],
      "source": [
        "# model is a 3-layer MLP with ReLU and dropout after each layer\n",
        "model = Sequential()\n",
        "model.add(Dense(hidden_units, input_dim=input_size))\n",
        "model.add(Activation('relu'))\n",
        "model.add(Dropout(dropout))\n",
        "model.add(Dense(hidden_units))\n",
        "model.add(Activation('relu'))\n",
        "model.add(Dropout(dropout))\n",
        "model.add(Dense(num_labels))\n",
        "model.add(Activation('softmax'))\n",
        "model.summary()"
      ]
    },
    {
      "cell_type": "markdown",
      "id": "ea6f056a",
      "metadata": {
        "id": "ea6f056a"
      },
      "source": [
        "##### Función de costo 'categorical cross entropy' para clasificación de varias etiquetas."
      ]
    },
    {
      "cell_type": "code",
      "execution_count": 25,
      "id": "4e6aa0a7",
      "metadata": {
        "id": "4e6aa0a7"
      },
      "outputs": [],
      "source": [
        "model.compile(loss='categorical_crossentropy',\n",
        "              optimizer='adam',\n",
        "              metrics=['accuracy'])"
      ]
    },
    {
      "cell_type": "code",
      "execution_count": 26,
      "id": "c00b57b9",
      "metadata": {
        "scrolled": true,
        "id": "c00b57b9",
        "outputId": "4a7bf64b-689f-4f41-b8f3-2e572348c7a7",
        "colab": {
          "base_uri": "https://localhost:8080/"
        }
      },
      "outputs": [
        {
          "output_type": "stream",
          "name": "stdout",
          "text": [
            "Epoch 1/100\n",
            "469/469 [==============================] - 3s 5ms/step - loss: 0.5300 - accuracy: 0.8432 - val_loss: 0.2093 - val_accuracy: 0.9348\n",
            "Epoch 2/100\n",
            "469/469 [==============================] - 2s 5ms/step - loss: 0.2455 - accuracy: 0.9278 - val_loss: 0.1515 - val_accuracy: 0.9500\n",
            "Epoch 3/100\n",
            "469/469 [==============================] - 3s 7ms/step - loss: 0.1918 - accuracy: 0.9413 - val_loss: 0.1234 - val_accuracy: 0.9594\n",
            "Epoch 4/100\n",
            "469/469 [==============================] - 2s 5ms/step - loss: 0.1583 - accuracy: 0.9512 - val_loss: 0.1117 - val_accuracy: 0.9650\n",
            "Epoch 5/100\n",
            "469/469 [==============================] - 2s 5ms/step - loss: 0.1388 - accuracy: 0.9583 - val_loss: 0.1014 - val_accuracy: 0.9696\n",
            "Epoch 6/100\n",
            "469/469 [==============================] - 2s 5ms/step - loss: 0.1264 - accuracy: 0.9614 - val_loss: 0.0928 - val_accuracy: 0.9722\n",
            "Epoch 7/100\n",
            "469/469 [==============================] - 2s 5ms/step - loss: 0.1142 - accuracy: 0.9646 - val_loss: 0.0917 - val_accuracy: 0.9734\n",
            "Epoch 8/100\n",
            "469/469 [==============================] - 3s 6ms/step - loss: 0.1071 - accuracy: 0.9664 - val_loss: 0.0852 - val_accuracy: 0.9728\n",
            "Epoch 9/100\n",
            "469/469 [==============================] - 2s 5ms/step - loss: 0.0992 - accuracy: 0.9682 - val_loss: 0.0825 - val_accuracy: 0.9746\n",
            "Epoch 10/100\n",
            "469/469 [==============================] - 2s 5ms/step - loss: 0.0912 - accuracy: 0.9704 - val_loss: 0.0834 - val_accuracy: 0.9754\n",
            "Epoch 11/100\n",
            "469/469 [==============================] - 2s 5ms/step - loss: 0.0888 - accuracy: 0.9713 - val_loss: 0.0819 - val_accuracy: 0.9780\n",
            "Epoch 12/100\n",
            "469/469 [==============================] - 2s 5ms/step - loss: 0.0826 - accuracy: 0.9730 - val_loss: 0.0796 - val_accuracy: 0.9780\n",
            "Epoch 13/100\n",
            "469/469 [==============================] - 2s 5ms/step - loss: 0.0811 - accuracy: 0.9734 - val_loss: 0.0830 - val_accuracy: 0.9752\n",
            "Epoch 14/100\n",
            "469/469 [==============================] - 3s 6ms/step - loss: 0.0794 - accuracy: 0.9740 - val_loss: 0.0755 - val_accuracy: 0.9782\n",
            "Epoch 15/100\n",
            "469/469 [==============================] - 2s 5ms/step - loss: 0.0716 - accuracy: 0.9766 - val_loss: 0.0785 - val_accuracy: 0.9756\n",
            "Epoch 16/100\n",
            "469/469 [==============================] - 2s 5ms/step - loss: 0.0718 - accuracy: 0.9766 - val_loss: 0.0786 - val_accuracy: 0.9786\n",
            "Epoch 17/100\n",
            "469/469 [==============================] - 2s 5ms/step - loss: 0.0684 - accuracy: 0.9782 - val_loss: 0.0745 - val_accuracy: 0.9796\n",
            "Epoch 18/100\n",
            "469/469 [==============================] - 2s 5ms/step - loss: 0.0644 - accuracy: 0.9788 - val_loss: 0.0763 - val_accuracy: 0.9774\n",
            "Epoch 19/100\n",
            "469/469 [==============================] - 3s 6ms/step - loss: 0.0650 - accuracy: 0.9793 - val_loss: 0.0783 - val_accuracy: 0.9792\n",
            "Epoch 20/100\n",
            "469/469 [==============================] - 2s 5ms/step - loss: 0.0609 - accuracy: 0.9801 - val_loss: 0.0815 - val_accuracy: 0.9778\n",
            "Epoch 21/100\n",
            "469/469 [==============================] - 2s 5ms/step - loss: 0.0597 - accuracy: 0.9796 - val_loss: 0.0836 - val_accuracy: 0.9768\n",
            "Epoch 22/100\n",
            "469/469 [==============================] - 2s 5ms/step - loss: 0.0613 - accuracy: 0.9797 - val_loss: 0.0810 - val_accuracy: 0.9778\n",
            "Epoch 23/100\n",
            "469/469 [==============================] - 3s 6ms/step - loss: 0.0573 - accuracy: 0.9806 - val_loss: 0.0845 - val_accuracy: 0.9778\n",
            "Epoch 24/100\n",
            "469/469 [==============================] - 3s 7ms/step - loss: 0.0563 - accuracy: 0.9813 - val_loss: 0.0851 - val_accuracy: 0.9770\n",
            "Epoch 25/100\n",
            "469/469 [==============================] - 2s 5ms/step - loss: 0.0553 - accuracy: 0.9811 - val_loss: 0.0853 - val_accuracy: 0.9784\n",
            "Epoch 26/100\n",
            "469/469 [==============================] - 2s 5ms/step - loss: 0.0526 - accuracy: 0.9826 - val_loss: 0.0855 - val_accuracy: 0.9764\n",
            "Epoch 27/100\n",
            "469/469 [==============================] - 2s 5ms/step - loss: 0.0509 - accuracy: 0.9830 - val_loss: 0.0870 - val_accuracy: 0.9784\n",
            "Epoch 28/100\n",
            "469/469 [==============================] - 2s 5ms/step - loss: 0.0487 - accuracy: 0.9840 - val_loss: 0.0865 - val_accuracy: 0.9794\n",
            "Epoch 29/100\n",
            "469/469 [==============================] - 3s 6ms/step - loss: 0.0525 - accuracy: 0.9822 - val_loss: 0.0873 - val_accuracy: 0.9764\n",
            "Epoch 30/100\n",
            "469/469 [==============================] - 3s 6ms/step - loss: 0.0495 - accuracy: 0.9830 - val_loss: 0.0843 - val_accuracy: 0.9790\n",
            "Epoch 31/100\n",
            "469/469 [==============================] - 2s 5ms/step - loss: 0.0502 - accuracy: 0.9830 - val_loss: 0.0908 - val_accuracy: 0.9776\n",
            "Epoch 32/100\n",
            "469/469 [==============================] - 2s 5ms/step - loss: 0.0476 - accuracy: 0.9839 - val_loss: 0.0906 - val_accuracy: 0.9776\n",
            "Epoch 33/100\n",
            "469/469 [==============================] - 2s 5ms/step - loss: 0.0470 - accuracy: 0.9840 - val_loss: 0.0869 - val_accuracy: 0.9768\n",
            "Epoch 34/100\n",
            "469/469 [==============================] - 2s 5ms/step - loss: 0.0479 - accuracy: 0.9840 - val_loss: 0.0884 - val_accuracy: 0.9780\n",
            "Epoch 35/100\n",
            "469/469 [==============================] - 3s 6ms/step - loss: 0.0448 - accuracy: 0.9851 - val_loss: 0.0861 - val_accuracy: 0.9776\n",
            "Epoch 36/100\n",
            "469/469 [==============================] - 2s 5ms/step - loss: 0.0441 - accuracy: 0.9850 - val_loss: 0.0919 - val_accuracy: 0.9776\n",
            "Epoch 37/100\n",
            "469/469 [==============================] - 2s 5ms/step - loss: 0.0477 - accuracy: 0.9836 - val_loss: 0.0988 - val_accuracy: 0.9768\n",
            "Epoch 38/100\n",
            "469/469 [==============================] - 2s 5ms/step - loss: 0.0442 - accuracy: 0.9850 - val_loss: 0.0840 - val_accuracy: 0.9794\n",
            "Epoch 39/100\n",
            "469/469 [==============================] - 2s 5ms/step - loss: 0.0418 - accuracy: 0.9859 - val_loss: 0.0942 - val_accuracy: 0.9762\n",
            "Epoch 40/100\n",
            "469/469 [==============================] - 3s 7ms/step - loss: 0.0419 - accuracy: 0.9859 - val_loss: 0.0935 - val_accuracy: 0.9772\n",
            "Epoch 41/100\n",
            "469/469 [==============================] - 2s 5ms/step - loss: 0.0414 - accuracy: 0.9855 - val_loss: 0.0938 - val_accuracy: 0.9788\n",
            "Epoch 42/100\n",
            "469/469 [==============================] - 2s 5ms/step - loss: 0.0427 - accuracy: 0.9853 - val_loss: 0.0844 - val_accuracy: 0.9786\n",
            "Epoch 43/100\n",
            "469/469 [==============================] - 3s 6ms/step - loss: 0.0404 - accuracy: 0.9863 - val_loss: 0.0914 - val_accuracy: 0.9786\n",
            "Epoch 44/100\n",
            "469/469 [==============================] - 3s 6ms/step - loss: 0.0409 - accuracy: 0.9855 - val_loss: 0.0899 - val_accuracy: 0.9802\n",
            "Epoch 45/100\n",
            "469/469 [==============================] - 3s 7ms/step - loss: 0.0399 - accuracy: 0.9862 - val_loss: 0.0902 - val_accuracy: 0.9792\n",
            "Epoch 46/100\n",
            "469/469 [==============================] - 2s 5ms/step - loss: 0.0398 - accuracy: 0.9867 - val_loss: 0.0929 - val_accuracy: 0.9780\n",
            "Epoch 47/100\n",
            "469/469 [==============================] - 2s 5ms/step - loss: 0.0390 - accuracy: 0.9871 - val_loss: 0.0915 - val_accuracy: 0.9796\n",
            "Epoch 48/100\n",
            "469/469 [==============================] - 2s 5ms/step - loss: 0.0393 - accuracy: 0.9869 - val_loss: 0.0946 - val_accuracy: 0.9784\n",
            "Epoch 49/100\n",
            "469/469 [==============================] - 2s 5ms/step - loss: 0.0386 - accuracy: 0.9871 - val_loss: 0.0902 - val_accuracy: 0.9792\n",
            "Epoch 50/100\n",
            "469/469 [==============================] - 3s 7ms/step - loss: 0.0396 - accuracy: 0.9866 - val_loss: 0.0922 - val_accuracy: 0.9768\n",
            "Epoch 51/100\n",
            "469/469 [==============================] - 2s 5ms/step - loss: 0.0386 - accuracy: 0.9869 - val_loss: 0.0927 - val_accuracy: 0.9798\n",
            "Epoch 52/100\n",
            "469/469 [==============================] - 2s 5ms/step - loss: 0.0365 - accuracy: 0.9876 - val_loss: 0.0941 - val_accuracy: 0.9774\n",
            "Epoch 53/100\n",
            "469/469 [==============================] - 2s 5ms/step - loss: 0.0384 - accuracy: 0.9866 - val_loss: 0.0950 - val_accuracy: 0.9782\n",
            "Epoch 54/100\n",
            "469/469 [==============================] - 2s 5ms/step - loss: 0.0377 - accuracy: 0.9869 - val_loss: 0.0972 - val_accuracy: 0.9768\n",
            "Epoch 55/100\n",
            "469/469 [==============================] - 3s 6ms/step - loss: 0.0360 - accuracy: 0.9875 - val_loss: 0.1000 - val_accuracy: 0.9780\n",
            "Epoch 56/100\n",
            "469/469 [==============================] - 2s 5ms/step - loss: 0.0367 - accuracy: 0.9876 - val_loss: 0.0919 - val_accuracy: 0.9782\n",
            "Epoch 57/100\n",
            "469/469 [==============================] - 2s 5ms/step - loss: 0.0339 - accuracy: 0.9886 - val_loss: 0.0910 - val_accuracy: 0.9802\n",
            "Epoch 58/100\n",
            "469/469 [==============================] - 2s 5ms/step - loss: 0.0370 - accuracy: 0.9878 - val_loss: 0.1000 - val_accuracy: 0.9780\n",
            "Epoch 59/100\n",
            "469/469 [==============================] - 2s 5ms/step - loss: 0.0351 - accuracy: 0.9882 - val_loss: 0.0981 - val_accuracy: 0.9780\n",
            "Epoch 60/100\n",
            "469/469 [==============================] - 3s 6ms/step - loss: 0.0349 - accuracy: 0.9880 - val_loss: 0.1073 - val_accuracy: 0.9768\n",
            "Epoch 61/100\n",
            "469/469 [==============================] - 3s 6ms/step - loss: 0.0347 - accuracy: 0.9883 - val_loss: 0.1001 - val_accuracy: 0.9772\n",
            "Epoch 62/100\n",
            "469/469 [==============================] - 2s 5ms/step - loss: 0.0328 - accuracy: 0.9890 - val_loss: 0.1053 - val_accuracy: 0.9770\n",
            "Epoch 63/100\n",
            "469/469 [==============================] - 2s 5ms/step - loss: 0.0334 - accuracy: 0.9889 - val_loss: 0.0993 - val_accuracy: 0.9792\n",
            "Epoch 64/100\n",
            "469/469 [==============================] - 2s 5ms/step - loss: 0.0340 - accuracy: 0.9888 - val_loss: 0.0992 - val_accuracy: 0.9792\n",
            "Epoch 65/100\n",
            "469/469 [==============================] - 2s 5ms/step - loss: 0.0333 - accuracy: 0.9891 - val_loss: 0.0996 - val_accuracy: 0.9806\n",
            "Epoch 66/100\n",
            "469/469 [==============================] - 3s 6ms/step - loss: 0.0344 - accuracy: 0.9884 - val_loss: 0.1066 - val_accuracy: 0.9780\n",
            "Epoch 67/100\n",
            "469/469 [==============================] - 2s 5ms/step - loss: 0.0334 - accuracy: 0.9891 - val_loss: 0.1004 - val_accuracy: 0.9772\n",
            "Epoch 68/100\n",
            "469/469 [==============================] - 2s 5ms/step - loss: 0.0324 - accuracy: 0.9892 - val_loss: 0.1069 - val_accuracy: 0.9770\n",
            "Epoch 69/100\n",
            "469/469 [==============================] - 2s 5ms/step - loss: 0.0328 - accuracy: 0.9889 - val_loss: 0.1003 - val_accuracy: 0.9790\n",
            "Epoch 70/100\n",
            "469/469 [==============================] - 2s 5ms/step - loss: 0.0323 - accuracy: 0.9896 - val_loss: 0.1066 - val_accuracy: 0.9770\n",
            "Epoch 71/100\n",
            "469/469 [==============================] - 3s 7ms/step - loss: 0.0333 - accuracy: 0.9888 - val_loss: 0.1053 - val_accuracy: 0.9780\n",
            "Epoch 72/100\n",
            "469/469 [==============================] - 2s 5ms/step - loss: 0.0314 - accuracy: 0.9895 - val_loss: 0.1161 - val_accuracy: 0.9770\n",
            "Epoch 73/100\n",
            "469/469 [==============================] - 2s 5ms/step - loss: 0.0319 - accuracy: 0.9890 - val_loss: 0.1027 - val_accuracy: 0.9774\n",
            "Epoch 74/100\n",
            "469/469 [==============================] - 2s 5ms/step - loss: 0.0307 - accuracy: 0.9892 - val_loss: 0.1049 - val_accuracy: 0.9778\n",
            "Epoch 75/100\n",
            "469/469 [==============================] - 2s 5ms/step - loss: 0.0322 - accuracy: 0.9894 - val_loss: 0.1052 - val_accuracy: 0.9786\n",
            "Epoch 76/100\n",
            "469/469 [==============================] - 3s 7ms/step - loss: 0.0322 - accuracy: 0.9891 - val_loss: 0.1025 - val_accuracy: 0.9782\n",
            "Epoch 77/100\n",
            "469/469 [==============================] - 2s 5ms/step - loss: 0.0339 - accuracy: 0.9888 - val_loss: 0.1054 - val_accuracy: 0.9772\n",
            "Epoch 78/100\n",
            "469/469 [==============================] - 2s 5ms/step - loss: 0.0315 - accuracy: 0.9898 - val_loss: 0.1022 - val_accuracy: 0.9782\n",
            "Epoch 79/100\n",
            "469/469 [==============================] - 2s 5ms/step - loss: 0.0285 - accuracy: 0.9906 - val_loss: 0.1090 - val_accuracy: 0.9788\n",
            "Epoch 80/100\n",
            "469/469 [==============================] - 2s 5ms/step - loss: 0.0309 - accuracy: 0.9890 - val_loss: 0.1066 - val_accuracy: 0.9796\n",
            "Epoch 81/100\n",
            "469/469 [==============================] - 3s 6ms/step - loss: 0.0319 - accuracy: 0.9894 - val_loss: 0.1032 - val_accuracy: 0.9776\n",
            "Epoch 82/100\n",
            "469/469 [==============================] - 3s 5ms/step - loss: 0.0313 - accuracy: 0.9895 - val_loss: 0.1134 - val_accuracy: 0.9782\n",
            "Epoch 83/100\n",
            "469/469 [==============================] - 2s 5ms/step - loss: 0.0326 - accuracy: 0.9895 - val_loss: 0.1129 - val_accuracy: 0.9770\n",
            "Epoch 84/100\n",
            "469/469 [==============================] - 2s 5ms/step - loss: 0.0301 - accuracy: 0.9902 - val_loss: 0.1042 - val_accuracy: 0.9774\n",
            "Epoch 85/100\n",
            "469/469 [==============================] - 2s 5ms/step - loss: 0.0314 - accuracy: 0.9895 - val_loss: 0.1071 - val_accuracy: 0.9796\n",
            "Epoch 86/100\n",
            "469/469 [==============================] - 3s 6ms/step - loss: 0.0272 - accuracy: 0.9902 - val_loss: 0.1103 - val_accuracy: 0.9782\n",
            "Epoch 87/100\n",
            "469/469 [==============================] - 3s 6ms/step - loss: 0.0296 - accuracy: 0.9897 - val_loss: 0.1070 - val_accuracy: 0.9786\n",
            "Epoch 88/100\n",
            "469/469 [==============================] - 2s 5ms/step - loss: 0.0319 - accuracy: 0.9894 - val_loss: 0.1113 - val_accuracy: 0.9778\n",
            "Epoch 89/100\n",
            "469/469 [==============================] - 2s 5ms/step - loss: 0.0294 - accuracy: 0.9903 - val_loss: 0.1133 - val_accuracy: 0.9778\n",
            "Epoch 90/100\n",
            "469/469 [==============================] - 2s 5ms/step - loss: 0.0285 - accuracy: 0.9905 - val_loss: 0.1104 - val_accuracy: 0.9792\n",
            "Epoch 91/100\n",
            "469/469 [==============================] - 3s 5ms/step - loss: 0.0298 - accuracy: 0.9901 - val_loss: 0.1154 - val_accuracy: 0.9778\n",
            "Epoch 92/100\n",
            "469/469 [==============================] - 3s 6ms/step - loss: 0.0286 - accuracy: 0.9904 - val_loss: 0.1170 - val_accuracy: 0.9768\n",
            "Epoch 93/100\n",
            "469/469 [==============================] - 2s 5ms/step - loss: 0.0284 - accuracy: 0.9900 - val_loss: 0.1218 - val_accuracy: 0.9776\n",
            "Epoch 94/100\n",
            "469/469 [==============================] - 2s 5ms/step - loss: 0.0294 - accuracy: 0.9902 - val_loss: 0.1187 - val_accuracy: 0.9776\n",
            "Epoch 95/100\n",
            "469/469 [==============================] - 2s 5ms/step - loss: 0.0267 - accuracy: 0.9912 - val_loss: 0.1186 - val_accuracy: 0.9794\n",
            "Epoch 96/100\n",
            "469/469 [==============================] - 2s 5ms/step - loss: 0.0288 - accuracy: 0.9901 - val_loss: 0.1197 - val_accuracy: 0.9784\n",
            "Epoch 97/100\n",
            "469/469 [==============================] - 3s 6ms/step - loss: 0.0279 - accuracy: 0.9905 - val_loss: 0.1150 - val_accuracy: 0.9784\n",
            "Epoch 98/100\n",
            "469/469 [==============================] - 2s 5ms/step - loss: 0.0295 - accuracy: 0.9903 - val_loss: 0.1248 - val_accuracy: 0.9760\n",
            "Epoch 99/100\n",
            "469/469 [==============================] - 2s 5ms/step - loss: 0.0261 - accuracy: 0.9917 - val_loss: 0.1155 - val_accuracy: 0.9788\n",
            "Epoch 100/100\n",
            "469/469 [==============================] - 2s 5ms/step - loss: 0.0285 - accuracy: 0.9905 - val_loss: 0.1247 - val_accuracy: 0.9752\n"
          ]
        }
      ],
      "source": [
        "history = model.fit(x_train, y_train, epochs=100, batch_size=batch_size, validation_data=(x_val, y_val))"
      ]
    },
    {
      "cell_type": "code",
      "execution_count": 27,
      "id": "645a14c1",
      "metadata": {
        "id": "645a14c1",
        "outputId": "16bea123-3ae4-409c-e161-4a2968f3927f",
        "colab": {
          "base_uri": "https://localhost:8080/",
          "height": 466
        }
      },
      "outputs": [
        {
          "output_type": "execute_result",
          "data": {
            "text/plain": [
              "<matplotlib.legend.Legend at 0x789c6fbbd5d0>"
            ]
          },
          "metadata": {},
          "execution_count": 27
        },
        {
          "output_type": "display_data",
          "data": {
            "text/plain": [
              "<Figure size 640x480 with 1 Axes>"
            ],
            "image/png": "[encoded data removed]"
          },
          "metadata": {}
        }
      ],
      "source": [
        "plt.plot(history.history['accuracy'], label='training')\n",
        "plt.plot(history.history['val_accuracy'], label='validation')\n",
        "plt.xlabel(\"Epochs\")\n",
        "plt.ylabel(\"Accuracy\")\n",
        "# plt.ylim(0.1, 1)\n",
        "plt.legend()"
      ]
    },
    {
      "cell_type": "code",
      "execution_count": 28,
      "id": "a1f6256d",
      "metadata": {
        "id": "a1f6256d",
        "outputId": "4b8395d0-d05b-42a8-9192-5cb336674550",
        "colab": {
          "base_uri": "https://localhost:8080/"
        }
      },
      "outputs": [
        {
          "output_type": "stream",
          "name": "stdout",
          "text": [
            "40/40 [==============================] - 0s 3ms/step - loss: 0.1333 - accuracy: 0.9720\n",
            "\n",
            "Test accuracy: 97.2%\n"
          ]
        }
      ],
      "source": [
        "loss, acc = model.evaluate(x_test, y_test, batch_size=batch_size)\n",
        "print(\"\\nTest accuracy: %.1f%%\" % (100.0 * acc))"
      ]
    },
    {
      "cell_type": "markdown",
      "id": "f15b1106",
      "metadata": {
        "id": "f15b1106"
      },
      "source": [
        "### Ejercicio:\n",
        "\n",
        "1. Calcular otras métricas.\n",
        "2. Describe el preprocesamiento de las imágenes para entrenar la red neuronal."
      ]
    },
    {
      "cell_type": "markdown",
      "id": "f6af6b98",
      "metadata": {
        "id": "f6af6b98"
      },
      "source": [
        "### Práctica:\n",
        "\n",
        "Diseñar y entrenar otra red neural para otro conjunto de datos, explicar si se trata de una regresión o clasificación. Sugerencia: para facilidad, usar el dataset iris.\n"
      ]
    },
    {
      "cell_type": "code",
      "execution_count": 28,
      "id": "5268f144",
      "metadata": {
        "id": "5268f144"
      },
      "outputs": [],
      "source": []
    },
    {
      "cell_type": "markdown",
      "id": "05669c8e",
      "metadata": {
        "id": "05669c8e"
      },
      "source": [
        "### Ejercicio:\n",
        "\n",
        "Visitar https://playground.tensorflow.org, resolver dos de las situaciones planteadas ahí para clasificación, describir y justificar los hiperparámetros elegidos."
      ]
    },
    {
      "cell_type": "code",
      "execution_count": 28,
      "id": "89e49cd0",
      "metadata": {
        "id": "89e49cd0"
      },
      "outputs": [],
      "source": []
    }
  ],
  "metadata": {
    "kernelspec": {
      "display_name": "Python 3 (ipykernel)",
      "language": "python",
      "name": "python3"
    },
    "language_info": {
      "codemirror_mode": {
        "name": "ipython",
        "version": 3
      },
      "file_extension": ".py",
      "mimetype": "text/x-python",
      "name": "python",
      "nbconvert_exporter": "python",
      "pygments_lexer": "ipython3",
      "version": "3.10.6"
    },
    "colab": {
      "provenance": []
    }
  },
  "nbformat": 4,
  "nbformat_minor": 5
}