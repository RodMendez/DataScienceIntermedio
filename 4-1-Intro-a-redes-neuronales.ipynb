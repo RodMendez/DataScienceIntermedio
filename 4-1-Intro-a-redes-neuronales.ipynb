{
 "cells": [
  {
   "cell_type": "markdown",
   "metadata": {},
   "source": [
    "## Redes neuronales\n",
    "\n",
    "![](https://raw.githubusercontent.com/igomezv/MACS_2021_neural_networks/main/figures/ANN.png)\n",
    "\n",
    "### Tipos de funciones de activación:\n",
    "Fuente: https://mlfromscratch.com/activation-functions-explained/#/\n",
    "![title](https://mlfromscratch.com/content/images/2019/12/activation-functions.gif)\n",
    "\n",
    "![](http://grupo.us.es/gtocoma/pid/pid10/RedesNeuronales_archivos/image041.jpg)\n",
    "\n",
    "### Descenso del gradiente (intuición)\n",
    "\n",
    "- La deducción no es propósito de esta notebook, pero cada nuevo paso en busca de la minimización de la función de costo, obedece la siguiente regla:\n",
    "\n",
    "$ v -> v' = v - \\eta \\nabla C$, donde $v$ es $f(w, b)$ y $\\eta$ la tasa de aprendizaje (tamaño de paso, learning rate)\n",
    "\n",
    "- Se da un paso en dirección opuesta al gradiente hasta minimizar la función de costo.\n",
    "\n",
    "- Se le llama *backpropagation* al algoritmo que realiza esto iterativamente desde la última capa hasta la primera.\n",
    "\n",
    "Fuente: https://kevinbinz.com/2019/05/26/intro-gradient-descent/\n",
    "\n",
    "![title](https://kevinbinz.files.wordpress.com/2019/05/dualspace_explore.gif)\n",
    "\n",
    "- Se quiere encontrar (x,y) tal que sea un mínimo en la superficie (función de costo).\n",
    "\n",
    "Fuente: https://towardsdatascience.com/a-visual-explanation-of-gradient-descent-methods-momentum-adagrad-rmsprop-adam-f898b102325c\n",
    "\n",
    "![title](https://miro.medium.com/max/819/1*hUd744hDEEGx0-ypWGhrkw.gif)\n",
    "\n",
    "\n",
    "![title](https://raw.githubusercontent.com/igomezv/MACS_2021_ML_basics_neural_networks/main/figures/approxTheorem.png)\n",
    "\n",
    "\n",
    "\n",
    "### Algunos tipos de redes neuronales\n",
    "Fuente: https://www.asimovinstitute.org/neural-network-zoo/\n",
    "<div>\n",
    "    <img src=\"https://www.asimovinstitute.org/wp-content/uploads/2019/04/NeuralNetworkZoo20042019.png\", width=\"500\">\n",
    "</div>\n",
    "\n",
    "## 1. Construyamos una red neuronal con keras para regresión"
   ]
  },
  {
   "cell_type": "code",
   "execution_count": 1,
   "metadata": {},
   "outputs": [],
   "source": [
    "import tensorflow.keras as K\n",
    "import numpy as np\n",
    "import matplotlib.pyplot as plt\n",
    "from sklearn.preprocessing import StandardScaler\n",
    "from tensorflow.keras.models import Sequential\n",
    "from tensorflow.keras.layers import Dense, Activation, Dropout\n",
    "from tensorflow.keras.utils import to_categorical, plot_model\n",
    "import pandas as pd\n",
    "import seaborn as sns\n",
    "# from sklearn.preprocessing import OneHotEncoder"
   ]
  },
  {
   "cell_type": "markdown",
   "metadata": {},
   "source": [
    "#### Analicemos si una red neuronal puede aprender las siguientes tres funciones:\n",
    "\n",
    "* $line(x) = 2x+3$\n",
    "* $quadratic(x) = x^2 +2$\n",
    "* $quadtres(x_1,x_2,x_3) = x_1^2 + 2x_2 + x_3$"
   ]
  },
  {
   "cell_type": "code",
   "execution_count": 2,
   "metadata": {},
   "outputs": [],
   "source": [
    "def line(x):\n",
    "    return 2*x + 3 + 0.05 * np.random.rand()\n",
    "\n",
    "def quadratic(x):\n",
    "    return x**2 + 2 + 0.001 * np.random.rand()\n",
    "\n",
    "def quadtres(x):\n",
    "    y = np.zeros(len(x))\n",
    "    for i in range(len(x)):\n",
    "        y[i] = x[i, 0]**2 + 2*x[i, 1] + x[i, 2]\n",
    "    return y"
   ]
  },
  {
   "cell_type": "code",
   "execution_count": 3,
   "metadata": {},
   "outputs": [
    {
     "data": {
      "text/html": [
       "<div>\n",
       "<style scoped>\n",
       "    .dataframe tbody tr th:only-of-type {\n",
       "        vertical-align: middle;\n",
       "    }\n",
       "\n",
       "    .dataframe tbody tr th {\n",
       "        vertical-align: top;\n",
       "    }\n",
       "\n",
       "    .dataframe thead th {\n",
       "        text-align: right;\n",
       "    }\n",
       "</style>\n",
       "<table border=\"1\" class=\"dataframe\">\n",
       "  <thead>\n",
       "    <tr style=\"text-align: right;\">\n",
       "      <th></th>\n",
       "      <th>x</th>\n",
       "      <th>y</th>\n",
       "    </tr>\n",
       "  </thead>\n",
       "  <tbody>\n",
       "    <tr>\n",
       "      <th>0</th>\n",
       "      <td>6</td>\n",
       "      <td>15.317766</td>\n",
       "    </tr>\n",
       "    <tr>\n",
       "      <th>1</th>\n",
       "      <td>0</td>\n",
       "      <td>3.181371</td>\n",
       "    </tr>\n",
       "  </tbody>\n",
       "</table>\n",
       "</div>"
      ],
      "text/plain": [
       "   x          y\n",
       "0  6  15.317766\n",
       "1  0   3.181371"
      ]
     },
     "execution_count": 3,
     "metadata": {},
     "output_type": "execute_result"
    }
   ],
   "source": [
    "# Descomentar función para generar datos\n",
    "fn = line\n",
    "# fn = quadratic\n",
    "# fn = quadtres\n",
    "\n",
    "# Seleccionar número de puntos para el dataset\n",
    "npoints = 100\n",
    "ruido = 0.2*np.random.randn(npoints)\n",
    "\n",
    "# Generar X\n",
    "## para line y quadratic\n",
    "X = np.random.randint(0, 10, npoints) \n",
    "###### para tercera opcion\n",
    "# X = np.random.rand(npoints, 3)\n",
    "\n",
    "# Generar Y\n",
    "Y = fn(X)+ ruido\n",
    "\n",
    "# Ver tabla de datos\n",
    "## para line y quadratic\n",
    "data =pd.DataFrame(zip(X,Y), columns=['x', 'y'])\n",
    "\n",
    "###### para quadtres\n",
    "# data =pd.DataFrame(zip(X[:,0], X[:,1], X[:,2], Y), columns=['$x_1$', '$x_2$', '$x_3$', 'y'])\n",
    "\n",
    "\n",
    "data.head(2)"
   ]
  },
  {
   "cell_type": "code",
   "execution_count": 4,
   "metadata": {},
   "outputs": [
    {
     "data": {
      "text/plain": [
       "<matplotlib.collections.PathCollection at 0x7ff7f17f6d90>"
      ]
     },
     "execution_count": 4,
     "metadata": {},
     "output_type": "execute_result"
    },
    {
     "data": {
      "image/png": "[encoded data removed]",
      "text/plain": [
       "<Figure size 432x288 with 1 Axes>"
      ]
     },
     "metadata": {
      "needs_background": "light"
     },
     "output_type": "display_data"
    }
   ],
   "source": [
    "plt.scatter(X, Y)\n",
    "\n",
    "\n",
    "###### Descomentar para el tercer caso\n",
    "#plt.plot(Y)    "
   ]
  },
  {
   "cell_type": "code",
   "execution_count": 5,
   "metadata": {},
   "outputs": [],
   "source": [
    "from sklearn.model_selection import train_test_split\n",
    "scaler = StandardScaler()\n",
    "scaler.fit(X.reshape(-1,1))\n",
    "\n",
    "X_train, X_val = train_test_split(X, train_size=0.8, shuffle=True, random_state=1)\n",
    "Y_train, Y_val = train_test_split(Y, train_size=0.8, shuffle=True, random_state=1)\n",
    "# Comentar para el último ejemplo\n",
    "# X_train = scaler.transform(X_train.reshape(-1,1))\n",
    "# X_val = scaler.transform(X_val.reshape(-1,1))\n"
   ]
  },
  {
   "cell_type": "code",
   "execution_count": 6,
   "metadata": {},
   "outputs": [
    {
     "name": "stdout",
     "output_type": "stream",
     "text": [
      "Model: \"sequential\"\n",
      "_________________________________________________________________\n",
      "Layer (type)                 Output Shape              Param #   \n",
      "=================================================================\n",
      "dense (Dense)                (None, 100)               200       \n",
      "_________________________________________________________________\n",
      "dense_1 (Dense)              (None, 200)               20200     \n",
      "_________________________________________________________________\n",
      "dense_2 (Dense)              (None, 100)               20100     \n",
      "_________________________________________________________________\n",
      "dense_3 (Dense)              (None, 1)                 101       \n",
      "=================================================================\n",
      "Total params: 40,601\n",
      "Trainable params: 40,601\n",
      "Non-trainable params: 0\n",
      "_________________________________________________________________\n"
     ]
    }
   ],
   "source": [
    "# Red neuronal\n",
    "model = K.models.Sequential()\n",
    "n_input = 1\n",
    "###### Para el tercer caso n_input = 3\n",
    "# n_input = 3\n",
    "hidden_1 = 100\n",
    "hidden_2 = 200\n",
    "hidden_3 =100\n",
    "n_output = 1\n",
    "\n",
    "# Input layer and first hidden layer.\n",
    "model.add(K.layers.Dense(hidden_1, input_dim=n_input, activation='relu'))\n",
    "# Hidden layers\n",
    "model.add(K.layers.Dense(hidden_2, activation='relu'))\n",
    "model.add(K.layers.Dense(hidden_3, activation='relu'))\n",
    "# Output layer\n",
    "model.add(K.layers.Dense(n_output, activation='linear'))\n",
    "optimizer = K.optimizers.Adam(learning_rate=0.0001)\n",
    "model.compile(optimizer=optimizer, loss='mean_squared_error')\n",
    "model.summary()\n",
    "\n",
    "callbacks = [K.callbacks.EarlyStopping(monitor='val_loss', mode='min',\n",
    "                                       min_delta=0.0,\n",
    "                                       patience=2,\n",
    "                                       restore_best_weights=True)]   "
   ]
  },
  {
   "cell_type": "code",
   "execution_count": 7,
   "metadata": {},
   "outputs": [
    {
     "name": "stdout",
     "output_type": "stream",
     "text": [
      "Epoch 1/100\n",
      "20/20 [==============================] - 0s 6ms/step - loss: 164.1308 - val_loss: 133.2516\n",
      "Epoch 2/100\n",
      "20/20 [==============================] - 0s 2ms/step - loss: 149.3940 - val_loss: 122.4395\n",
      "Epoch 3/100\n",
      "20/20 [==============================] - 0s 1ms/step - loss: 137.2473 - val_loss: 112.1810\n",
      "Epoch 4/100\n",
      "20/20 [==============================] - 0s 2ms/step - loss: 125.6359 - val_loss: 102.8374\n",
      "Epoch 5/100\n",
      "20/20 [==============================] - 0s 2ms/step - loss: 113.6983 - val_loss: 91.2659\n",
      "Epoch 6/100\n",
      "20/20 [==============================] - 0s 2ms/step - loss: 99.0767 - val_loss: 78.4603\n",
      "Epoch 7/100\n",
      "20/20 [==============================] - 0s 2ms/step - loss: 83.0714 - val_loss: 64.0776\n",
      "Epoch 8/100\n",
      "20/20 [==============================] - 0s 1ms/step - loss: 65.7434 - val_loss: 48.0777\n",
      "Epoch 9/100\n",
      "20/20 [==============================] - 0s 2ms/step - loss: 47.4009 - val_loss: 32.5515\n",
      "Epoch 10/100\n",
      "20/20 [==============================] - 0s 2ms/step - loss: 29.9288 - val_loss: 18.7395\n",
      "Epoch 11/100\n",
      "20/20 [==============================] - 0s 1ms/step - loss: 15.3636 - val_loss: 9.3493\n",
      "Epoch 12/100\n",
      "20/20 [==============================] - 0s 1ms/step - loss: 6.7986 - val_loss: 4.0151\n",
      "Epoch 13/100\n",
      "20/20 [==============================] - 0s 2ms/step - loss: 2.7932 - val_loss: 2.2435\n",
      "Epoch 14/100\n",
      "20/20 [==============================] - 0s 1ms/step - loss: 1.6538 - val_loss: 1.9355\n",
      "Epoch 15/100\n",
      "20/20 [==============================] - 0s 2ms/step - loss: 1.4954 - val_loss: 1.8968\n",
      "Epoch 16/100\n",
      "20/20 [==============================] - 0s 1ms/step - loss: 1.4722 - val_loss: 1.8633\n",
      "Epoch 17/100\n",
      "20/20 [==============================] - 0s 2ms/step - loss: 1.4472 - val_loss: 1.8285\n",
      "Epoch 18/100\n",
      "20/20 [==============================] - 0s 2ms/step - loss: 1.4199 - val_loss: 1.7906\n",
      "Epoch 19/100\n",
      "20/20 [==============================] - 0s 2ms/step - loss: 1.3906 - val_loss: 1.7530\n",
      "Epoch 20/100\n",
      "20/20 [==============================] - 0s 2ms/step - loss: 1.3630 - val_loss: 1.7173\n",
      "Epoch 21/100\n",
      "20/20 [==============================] - 0s 2ms/step - loss: 1.3373 - val_loss: 1.6780\n",
      "Epoch 22/100\n",
      "20/20 [==============================] - 0s 2ms/step - loss: 1.3244 - val_loss: 1.6444\n",
      "Epoch 23/100\n",
      "20/20 [==============================] - 0s 2ms/step - loss: 1.2840 - val_loss: 1.6051\n",
      "Epoch 24/100\n",
      "20/20 [==============================] - 0s 2ms/step - loss: 1.2543 - val_loss: 1.5684\n",
      "Epoch 25/100\n",
      "20/20 [==============================] - 0s 2ms/step - loss: 1.2255 - val_loss: 1.5332\n",
      "Epoch 26/100\n",
      "20/20 [==============================] - 0s 2ms/step - loss: 1.2009 - val_loss: 1.4976\n",
      "Epoch 27/100\n",
      "20/20 [==============================] - 0s 2ms/step - loss: 1.1737 - val_loss: 1.4586\n",
      "Epoch 28/100\n",
      "20/20 [==============================] - 0s 2ms/step - loss: 1.1440 - val_loss: 1.4206\n",
      "Epoch 29/100\n",
      "20/20 [==============================] - 0s 2ms/step - loss: 1.1188 - val_loss: 1.3851\n",
      "Epoch 30/100\n",
      "20/20 [==============================] - 0s 1ms/step - loss: 1.0886 - val_loss: 1.3497\n",
      "Epoch 31/100\n",
      "20/20 [==============================] - 0s 1ms/step - loss: 1.0671 - val_loss: 1.3103\n",
      "Epoch 32/100\n",
      "20/20 [==============================] - 0s 2ms/step - loss: 1.0373 - val_loss: 1.2770\n",
      "Epoch 33/100\n",
      "20/20 [==============================] - 0s 2ms/step - loss: 1.0187 - val_loss: 1.2383\n",
      "Epoch 34/100\n",
      "20/20 [==============================] - 0s 2ms/step - loss: 0.9831 - val_loss: 1.2073\n",
      "Epoch 35/100\n",
      "20/20 [==============================] - 0s 2ms/step - loss: 0.9618 - val_loss: 1.1662\n",
      "Epoch 36/100\n",
      "20/20 [==============================] - 0s 2ms/step - loss: 0.9271 - val_loss: 1.1316\n",
      "Epoch 37/100\n",
      "20/20 [==============================] - 0s 2ms/step - loss: 0.8995 - val_loss: 1.0970\n",
      "Epoch 38/100\n",
      "20/20 [==============================] - 0s 2ms/step - loss: 0.8760 - val_loss: 1.0621\n",
      "Epoch 39/100\n",
      "20/20 [==============================] - 0s 1ms/step - loss: 0.8510 - val_loss: 1.0264\n",
      "Epoch 40/100\n",
      "20/20 [==============================] - 0s 2ms/step - loss: 0.8292 - val_loss: 0.9909\n",
      "Epoch 41/100\n",
      "20/20 [==============================] - 0s 2ms/step - loss: 0.7978 - val_loss: 0.9572\n",
      "Epoch 42/100\n",
      "20/20 [==============================] - 0s 2ms/step - loss: 0.7751 - val_loss: 0.9265\n",
      "Epoch 43/100\n",
      "20/20 [==============================] - 0s 2ms/step - loss: 0.7537 - val_loss: 0.8876\n",
      "Epoch 44/100\n",
      "20/20 [==============================] - 0s 2ms/step - loss: 0.7173 - val_loss: 0.8576\n",
      "Epoch 45/100\n",
      "20/20 [==============================] - 0s 2ms/step - loss: 0.6933 - val_loss: 0.8266\n",
      "Epoch 46/100\n",
      "20/20 [==============================] - 0s 2ms/step - loss: 0.6675 - val_loss: 0.7915\n",
      "Epoch 47/100\n",
      "20/20 [==============================] - 0s 2ms/step - loss: 0.6508 - val_loss: 0.7565\n",
      "Epoch 48/100\n",
      "20/20 [==============================] - 0s 2ms/step - loss: 0.6169 - val_loss: 0.7280\n",
      "Epoch 49/100\n",
      "20/20 [==============================] - 0s 2ms/step - loss: 0.5900 - val_loss: 0.6894\n",
      "Epoch 50/100\n",
      "20/20 [==============================] - 0s 2ms/step - loss: 0.5686 - val_loss: 0.6573\n",
      "Epoch 51/100\n",
      "20/20 [==============================] - 0s 2ms/step - loss: 0.5456 - val_loss: 0.6263\n",
      "Epoch 52/100\n",
      "20/20 [==============================] - 0s 2ms/step - loss: 0.5173 - val_loss: 0.5966\n",
      "Epoch 53/100\n",
      "20/20 [==============================] - 0s 2ms/step - loss: 0.4951 - val_loss: 0.5680\n",
      "Epoch 54/100\n",
      "20/20 [==============================] - 0s 1ms/step - loss: 0.4747 - val_loss: 0.5367\n",
      "Epoch 55/100\n",
      "20/20 [==============================] - 0s 2ms/step - loss: 0.4503 - val_loss: 0.5098\n",
      "Epoch 56/100\n",
      "20/20 [==============================] - 0s 2ms/step - loss: 0.4326 - val_loss: 0.4862\n",
      "Epoch 57/100\n",
      "20/20 [==============================] - 0s 2ms/step - loss: 0.4072 - val_loss: 0.4574\n",
      "Epoch 58/100\n",
      "20/20 [==============================] - 0s 2ms/step - loss: 0.3912 - val_loss: 0.4301\n",
      "Epoch 59/100\n",
      "20/20 [==============================] - 0s 2ms/step - loss: 0.3695 - val_loss: 0.4058\n",
      "Epoch 60/100\n",
      "20/20 [==============================] - 0s 2ms/step - loss: 0.3505 - val_loss: 0.3819\n",
      "Epoch 61/100\n",
      "20/20 [==============================] - 0s 2ms/step - loss: 0.3329 - val_loss: 0.3603\n",
      "Epoch 62/100\n",
      "20/20 [==============================] - 0s 2ms/step - loss: 0.3155 - val_loss: 0.3344\n",
      "Epoch 63/100\n",
      "20/20 [==============================] - 0s 2ms/step - loss: 0.2957 - val_loss: 0.3173\n",
      "Epoch 64/100\n",
      "20/20 [==============================] - 0s 2ms/step - loss: 0.2737 - val_loss: 0.2934\n",
      "Epoch 65/100\n",
      "20/20 [==============================] - 0s 2ms/step - loss: 0.2608 - val_loss: 0.2733\n",
      "Epoch 66/100\n",
      "20/20 [==============================] - 0s 2ms/step - loss: 0.2493 - val_loss: 0.2535\n",
      "Epoch 67/100\n",
      "20/20 [==============================] - 0s 2ms/step - loss: 0.2294 - val_loss: 0.2355\n",
      "Epoch 68/100\n",
      "20/20 [==============================] - 0s 2ms/step - loss: 0.2168 - val_loss: 0.2211\n",
      "Epoch 69/100\n",
      "20/20 [==============================] - 0s 2ms/step - loss: 0.2008 - val_loss: 0.2012\n",
      "Epoch 70/100\n",
      "20/20 [==============================] - 0s 2ms/step - loss: 0.1862 - val_loss: 0.1844\n",
      "Epoch 71/100\n",
      "20/20 [==============================] - 0s 2ms/step - loss: 0.1740 - val_loss: 0.1685\n",
      "Epoch 72/100\n",
      "20/20 [==============================] - 0s 2ms/step - loss: 0.1599 - val_loss: 0.1539\n",
      "Epoch 73/100\n",
      "20/20 [==============================] - 0s 1ms/step - loss: 0.1478 - val_loss: 0.1419\n",
      "Epoch 74/100\n",
      "20/20 [==============================] - 0s 2ms/step - loss: 0.1419 - val_loss: 0.1277\n",
      "Epoch 75/100\n",
      "20/20 [==============================] - 0s 2ms/step - loss: 0.1260 - val_loss: 0.1160\n",
      "Epoch 76/100\n",
      "20/20 [==============================] - 0s 2ms/step - loss: 0.1197 - val_loss: 0.1043\n",
      "Epoch 77/100\n",
      "20/20 [==============================] - 0s 2ms/step - loss: 0.1049 - val_loss: 0.0980\n",
      "Epoch 78/100\n",
      "20/20 [==============================] - 0s 2ms/step - loss: 0.1026 - val_loss: 0.0855\n",
      "Epoch 79/100\n",
      "20/20 [==============================] - 0s 1ms/step - loss: 0.0935 - val_loss: 0.0782\n",
      "Epoch 80/100\n",
      "20/20 [==============================] - 0s 2ms/step - loss: 0.0857 - val_loss: 0.0711\n",
      "Epoch 81/100\n",
      "20/20 [==============================] - 0s 2ms/step - loss: 0.0791 - val_loss: 0.0647\n",
      "Epoch 82/100\n"
     ]
    },
    {
     "name": "stdout",
     "output_type": "stream",
     "text": [
      "20/20 [==============================] - 0s 2ms/step - loss: 0.0726 - val_loss: 0.0597\n",
      "Epoch 83/100\n",
      "20/20 [==============================] - 0s 2ms/step - loss: 0.0687 - val_loss: 0.0585\n",
      "Epoch 84/100\n",
      "20/20 [==============================] - 0s 1ms/step - loss: 0.0638 - val_loss: 0.0508\n",
      "Epoch 85/100\n",
      "20/20 [==============================] - 0s 2ms/step - loss: 0.0600 - val_loss: 0.0485\n",
      "Epoch 86/100\n",
      "20/20 [==============================] - 0s 2ms/step - loss: 0.0567 - val_loss: 0.0443\n",
      "Epoch 87/100\n",
      "20/20 [==============================] - 0s 2ms/step - loss: 0.0544 - val_loss: 0.0455\n",
      "Epoch 88/100\n",
      "20/20 [==============================] - 0s 2ms/step - loss: 0.0522 - val_loss: 0.0400\n",
      "Epoch 89/100\n",
      "20/20 [==============================] - 0s 2ms/step - loss: 0.0500 - val_loss: 0.0381\n",
      "Epoch 90/100\n",
      "20/20 [==============================] - 0s 2ms/step - loss: 0.0475 - val_loss: 0.0391\n",
      "Epoch 91/100\n",
      "20/20 [==============================] - 0s 2ms/step - loss: 0.0457 - val_loss: 0.0354\n",
      "Epoch 92/100\n",
      "20/20 [==============================] - 0s 2ms/step - loss: 0.0439 - val_loss: 0.0353\n",
      "Epoch 93/100\n",
      "20/20 [==============================] - 0s 2ms/step - loss: 0.0409 - val_loss: 0.0349\n",
      "Epoch 94/100\n",
      "20/20 [==============================] - 0s 2ms/step - loss: 0.0408 - val_loss: 0.0363\n",
      "Epoch 95/100\n",
      "20/20 [==============================] - 0s 2ms/step - loss: 0.0386 - val_loss: 0.0337\n",
      "Epoch 96/100\n",
      "20/20 [==============================] - 0s 2ms/step - loss: 0.0390 - val_loss: 0.0376\n",
      "Epoch 97/100\n",
      "20/20 [==============================] - 0s 2ms/step - loss: 0.0393 - val_loss: 0.0329\n",
      "Epoch 98/100\n",
      "20/20 [==============================] - 0s 1ms/step - loss: 0.0367 - val_loss: 0.0332\n",
      "Epoch 99/100\n",
      "20/20 [==============================] - 0s 2ms/step - loss: 0.0371 - val_loss: 0.0326\n",
      "Epoch 100/100\n",
      "20/20 [==============================] - 0s 1ms/step - loss: 0.0364 - val_loss: 0.0356\n"
     ]
    }
   ],
   "source": [
    "epochs=100\n",
    "bs = 4\n",
    "\n",
    "history = model.fit(X_train, Y_train, validation_data=(X_val, Y_val),\n",
    "                                  epochs=epochs, batch_size=bs,\n",
    "                                  callbacks=callbacks, verbose=1)"
   ]
  },
  {
   "cell_type": "code",
   "execution_count": 8,
   "metadata": {},
   "outputs": [],
   "source": [
    "nlayer = 1\n",
    "weights, biases = model.layers[nlayer].get_weights()"
   ]
  },
  {
   "cell_type": "code",
   "execution_count": 9,
   "metadata": {},
   "outputs": [],
   "source": [
    "Y_pred = model.predict(X_val)"
   ]
  },
  {
   "cell_type": "code",
   "execution_count": 10,
   "metadata": {},
   "outputs": [
    {
     "data": {
      "text/plain": [
       "<matplotlib.legend.Legend at 0x7ff7d06ef460>"
      ]
     },
     "execution_count": 10,
     "metadata": {},
     "output_type": "execute_result"
    },
    {
     "data": {
      "image/png": "[encoded data removed]",
      "text/plain": [
       "<Figure size 432x288 with 1 Axes>"
      ]
     },
     "metadata": {
      "needs_background": "light"
     },
     "output_type": "display_data"
    }
   ],
   "source": [
    "plt.plot(history.history['loss'], label='training set')\n",
    "plt.plot(history.history['val_loss'], label='validation set')\n",
    "mse = np.min(history.history['val_loss'])\n",
    "plt.title('MSE: {}'.format(mse))\n",
    "plt.ylabel('loss function')\n",
    "plt.xlabel('epoch')\n",
    "plt.legend(['training', 'validation'], loc='upper right')        "
   ]
  },
  {
   "cell_type": "markdown",
   "metadata": {},
   "source": [
    "### Ejercicio: hacer predicción de dos diferentes vectores para cada una de las tres funciones:"
   ]
  },
  {
   "cell_type": "code",
   "execution_count": 11,
   "metadata": {},
   "outputs": [],
   "source": [
    "# new_vector = np.array([0.7])\n",
    "# prediction = model.predict(new_vector)\n",
    "\n",
    "# print(\"Valor real: {}\".format(float(fn(new_vector))))\n",
    "# # print(\"Predicción: {}\".format(float(prediction)))\n",
    "# prediction"
   ]
  },
  {
   "cell_type": "code",
   "execution_count": 12,
   "metadata": {},
   "outputs": [
    {
     "data": {
      "text/plain": [
       "<matplotlib.legend.Legend at 0x7ff7d06de640>"
      ]
     },
     "execution_count": 12,
     "metadata": {},
     "output_type": "execute_result"
    },
    {
     "data": {
      "image/png": "[encoded data removed]",
      "text/plain": [
       "<Figure size 432x288 with 1 Axes>"
      ]
     },
     "metadata": {
      "needs_background": "light"
     },
     "output_type": "display_data"
    }
   ],
   "source": [
    "# Graficar para los primeros dos casos\n",
    "plt.scatter(X_val, Y_val, label='Función verdadera')\n",
    "plt.scatter(X_val, Y_pred, label='Predicción de la red neuronal')\n",
    "\n",
    "### Descomentar siguientes dos para el tercer ejemplo.\n",
    "# plt.plot(Y_val, label='Función verdadera')\n",
    "# plt.plot(Y_pred, label='Predicción de la red neuronal')\n",
    "plt.xlabel(\"X\")\n",
    "plt.ylabel(\"Y\")\n",
    "plt.legend()"
   ]
  },
  {
   "cell_type": "markdown",
   "metadata": {},
   "source": [
    "## Clasificación con ANN"
   ]
  },
  {
   "cell_type": "code",
   "execution_count": 13,
   "metadata": {},
   "outputs": [
    {
     "name": "stdout",
     "output_type": "stream",
     "text": [
      "Train labels:  {0: 5923, 1: 6742, 2: 5958, 3: 6131, 4: 5842, 5: 5421, 6: 5918, 7: 6265, 8: 5851, 9: 5949}\n",
      "\n",
      "Validation labels:  {0: 496, 1: 565, 2: 506, 3: 499, 4: 502, 5: 451, 6: 456, 7: 526, 8: 490, 9: 509}\n",
      "\n",
      "Test labels:  {0: 484, 1: 570, 2: 526, 3: 511, 4: 480, 5: 441, 6: 502, 7: 502, 8: 484, 9: 500}\n"
     ]
    }
   ],
   "source": [
    "# import dataset\n",
    "from keras.datasets import mnist\n",
    "\n",
    "# load dataset\n",
    "(x_train, y_train),(x_test, y_test) = mnist.load_data()\n",
    "\n",
    "x_test, x_val = train_test_split(x_test, test_size=0.5, random_state=0)\n",
    "y_test, y_val = train_test_split(y_test, test_size=0.5, random_state=0)\n",
    "\n",
    "# count the number of unique train labels\n",
    "unique, counts = np.unique(y_train, return_counts=True)\n",
    "print(\"Train labels: \", dict(zip(unique, counts)))\n",
    "\n",
    "# count the number of unique val labels\n",
    "unique, counts = np.unique(y_val, return_counts=True)\n",
    "print(\"\\nValidation labels: \", dict(zip(unique, counts)))\n",
    "\n",
    "# count the number of unique test labels\n",
    "unique, counts = np.unique(y_test, return_counts=True)\n",
    "print(\"\\nTest labels: \", dict(zip(unique, counts)))"
   ]
  },
  {
   "cell_type": "code",
   "execution_count": 14,
   "metadata": {},
   "outputs": [
    {
     "data": {
      "image/png": "[encoded data removed]",
      "text/plain": [
       "<Figure size 360x360 with 25 Axes>"
      ]
     },
     "metadata": {
      "needs_background": "light"
     },
     "output_type": "display_data"
    }
   ],
   "source": [
    "# sample 25 mnist digits from train dataset\n",
    "indexes = np.random.randint(0, x_train.shape[0], size=25)\n",
    "images = x_train[indexes]\n",
    "labels = y_train[indexes]\n",
    "\n",
    "# plot the 25 mnist digits\n",
    "plt.figure(figsize=(5,5))\n",
    "for i in range(len(indexes)):\n",
    "    plt.subplot(5, 5, i + 1)\n",
    "    image = images[i]\n",
    "    plt.imshow(image, cmap='gray')\n",
    "    plt.axis('off')\n",
    "    \n",
    "plt.show()\n",
    "plt.savefig(\"mnist-samples.png\")\n",
    "plt.close('all')"
   ]
  },
  {
   "cell_type": "code",
   "execution_count": 15,
   "metadata": {},
   "outputs": [
    {
     "data": {
      "text/plain": [
       "10"
      ]
     },
     "execution_count": 15,
     "metadata": {},
     "output_type": "execute_result"
    }
   ],
   "source": [
    "# compute the number of labels\n",
    "num_labels = len(np.unique(y_train))\n",
    "num_labels"
   ]
  },
  {
   "cell_type": "code",
   "execution_count": 16,
   "metadata": {},
   "outputs": [
    {
     "data": {
      "text/plain": [
       "array([5, 2, 9, ..., 1, 1, 6], dtype=uint8)"
      ]
     },
     "execution_count": 16,
     "metadata": {},
     "output_type": "execute_result"
    }
   ],
   "source": [
    "y_test"
   ]
  },
  {
   "cell_type": "code",
   "execution_count": 17,
   "metadata": {},
   "outputs": [
    {
     "data": {
      "text/plain": [
       "((60000,), (5000,))"
      ]
     },
     "execution_count": 17,
     "metadata": {},
     "output_type": "execute_result"
    }
   ],
   "source": [
    "np.shape(y_train), np.shape(y_test)"
   ]
  },
  {
   "cell_type": "code",
   "execution_count": 18,
   "metadata": {},
   "outputs": [],
   "source": [
    "# convert to one-hot vector\n",
    "y_train = to_categorical(y_train)\n",
    "y_test = to_categorical(y_test)\n",
    "y_val = to_categorical(y_val)"
   ]
  },
  {
   "cell_type": "code",
   "execution_count": 19,
   "metadata": {},
   "outputs": [
    {
     "data": {
      "text/plain": [
       "array([[0., 0., 0., ..., 0., 0., 0.],\n",
       "       [0., 0., 1., ..., 0., 0., 0.],\n",
       "       [0., 0., 0., ..., 0., 0., 1.],\n",
       "       ...,\n",
       "       [0., 1., 0., ..., 0., 0., 0.],\n",
       "       [0., 1., 0., ..., 0., 0., 0.],\n",
       "       [0., 0., 0., ..., 0., 0., 0.]], dtype=float32)"
      ]
     },
     "execution_count": 19,
     "metadata": {},
     "output_type": "execute_result"
    }
   ],
   "source": [
    "y_test"
   ]
  },
  {
   "cell_type": "code",
   "execution_count": 20,
   "metadata": {},
   "outputs": [
    {
     "data": {
      "text/plain": [
       "((60000, 10), (5000, 10))"
      ]
     },
     "execution_count": 20,
     "metadata": {},
     "output_type": "execute_result"
    }
   ],
   "source": [
    "np.shape(y_train), np.shape(y_test)"
   ]
  },
  {
   "cell_type": "code",
   "execution_count": 21,
   "metadata": {},
   "outputs": [
    {
     "data": {
      "text/plain": [
       "784"
      ]
     },
     "execution_count": 21,
     "metadata": {},
     "output_type": "execute_result"
    }
   ],
   "source": [
    "# image dimensions (assumed square)\n",
    "image_size = x_train.shape[1]\n",
    "input_size = image_size * image_size\n",
    "input_size"
   ]
  },
  {
   "cell_type": "code",
   "execution_count": 22,
   "metadata": {},
   "outputs": [],
   "source": [
    "# resize and normalize\n",
    "x_train = np.reshape(x_train, [-1, input_size])\n",
    "x_train = x_train.astype('float32') / 255\n",
    "x_test = np.reshape(x_test, [-1, input_size])\n",
    "x_test = x_test.astype('float32') / 255\n",
    "x_val = np.reshape(x_val, [-1, input_size])\n",
    "x_val = x_val.astype('float32') / 255"
   ]
  },
  {
   "cell_type": "markdown",
   "metadata": {},
   "source": [
    "#### Dropout\n",
    "\n",
    "![](https://raw.githubusercontent.com/igomezv/DataScienceIntermedio/main/img/dropout.gif)"
   ]
  },
  {
   "cell_type": "code",
   "execution_count": 38,
   "metadata": {},
   "outputs": [],
   "source": [
    "# network parameters\n",
    "batch_size = 128\n",
    "hidden_units = 50\n",
    "dropout = 0.1"
   ]
  },
  {
   "cell_type": "markdown",
   "metadata": {},
   "source": [
    "La función de activación softmax se usa para clasificación de varias etiquetas.\n",
    "\n",
    "$$P(y=j|x)=\\frac{e^{w^T_jx+b_j}}{\\sum_k e^{w^T_kx+b_k}}$$\n",
    "\n",
    "![](https://developers.google.com/static/machine-learning/crash-course/images/SoftmaxLayer.svg)\n",
    "Fuente: Google developers"
   ]
  },
  {
   "cell_type": "code",
   "execution_count": 39,
   "metadata": {},
   "outputs": [
    {
     "name": "stdout",
     "output_type": "stream",
     "text": [
      "Model: \"sequential_2\"\n",
      "_________________________________________________________________\n",
      "Layer (type)                 Output Shape              Param #   \n",
      "=================================================================\n",
      "dense_7 (Dense)              (None, 50)                39250     \n",
      "_________________________________________________________________\n",
      "activation_3 (Activation)    (None, 50)                0         \n",
      "_________________________________________________________________\n",
      "dropout_2 (Dropout)          (None, 50)                0         \n",
      "_________________________________________________________________\n",
      "dense_8 (Dense)              (None, 50)                2550      \n",
      "_________________________________________________________________\n",
      "activation_4 (Activation)    (None, 50)                0         \n",
      "_________________________________________________________________\n",
      "dropout_3 (Dropout)          (None, 50)                0         \n",
      "_________________________________________________________________\n",
      "dense_9 (Dense)              (None, 10)                510       \n",
      "_________________________________________________________________\n",
      "activation_5 (Activation)    (None, 10)                0         \n",
      "=================================================================\n",
      "Total params: 42,310\n",
      "Trainable params: 42,310\n",
      "Non-trainable params: 0\n",
      "_________________________________________________________________\n"
     ]
    }
   ],
   "source": [
    "# model is a 3-layer MLP with ReLU and dropout after each layer\n",
    "model = Sequential()\n",
    "model.add(Dense(hidden_units, input_dim=input_size))\n",
    "model.add(Activation('relu'))\n",
    "model.add(Dropout(dropout))\n",
    "model.add(Dense(hidden_units))\n",
    "model.add(Activation('relu'))\n",
    "model.add(Dropout(dropout))\n",
    "model.add(Dense(num_labels))\n",
    "model.add(Activation('softmax'))\n",
    "model.summary()"
   ]
  },
  {
   "cell_type": "markdown",
   "metadata": {},
   "source": [
    "##### Función de costo 'categorical cross entropy' para clasificación de varias etiquetas."
   ]
  },
  {
   "cell_type": "code",
   "execution_count": 40,
   "metadata": {},
   "outputs": [],
   "source": [
    "model.compile(loss='categorical_crossentropy', \n",
    "              optimizer='adam',\n",
    "              metrics=['accuracy'])"
   ]
  },
  {
   "cell_type": "code",
   "execution_count": 41,
   "metadata": {
    "scrolled": true
   },
   "outputs": [
    {
     "name": "stdout",
     "output_type": "stream",
     "text": [
      "Epoch 1/100\n",
      "469/469 [==============================] - 1s 2ms/step - loss: 0.5193 - accuracy: 0.8470 - val_loss: 0.2076 - val_accuracy: 0.9412\n",
      "Epoch 2/100\n",
      "469/469 [==============================] - 1s 1ms/step - loss: 0.2425 - accuracy: 0.9278 - val_loss: 0.1507 - val_accuracy: 0.9536\n",
      "Epoch 3/100\n",
      "469/469 [==============================] - 1s 1ms/step - loss: 0.1929 - accuracy: 0.9418 - val_loss: 0.1241 - val_accuracy: 0.9634\n",
      "Epoch 4/100\n",
      "469/469 [==============================] - 1s 1ms/step - loss: 0.1662 - accuracy: 0.9506 - val_loss: 0.1099 - val_accuracy: 0.9666\n",
      "Epoch 5/100\n",
      "469/469 [==============================] - 1s 1ms/step - loss: 0.1453 - accuracy: 0.9554 - val_loss: 0.1008 - val_accuracy: 0.9688\n",
      "Epoch 6/100\n",
      "469/469 [==============================] - 1s 1ms/step - loss: 0.1324 - accuracy: 0.9603 - val_loss: 0.0937 - val_accuracy: 0.9714\n",
      "Epoch 7/100\n",
      "469/469 [==============================] - 1s 1ms/step - loss: 0.1221 - accuracy: 0.9625 - val_loss: 0.0894 - val_accuracy: 0.9734\n",
      "Epoch 8/100\n",
      "469/469 [==============================] - 1s 1ms/step - loss: 0.1131 - accuracy: 0.9641 - val_loss: 0.0867 - val_accuracy: 0.9746\n",
      "Epoch 9/100\n",
      "469/469 [==============================] - 1s 1ms/step - loss: 0.1059 - accuracy: 0.9673 - val_loss: 0.0858 - val_accuracy: 0.9776\n",
      "Epoch 10/100\n",
      "469/469 [==============================] - 1s 1ms/step - loss: 0.0988 - accuracy: 0.9688 - val_loss: 0.0804 - val_accuracy: 0.9764\n",
      "Epoch 11/100\n",
      "469/469 [==============================] - 1s 1ms/step - loss: 0.0947 - accuracy: 0.9700 - val_loss: 0.0795 - val_accuracy: 0.9764\n",
      "Epoch 12/100\n",
      "469/469 [==============================] - 1s 1ms/step - loss: 0.0905 - accuracy: 0.9718 - val_loss: 0.0868 - val_accuracy: 0.9748\n",
      "Epoch 13/100\n",
      "469/469 [==============================] - 1s 1ms/step - loss: 0.0866 - accuracy: 0.9721 - val_loss: 0.0820 - val_accuracy: 0.9768\n",
      "Epoch 14/100\n",
      "469/469 [==============================] - 1s 1ms/step - loss: 0.0847 - accuracy: 0.9725 - val_loss: 0.0837 - val_accuracy: 0.9752\n",
      "Epoch 15/100\n",
      "469/469 [==============================] - 1s 1ms/step - loss: 0.0789 - accuracy: 0.9747 - val_loss: 0.0775 - val_accuracy: 0.9766\n",
      "Epoch 16/100\n",
      "469/469 [==============================] - 1s 1ms/step - loss: 0.0754 - accuracy: 0.9758 - val_loss: 0.0773 - val_accuracy: 0.9776\n",
      "Epoch 17/100\n",
      "469/469 [==============================] - 1s 1ms/step - loss: 0.0736 - accuracy: 0.9765 - val_loss: 0.0791 - val_accuracy: 0.9774\n",
      "Epoch 18/100\n",
      "469/469 [==============================] - 1s 1ms/step - loss: 0.0739 - accuracy: 0.9762 - val_loss: 0.0809 - val_accuracy: 0.9754\n",
      "Epoch 19/100\n",
      "469/469 [==============================] - 1s 1ms/step - loss: 0.0718 - accuracy: 0.9768 - val_loss: 0.0752 - val_accuracy: 0.9784\n",
      "Epoch 20/100\n",
      "469/469 [==============================] - 1s 1ms/step - loss: 0.0684 - accuracy: 0.9776 - val_loss: 0.0799 - val_accuracy: 0.9772\n",
      "Epoch 21/100\n",
      "469/469 [==============================] - 1s 1ms/step - loss: 0.0642 - accuracy: 0.9786 - val_loss: 0.0829 - val_accuracy: 0.9764\n",
      "Epoch 22/100\n",
      "469/469 [==============================] - 1s 1ms/step - loss: 0.0647 - accuracy: 0.9789 - val_loss: 0.0801 - val_accuracy: 0.9778\n",
      "Epoch 23/100\n",
      "469/469 [==============================] - 1s 1ms/step - loss: 0.0622 - accuracy: 0.9796 - val_loss: 0.0811 - val_accuracy: 0.9752\n",
      "Epoch 24/100\n",
      "469/469 [==============================] - 1s 1ms/step - loss: 0.0606 - accuracy: 0.9801 - val_loss: 0.0744 - val_accuracy: 0.9788\n",
      "Epoch 25/100\n",
      "469/469 [==============================] - 1s 1ms/step - loss: 0.0591 - accuracy: 0.9806 - val_loss: 0.0799 - val_accuracy: 0.9770\n",
      "Epoch 26/100\n",
      "469/469 [==============================] - 1s 1ms/step - loss: 0.0570 - accuracy: 0.9811 - val_loss: 0.0833 - val_accuracy: 0.9792\n",
      "Epoch 27/100\n",
      "469/469 [==============================] - 1s 1ms/step - loss: 0.0596 - accuracy: 0.9804 - val_loss: 0.0812 - val_accuracy: 0.9782\n",
      "Epoch 28/100\n",
      "469/469 [==============================] - 1s 1ms/step - loss: 0.0549 - accuracy: 0.9819 - val_loss: 0.0859 - val_accuracy: 0.9764\n",
      "Epoch 29/100\n",
      "469/469 [==============================] - 1s 1ms/step - loss: 0.0548 - accuracy: 0.9818 - val_loss: 0.0822 - val_accuracy: 0.9782\n",
      "Epoch 30/100\n",
      "469/469 [==============================] - 1s 1ms/step - loss: 0.0530 - accuracy: 0.9825 - val_loss: 0.0842 - val_accuracy: 0.9796\n",
      "Epoch 31/100\n",
      "469/469 [==============================] - 1s 1ms/step - loss: 0.0523 - accuracy: 0.9826 - val_loss: 0.0835 - val_accuracy: 0.9782\n",
      "Epoch 32/100\n",
      "469/469 [==============================] - 1s 1ms/step - loss: 0.0510 - accuracy: 0.9830 - val_loss: 0.0825 - val_accuracy: 0.9802\n",
      "Epoch 33/100\n",
      "469/469 [==============================] - 1s 1ms/step - loss: 0.0509 - accuracy: 0.9833 - val_loss: 0.0846 - val_accuracy: 0.9794\n",
      "Epoch 34/100\n",
      "469/469 [==============================] - 1s 1ms/step - loss: 0.0492 - accuracy: 0.9832 - val_loss: 0.0859 - val_accuracy: 0.9788\n",
      "Epoch 35/100\n",
      "469/469 [==============================] - 1s 2ms/step - loss: 0.0485 - accuracy: 0.9836 - val_loss: 0.0835 - val_accuracy: 0.9782\n",
      "Epoch 36/100\n",
      "469/469 [==============================] - 1s 2ms/step - loss: 0.0490 - accuracy: 0.9838 - val_loss: 0.0881 - val_accuracy: 0.9770\n",
      "Epoch 37/100\n",
      "469/469 [==============================] - 1s 1ms/step - loss: 0.0476 - accuracy: 0.9840 - val_loss: 0.0864 - val_accuracy: 0.9772\n",
      "Epoch 38/100\n",
      "469/469 [==============================] - 1s 1ms/step - loss: 0.0452 - accuracy: 0.9847 - val_loss: 0.0890 - val_accuracy: 0.9776\n",
      "Epoch 39/100\n",
      "469/469 [==============================] - 1s 2ms/step - loss: 0.0471 - accuracy: 0.9844 - val_loss: 0.0865 - val_accuracy: 0.9772\n",
      "Epoch 40/100\n",
      "469/469 [==============================] - 1s 2ms/step - loss: 0.0435 - accuracy: 0.9853 - val_loss: 0.0893 - val_accuracy: 0.9780\n",
      "Epoch 41/100\n",
      "469/469 [==============================] - 1s 2ms/step - loss: 0.0451 - accuracy: 0.9850 - val_loss: 0.0906 - val_accuracy: 0.9780\n",
      "Epoch 42/100\n",
      "469/469 [==============================] - 1s 1ms/step - loss: 0.0441 - accuracy: 0.9847 - val_loss: 0.0901 - val_accuracy: 0.9768\n",
      "Epoch 43/100\n",
      "469/469 [==============================] - 1s 2ms/step - loss: 0.0438 - accuracy: 0.9857 - val_loss: 0.0964 - val_accuracy: 0.9780\n",
      "Epoch 44/100\n",
      "469/469 [==============================] - 1s 2ms/step - loss: 0.0432 - accuracy: 0.9852 - val_loss: 0.0931 - val_accuracy: 0.9782\n",
      "Epoch 45/100\n",
      "469/469 [==============================] - 1s 1ms/step - loss: 0.0418 - accuracy: 0.9863 - val_loss: 0.0918 - val_accuracy: 0.9770\n",
      "Epoch 46/100\n",
      "469/469 [==============================] - 1s 2ms/step - loss: 0.0425 - accuracy: 0.9855 - val_loss: 0.0922 - val_accuracy: 0.9792\n",
      "Epoch 47/100\n",
      "469/469 [==============================] - 1s 1ms/step - loss: 0.0413 - accuracy: 0.9863 - val_loss: 0.0940 - val_accuracy: 0.9784\n",
      "Epoch 48/100\n",
      "469/469 [==============================] - 1s 2ms/step - loss: 0.0406 - accuracy: 0.9869 - val_loss: 0.1001 - val_accuracy: 0.9782\n",
      "Epoch 49/100\n",
      "469/469 [==============================] - 1s 2ms/step - loss: 0.0405 - accuracy: 0.9862 - val_loss: 0.0938 - val_accuracy: 0.9794\n",
      "Epoch 50/100\n",
      "469/469 [==============================] - 1s 1ms/step - loss: 0.0411 - accuracy: 0.9859 - val_loss: 0.1101 - val_accuracy: 0.9724\n",
      "Epoch 51/100\n",
      "469/469 [==============================] - 1s 2ms/step - loss: 0.0413 - accuracy: 0.9857 - val_loss: 0.0988 - val_accuracy: 0.9760\n",
      "Epoch 52/100\n",
      "469/469 [==============================] - 1s 2ms/step - loss: 0.0411 - accuracy: 0.9863 - val_loss: 0.1036 - val_accuracy: 0.9770\n",
      "Epoch 53/100\n",
      "469/469 [==============================] - 1s 1ms/step - loss: 0.0384 - accuracy: 0.9872 - val_loss: 0.1060 - val_accuracy: 0.9756\n",
      "Epoch 54/100\n",
      "469/469 [==============================] - 1s 2ms/step - loss: 0.0387 - accuracy: 0.9870 - val_loss: 0.1022 - val_accuracy: 0.9784\n",
      "Epoch 55/100\n",
      "469/469 [==============================] - 1s 2ms/step - loss: 0.0397 - accuracy: 0.9867 - val_loss: 0.1040 - val_accuracy: 0.9772\n",
      "Epoch 56/100\n",
      "469/469 [==============================] - 1s 2ms/step - loss: 0.0377 - accuracy: 0.9872 - val_loss: 0.0943 - val_accuracy: 0.9786\n",
      "Epoch 57/100\n",
      "469/469 [==============================] - 1s 2ms/step - loss: 0.0392 - accuracy: 0.9873 - val_loss: 0.1025 - val_accuracy: 0.9776\n"
     ]
    },
    {
     "name": "stdout",
     "output_type": "stream",
     "text": [
      "Epoch 58/100\n",
      "469/469 [==============================] - 1s 1ms/step - loss: 0.0365 - accuracy: 0.9878 - val_loss: 0.1032 - val_accuracy: 0.9764\n",
      "Epoch 59/100\n",
      "469/469 [==============================] - 1s 2ms/step - loss: 0.0346 - accuracy: 0.9882 - val_loss: 0.1092 - val_accuracy: 0.9790\n",
      "Epoch 60/100\n",
      "469/469 [==============================] - 1s 1ms/step - loss: 0.0388 - accuracy: 0.9872 - val_loss: 0.1006 - val_accuracy: 0.9766\n",
      "Epoch 61/100\n",
      "469/469 [==============================] - 1s 2ms/step - loss: 0.0371 - accuracy: 0.9873 - val_loss: 0.1006 - val_accuracy: 0.9762\n",
      "Epoch 62/100\n",
      "469/469 [==============================] - 1s 1ms/step - loss: 0.0368 - accuracy: 0.9879 - val_loss: 0.1046 - val_accuracy: 0.9768\n",
      "Epoch 63/100\n",
      "469/469 [==============================] - 1s 1ms/step - loss: 0.0360 - accuracy: 0.9880 - val_loss: 0.1060 - val_accuracy: 0.9792\n",
      "Epoch 64/100\n",
      "469/469 [==============================] - 1s 2ms/step - loss: 0.0360 - accuracy: 0.9879 - val_loss: 0.1006 - val_accuracy: 0.9786\n",
      "Epoch 65/100\n",
      "469/469 [==============================] - 1s 2ms/step - loss: 0.0365 - accuracy: 0.9879 - val_loss: 0.1047 - val_accuracy: 0.9768\n",
      "Epoch 66/100\n",
      "469/469 [==============================] - 1s 1ms/step - loss: 0.0362 - accuracy: 0.9878 - val_loss: 0.1165 - val_accuracy: 0.9760\n",
      "Epoch 67/100\n",
      "469/469 [==============================] - 1s 1ms/step - loss: 0.0363 - accuracy: 0.9877 - val_loss: 0.1008 - val_accuracy: 0.9808\n",
      "Epoch 68/100\n",
      "469/469 [==============================] - 1s 1ms/step - loss: 0.0347 - accuracy: 0.9885 - val_loss: 0.1059 - val_accuracy: 0.9780\n",
      "Epoch 69/100\n",
      "469/469 [==============================] - 1s 1ms/step - loss: 0.0354 - accuracy: 0.9880 - val_loss: 0.1014 - val_accuracy: 0.9780\n",
      "Epoch 70/100\n",
      "469/469 [==============================] - 1s 1ms/step - loss: 0.0348 - accuracy: 0.9887 - val_loss: 0.1109 - val_accuracy: 0.9756\n",
      "Epoch 71/100\n",
      "469/469 [==============================] - 1s 2ms/step - loss: 0.0339 - accuracy: 0.9887 - val_loss: 0.1040 - val_accuracy: 0.9782\n",
      "Epoch 72/100\n",
      "469/469 [==============================] - 1s 1ms/step - loss: 0.0323 - accuracy: 0.9887 - val_loss: 0.1048 - val_accuracy: 0.9788\n",
      "Epoch 73/100\n",
      "469/469 [==============================] - 1s 1ms/step - loss: 0.0334 - accuracy: 0.9888 - val_loss: 0.1120 - val_accuracy: 0.9768\n",
      "Epoch 74/100\n",
      "469/469 [==============================] - 1s 1ms/step - loss: 0.0333 - accuracy: 0.9894 - val_loss: 0.1006 - val_accuracy: 0.9786\n",
      "Epoch 75/100\n",
      "469/469 [==============================] - 1s 2ms/step - loss: 0.0340 - accuracy: 0.9884 - val_loss: 0.1138 - val_accuracy: 0.9760\n",
      "Epoch 76/100\n",
      "469/469 [==============================] - 1s 2ms/step - loss: 0.0326 - accuracy: 0.9891 - val_loss: 0.1084 - val_accuracy: 0.9752\n",
      "Epoch 77/100\n",
      "469/469 [==============================] - 1s 1ms/step - loss: 0.0340 - accuracy: 0.9887 - val_loss: 0.1065 - val_accuracy: 0.9780\n",
      "Epoch 78/100\n",
      "469/469 [==============================] - 1s 1ms/step - loss: 0.0340 - accuracy: 0.9887 - val_loss: 0.1091 - val_accuracy: 0.9762\n",
      "Epoch 79/100\n",
      "469/469 [==============================] - 1s 1ms/step - loss: 0.0326 - accuracy: 0.9887 - val_loss: 0.1107 - val_accuracy: 0.9770\n",
      "Epoch 80/100\n",
      "469/469 [==============================] - 1s 1ms/step - loss: 0.0324 - accuracy: 0.9888 - val_loss: 0.1182 - val_accuracy: 0.9754\n",
      "Epoch 81/100\n",
      "469/469 [==============================] - 1s 2ms/step - loss: 0.0340 - accuracy: 0.9887 - val_loss: 0.1202 - val_accuracy: 0.9744\n",
      "Epoch 82/100\n",
      "469/469 [==============================] - 1s 2ms/step - loss: 0.0316 - accuracy: 0.9898 - val_loss: 0.1176 - val_accuracy: 0.9760\n",
      "Epoch 83/100\n",
      "469/469 [==============================] - 1s 1ms/step - loss: 0.0334 - accuracy: 0.9891 - val_loss: 0.1093 - val_accuracy: 0.9738\n",
      "Epoch 84/100\n",
      "469/469 [==============================] - 1s 2ms/step - loss: 0.0310 - accuracy: 0.9898 - val_loss: 0.1040 - val_accuracy: 0.9796\n",
      "Epoch 85/100\n",
      "469/469 [==============================] - 1s 2ms/step - loss: 0.0290 - accuracy: 0.9898 - val_loss: 0.1044 - val_accuracy: 0.9790\n",
      "Epoch 86/100\n",
      "469/469 [==============================] - 1s 2ms/step - loss: 0.0325 - accuracy: 0.9893 - val_loss: 0.1077 - val_accuracy: 0.9778\n",
      "Epoch 87/100\n",
      "469/469 [==============================] - 1s 1ms/step - loss: 0.0294 - accuracy: 0.9902 - val_loss: 0.1098 - val_accuracy: 0.9780\n",
      "Epoch 88/100\n",
      "469/469 [==============================] - 1s 2ms/step - loss: 0.0292 - accuracy: 0.9902 - val_loss: 0.1106 - val_accuracy: 0.9794\n",
      "Epoch 89/100\n",
      "469/469 [==============================] - 1s 2ms/step - loss: 0.0318 - accuracy: 0.9894 - val_loss: 0.1189 - val_accuracy: 0.9756\n",
      "Epoch 90/100\n",
      "469/469 [==============================] - 1s 2ms/step - loss: 0.0288 - accuracy: 0.9907 - val_loss: 0.1172 - val_accuracy: 0.9776\n",
      "Epoch 91/100\n",
      "469/469 [==============================] - 1s 2ms/step - loss: 0.0316 - accuracy: 0.9896 - val_loss: 0.1096 - val_accuracy: 0.9772\n",
      "Epoch 92/100\n",
      "469/469 [==============================] - 1s 1ms/step - loss: 0.0290 - accuracy: 0.9899 - val_loss: 0.1070 - val_accuracy: 0.9782\n",
      "Epoch 93/100\n",
      "469/469 [==============================] - 1s 1ms/step - loss: 0.0316 - accuracy: 0.9897 - val_loss: 0.1114 - val_accuracy: 0.9772\n",
      "Epoch 94/100\n",
      "469/469 [==============================] - 1s 2ms/step - loss: 0.0306 - accuracy: 0.9899 - val_loss: 0.1219 - val_accuracy: 0.9768\n",
      "Epoch 95/100\n",
      "469/469 [==============================] - 1s 2ms/step - loss: 0.0285 - accuracy: 0.9902 - val_loss: 0.1196 - val_accuracy: 0.9782\n",
      "Epoch 96/100\n",
      "469/469 [==============================] - 1s 2ms/step - loss: 0.0295 - accuracy: 0.9901 - val_loss: 0.1116 - val_accuracy: 0.9760\n",
      "Epoch 97/100\n",
      "469/469 [==============================] - 1s 1ms/step - loss: 0.0318 - accuracy: 0.9897 - val_loss: 0.1185 - val_accuracy: 0.9762\n",
      "Epoch 98/100\n",
      "469/469 [==============================] - 1s 2ms/step - loss: 0.0319 - accuracy: 0.9898 - val_loss: 0.1158 - val_accuracy: 0.9752\n",
      "Epoch 99/100\n",
      "469/469 [==============================] - 1s 1ms/step - loss: 0.0301 - accuracy: 0.9897 - val_loss: 0.1211 - val_accuracy: 0.9768\n",
      "Epoch 100/100\n",
      "469/469 [==============================] - 1s 1ms/step - loss: 0.0295 - accuracy: 0.9901 - val_loss: 0.1243 - val_accuracy: 0.9756\n"
     ]
    }
   ],
   "source": [
    "history = model.fit(x_train, y_train, epochs=100, batch_size=batch_size, validation_data=(x_val, y_val))"
   ]
  },
  {
   "cell_type": "code",
   "execution_count": 44,
   "metadata": {},
   "outputs": [
    {
     "data": {
      "text/plain": [
       "<matplotlib.legend.Legend at 0x7ff7beadb3d0>"
      ]
     },
     "execution_count": 44,
     "metadata": {},
     "output_type": "execute_result"
    },
    {
     "data": {
      "image/png": "[encoded data removed]",
      "text/plain": [
       "<Figure size 432x288 with 1 Axes>"
      ]
     },
     "metadata": {
      "needs_background": "light"
     },
     "output_type": "display_data"
    }
   ],
   "source": [
    "plt.plot(history.history['accuracy'], label='training')\n",
    "plt.plot(history.history['val_accuracy'], label='validation')\n",
    "plt.xlabel(\"Epochs\")\n",
    "plt.ylabel(\"Accuracy\")\n",
    "# plt.ylim(0.1, 1)\n",
    "plt.legend()"
   ]
  },
  {
   "cell_type": "code",
   "execution_count": 45,
   "metadata": {},
   "outputs": [
    {
     "name": "stdout",
     "output_type": "stream",
     "text": [
      "40/40 [==============================] - 0s 887us/step - loss: 0.1335 - accuracy: 0.9714\n",
      "\n",
      "Test accuracy: 97.1%\n"
     ]
    }
   ],
   "source": [
    "loss, acc = model.evaluate(x_test, y_test, batch_size=batch_size)\n",
    "print(\"\\nTest accuracy: %.1f%%\" % (100.0 * acc))"
   ]
  },
  {
   "cell_type": "markdown",
   "metadata": {},
   "source": [
    "### Práctica: \n",
    "\n",
    "1. Calcular otras métricas.\n",
    "2. Dibujar o descargar un numero del 1 al 10 y predecir.\n",
    "3. Describe el preprocesamiento de las imágenes para entrenar la red neuronal."
   ]
  },
  {
   "cell_type": "code",
   "execution_count": null,
   "metadata": {},
   "outputs": [],
   "source": []
  },
  {
   "cell_type": "markdown",
   "metadata": {},
   "source": []
  }
 ],
 "metadata": {
  "kernelspec": {
   "display_name": "Python 3",
   "language": "python",
   "name": "python3"
  },
  "language_info": {
   "codemirror_mode": {
    "name": "ipython",
    "version": 3
   },
   "file_extension": ".py",
   "mimetype": "text/x-python",
   "name": "python",
   "nbconvert_exporter": "python",
   "pygments_lexer": "ipython3",
   "version": "3.8.10"
  }
 },
 "nbformat": 4,
 "nbformat_minor": 5
}
