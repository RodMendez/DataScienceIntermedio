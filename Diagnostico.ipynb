{
 "cells": [
  {
   "cell_type": "code",
   "execution_count": 1,
   "id": "bb62568a",
   "metadata": {},
   "outputs": [],
   "source": [
    "import numpy as np\n",
    "import matplotlib.pyplot as plt\n",
    "import seaborn as sns\n",
    "import pandas as pd"
   ]
  },
  {
   "cell_type": "markdown",
   "id": "5fde7a8b",
   "metadata": {},
   "source": [
    "## 1. Ejemplos de diccionario, tupla, lista y data frame."
   ]
  },
  {
   "cell_type": "code",
   "execution_count": null,
   "id": "5669358a",
   "metadata": {},
   "outputs": [],
   "source": [
    "diccionario = \n",
    "diccionario, type(diccionario)"
   ]
  },
  {
   "cell_type": "code",
   "execution_count": null,
   "id": "0373e443",
   "metadata": {},
   "outputs": [],
   "source": [
    "tupla = \n",
    "tupla, type(tupla)"
   ]
  },
  {
   "cell_type": "code",
   "execution_count": null,
   "id": "12a269f6",
   "metadata": {},
   "outputs": [],
   "source": [
    "lista =\n",
    "lista, type(lista)"
   ]
  },
  {
   "cell_type": "code",
   "execution_count": null,
   "id": "a9d2b273",
   "metadata": {},
   "outputs": [],
   "source": [
    "dataframe = \n",
    "dataframe, type(dataframe)"
   ]
  },
  {
   "cell_type": "markdown",
   "id": "b4ba02d2",
   "metadata": {},
   "source": [
    "### 3.1 Generar numpy array (100, 2)"
   ]
  },
  {
   "cell_type": "code",
   "execution_count": null,
   "id": "f627d094",
   "metadata": {},
   "outputs": [],
   "source": []
  },
  {
   "cell_type": "markdown",
   "id": "9b607981",
   "metadata": {},
   "source": [
    "### 3.2. Convertir numpy array a dataframe e imprimir primeras 10 entradas"
   ]
  },
  {
   "cell_type": "code",
   "execution_count": null,
   "id": "1a231d7c",
   "metadata": {},
   "outputs": [],
   "source": []
  },
  {
   "cell_type": "markdown",
   "id": "cdb9e890",
   "metadata": {},
   "source": [
    "### 3.3. Promedio, desviación estándar y moda de la segunda columna."
   ]
  },
  {
   "cell_type": "code",
   "execution_count": null,
   "id": "21f892a4",
   "metadata": {},
   "outputs": [],
   "source": []
  },
  {
   "cell_type": "markdown",
   "id": "231a6187",
   "metadata": {},
   "source": [
    "#### 3.4.1 Histograma de frecuencias con matplotlib de los valores de la segunda columna."
   ]
  },
  {
   "cell_type": "code",
   "execution_count": null,
   "id": "e0c93303",
   "metadata": {},
   "outputs": [],
   "source": []
  },
  {
   "cell_type": "markdown",
   "id": "0dc01bb8",
   "metadata": {},
   "source": [
    "#### 3.4.1. Gráfica de dispersión con seaborn donde el eje x sea la primer columna y el eje y la segunda columna."
   ]
  },
  {
   "cell_type": "code",
   "execution_count": null,
   "id": "d78caf1a",
   "metadata": {},
   "outputs": [],
   "source": []
  }
 ],
 "metadata": {
  "kernelspec": {
   "display_name": "Python 3 (ipykernel)",
   "language": "python",
   "name": "python3"
  },
  "language_info": {
   "codemirror_mode": {
    "name": "ipython",
    "version": 3
   },
   "file_extension": ".py",
   "mimetype": "text/x-python",
   "name": "python",
   "nbconvert_exporter": "python",
   "pygments_lexer": "ipython3",
   "version": "3.10.6"
  }
 },
 "nbformat": 4,
 "nbformat_minor": 5
}
