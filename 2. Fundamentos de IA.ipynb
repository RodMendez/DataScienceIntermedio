{
 "cells": [
  {
   "cell_type": "markdown",
   "id": "6279366f",
   "metadata": {},
   "source": [
    "- Presentación formal de sklearn\n",
    "- Un ejemplo clásico: regresión lineal\n",
    "- ¿Dónde encontrar datos?"
   ]
  },
  {
   "cell_type": "code",
   "execution_count": null,
   "id": "d07e8c7a",
   "metadata": {},
   "outputs": [],
   "source": []
  }
 ],
 "metadata": {
  "kernelspec": {
   "display_name": "Python 3 (ipykernel)",
   "language": "python",
   "name": "python3"
  },
  "language_info": {
   "codemirror_mode": {
    "name": "ipython",
    "version": 3
   },
   "file_extension": ".py",
   "mimetype": "text/x-python",
   "name": "python",
   "nbconvert_exporter": "python",
   "pygments_lexer": "ipython3",
   "version": "3.10.6"
  }
 },
 "nbformat": 4,
 "nbformat_minor": 5
}
