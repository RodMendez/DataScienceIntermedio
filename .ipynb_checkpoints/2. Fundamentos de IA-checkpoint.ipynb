{
 "cells": [
  {
   "cell_type": "markdown",
   "id": "6279366f",
   "metadata": {},
   "source": [
    "# 2. Fundamentos de IA\n",
    "\n",
    "- Introducción a la IA\n",
    "- Tipos de IA\n",
    "- Campos de aplicación de la IA\n",
    "- Introducción al aprendizaje automático\n",
    "    - Historia de la IA\n",
    "    - Aprendizaje del perceptron\n",
    "    - ¿Dónde encontrar datos para entrenar?\n",
    "\n",
    "\n",
    "## Introducción a la Inteligencia Artificial\n",
    "\n",
    "![](https://raw.githubusercontent.com/igomezv/DataScienceIntermedio/main/img/kasparov.jpeg)\n",
    "Fuente de la imagen: britannica.com\n",
    "\n",
    "![](https://raw.githubusercontent.com/igomezv/DataScienceIntermedio/main/img/alphago.png)\n",
    "Fuente de la imagen: qz.com/877721\n",
    "\n",
    "\n",
    "### Qué es la Inteligencia Artificial?\n",
    "\n",
    "    \"Es la ciencia y la ingeniería de fabricar máquinas inteligentes, especialmente programas informáticos inteligentes. Está relacionado con la tarea similar de usar computadoras para comprender la inteligencia humana, pero la IA no tiene que limitarse a métodos que son biológicamente observables\". \n",
    "\n",
    "John McCarthy (2004) What is artificial intelligence.\n",
    "\n",
    "![](https://raw.githubusercontent.com/igomezv/DataScienceIntermedio/main/img/VennIA2.png)\n",
    "Fuente de la imagen: Gonzalez Viejo, et al (2019). Emerging technologies based on artificial intelligence to assess quality and consumer preference of beverages. Beverages. 5. \n",
    "\n",
    "![](https://raw.githubusercontent.com/igomezv/DataScienceIntermedio/main/img/vennIA.png)\n",
    "Fuente de la imagen: Gmggroup.org\n",
    "\n",
    "## Tipos de IA\n",
    "Fuente de las siguientes 3 figuras: https://learnetutorials.com/artificial-intelligence/types-of-artificial-intelligence\n",
    "\n",
    "![](https://raw.githubusercontent.com/igomezv/DataScienceIntermedio/main/img/types-ai.png)\n",
    "\n",
    "![](https://raw.githubusercontent.com/igomezv/DataScienceIntermedio/main/img/types-ai1.png)\n",
    "\n",
    "![](https://raw.githubusercontent.com/igomezv/DataScienceIntermedio/main/img/types-ai2.png)\n",
    "\n",
    "## Campos de aplicación de la IA\n",
    "\n",
    "![](https://raw.githubusercontent.com/igomezv/DataScienceIntermedio/main/img/ia_apps1.jpg)\n",
    "Fuente de la imagen: europarl.europa.eu\n",
    "\n",
    "![](https://raw.githubusercontent.com/igomezv/DataScienceIntermedio/main/img/ia_apps2.jpg)\n",
    "Fuente de la imagen: https://contaduriapublica.org.mx/2019/08/01/inteligencia-artificial/\n",
    "\n",
    "## Introducción al aprendizaje automático\n",
    "\n",
    "### Un poco de historia\n",
    "\n",
    "\n",
    "![](https://raw.githubusercontent.com/igomezv/MACS_2021_ML_basics_neural_networks/main/figures/timeline.png)\n",
    "\n",
    "\n",
    "### 1943. Modelo lógico para una neurona de McCulloch-Pitts \n",
    "\n",
    "![](https://images.computerhistory.org/timeline/timeline_computers_1939.hewlettpackard.jpg)\n",
    "\n",
    "![](https://raw.githubusercontent.com/igomezv/MACS_2021_neural_networks/main/figures/ANN.png)\n",
    "\n",
    "Compuertas lógicas: \n",
    "\n",
    "![](https://raw.githubusercontent.com/igomezv/MACS_2021_ML_basics_neural_networks/main/figures/compuertas.png)\n"
   ]
  },
  {
   "cell_type": "code",
   "execution_count": 1,
   "id": "8ce6744c",
   "metadata": {},
   "outputs": [],
   "source": [
    "import numpy as np\n",
    "import pandas as pd\n",
    "import matplotlib.pyplot as plt\n",
    "import seaborn as sns"
   ]
  },
  {
   "cell_type": "code",
   "execution_count": 2,
   "id": "3c0f76c6",
   "metadata": {},
   "outputs": [],
   "source": [
    "def fn_activacion(mensaje, pesos, umbral):    \n",
    "    x = mensaje\n",
    "    sum_ = np.inner(pesos, x)\n",
    "\n",
    "    if sum_ >= umbral:\n",
    "        return 1\n",
    "    else:\n",
    "        return 0\n",
    "\n",
    "def neurona(senal_entrada, etiquetas_entrada, \n",
    "            etiqueta_salida, pesos = [1,1], umbral = 1):\n",
    "    pesos = np.array(pesos)\n",
    "    umbral = umbral\n",
    "        \n",
    "    tabla_logica = pd.DataFrame(senal_entrada, columns = etiquetas_entrada)\n",
    "    senal_salida = []\n",
    "    \n",
    "    for senal in senal_entrada:\n",
    "        signal = fn_activacion(senal, pesos, umbral)\n",
    "        senal_salida.append(signal)\n",
    "            \n",
    "    tabla_logica[etiqueta_salida] = pd.Series(senal_salida)\n",
    "    \n",
    "    return tabla_logica"
   ]
  },
  {
   "cell_type": "code",
   "execution_count": 3,
   "id": "7da41f11",
   "metadata": {},
   "outputs": [
    {
     "name": "stdout",
     "output_type": "stream",
     "text": [
      "   x1  x2  y\n",
      "0   0   0  0\n",
      "1   0   1  1\n",
      "2   1   0  1\n",
      "3   1   1  1\n"
     ]
    }
   ],
   "source": [
    "entradas = np.array([[0,0], [0,1], [1,0], [1,1]])\n",
    "etiquetas_in = ['x1', 'x2']\n",
    "etiquetas_out = 'y'\n",
    "\n",
    "OR = neurona(entradas, etiquetas_in, etiquetas_out, pesos = [1,1], umbral = 1)\n",
    "\n",
    "print(OR)"
   ]
  },
  {
   "cell_type": "code",
   "execution_count": 4,
   "id": "81ba895b",
   "metadata": {},
   "outputs": [
    {
     "name": "stdout",
     "output_type": "stream",
     "text": [
      "   x1  x2  y\n",
      "0   0   0  1\n",
      "1   0   1  1\n",
      "2   1   0  1\n",
      "3   1   1  0\n"
     ]
    }
   ],
   "source": [
    "entradas = np.array([[0,0], [0,1], [1,0], [1,1]])\n",
    "etiquetas_in = ['x1', 'x2']\n",
    "etiquetas_out = 'y'\n",
    "\n",
    "NAND = neurona(entradas, etiquetas_in, etiquetas_out, pesos = [-1,-1], umbral = -1)\n",
    "\n",
    "print(NAND)"
   ]
  },
  {
   "cell_type": "code",
   "execution_count": 5,
   "id": "a934b7cb",
   "metadata": {},
   "outputs": [
    {
     "name": "stdout",
     "output_type": "stream",
     "text": [
      "   x1  x2  y\n",
      "0   0   0  1\n",
      "1   0   1  0\n",
      "2   1   0  0\n",
      "3   1   1  0\n"
     ]
    }
   ],
   "source": [
    "entradas = np.array([[0,0], [0,1], [1,0], [1,1]])\n",
    "etiquetas_in = ['x1', 'x2']\n",
    "etiquetas_out = 'y'\n",
    "\n",
    "NOR = neurona(entradas, etiquetas_in, etiquetas_out, pesos = [-1,-1], umbral = 0)\n",
    "\n",
    "print(NOR)"
   ]
  },
  {
   "cell_type": "markdown",
   "id": "818de5fa",
   "metadata": {},
   "source": [
    "### -> Ejercicio 1 (opcional)\n",
    "\n",
    "Encuentra la configuración correcta del modelo neuronal de McCulloch-Pitts para las copuertas lógicas XNOR y AND"
   ]
  },
  {
   "cell_type": "markdown",
   "id": "3e404aab",
   "metadata": {},
   "source": [
    "# 1957 Perceptron\n",
    "\n",
    "![](https://news.cornell.edu/sites/default/files/styles/story_thumbnail_xlarge/public/2019-09/0925_rosenblatt_main.jpg?itok=SE0aS7ds)\n",
    "\n",
    "![](https://raw.githubusercontent.com/igomezv/MACS_2021_neural_networks/main/figures/perceptron_rule.png)"
   ]
  },
  {
   "cell_type": "code",
   "execution_count": 6,
   "id": "7d9c1510",
   "metadata": {},
   "outputs": [],
   "source": [
    "class Perceptron:\n",
    "    def __init__(self, alpha = 0.01, umbral = 0, intercepto = True, epocas = 10):\n",
    "        self.alpha = alpha\n",
    "        self.umbral = umbral\n",
    "        self.intercepto = intercepto\n",
    "        self.epocas = epocas\n",
    "        \n",
    "        \n",
    "    def aprender(self, X, y):\n",
    "        \"\"\"\n",
    "        Algoritnmo de aprendizaje del Perceptron para aprender los pesos del clasificador.\n",
    "        \n",
    "        Parametros\n",
    "        ----------\n",
    "        X : array-like, shape = [N, m]\n",
    "            Entradas de entrenamiento.\n",
    "        y : array-like, shape = [N, 1]\n",
    "            Etiquetas de entrenamiento.\n",
    "        \"\"\"\n",
    "        \n",
    "        N = X.shape[0]\n",
    "        \n",
    "        if self.intercepto:\n",
    "            X = np.concatenate((np.ones([N,1]), X), axis = 1)\n",
    "            \n",
    "        m = X.shape[1]\n",
    "        \n",
    "        self.w_ = self.inicializar(m)\n",
    "        self.errores_ = []\n",
    "        \n",
    "        for ep in range(self.epocas):\n",
    "            errores = 0\n",
    "            print(\"Epoca {}/{}\".format(ep+1, self.epocas), end='\\r')\n",
    "            \n",
    "            for x_n, y_n in zip(X,y):\n",
    "                x_n = x_n.reshape((m, 1))\n",
    "                update = self.alpha*(y_n - self.predecir(x_n))*x_n\n",
    "                self.w_ += update\n",
    "                errores += np.sum(update != 0.0)/(m)\n",
    "                \n",
    "            self.errores_.append(errores)\n",
    "            \n",
    "   \n",
    "    \n",
    "    def inicializar(self, m):\n",
    "        \"\"\"Inicializar vector con pesos igual a cero\"\"\"\n",
    "        return np.zeros([m, 1])\n",
    "    \n",
    "    \n",
    "    def predecir(self, x):\n",
    "            \"\"\"Función de activación Heaviside\"\"\"\n",
    "            return np.where(np.dot(self.w_.T, x) >= self.umbral, 1, -1)"
   ]
  },
  {
   "cell_type": "code",
   "execution_count": 7,
   "id": "d8083e1c",
   "metadata": {},
   "outputs": [
    {
     "name": "stdout",
     "output_type": "stream",
     "text": [
      "Epoca 1/10\r",
      "Epoca 2/10\r",
      "Epoca 3/10\r",
      "Epoca 4/10\r",
      "Epoca 5/10\r",
      "Epoca 6/10\r",
      "Epoca 7/10\r",
      "Epoca 8/10\r",
      "Epoca 9/10\r",
      "Epoca 10/10\r"
     ]
    },
    {
     "data": {
      "image/png": "[encoded data removed]",
      "text/plain": [
       "<Figure size 640x480 with 1 Axes>"
      ]
     },
     "metadata": {},
     "output_type": "display_data"
    }
   ],
   "source": [
    "OR = np.array([[0,0,0], [0,1,1], [1,0,1], [1,1,1]])\n",
    "\n",
    "OR_pcptrn = Perceptron(alpha=0.1, umbral=0.5, intercepto = False, epocas=10)\n",
    "OR_pcptrn.aprender(X = OR[:,0:2], y = OR[:,2:])\n",
    "\n",
    "# OR Gate Decision Boundery\n",
    "plt.scatter(OR[1:,0], OR[1:,1], color='black', marker = 'o')\n",
    "plt.scatter(OR[0,0], OR[0,1], color='white', edgecolor = 'black', marker='o')\n",
    "\n",
    "xx = np.linspace(0.0, 0.5)\n",
    "w = OR_pcptrn.w_\n",
    "a = 0.5\n",
    "b = -w[0]/w[1]\n",
    "yy = a + b*xx\n",
    "\n",
    "plt.plot(xx, yy, '--', color = 'black')\n",
    "\n",
    "plt.show()\n"
   ]
  },
  {
   "cell_type": "code",
   "execution_count": 8,
   "id": "eeb87d9e",
   "metadata": {},
   "outputs": [
    {
     "name": "stdout",
     "output_type": "stream",
     "text": [
      "Epoca 1/10\r",
      "Epoca 2/10\r",
      "Epoca 3/10\r",
      "Epoca 4/10\r",
      "Epoca 5/10\r",
      "Epoca 6/10\r",
      "Epoca 7/10\r",
      "Epoca 8/10\r",
      "Epoca 9/10\r",
      "Epoca 10/10\r"
     ]
    },
    {
     "data": {
      "image/png": "[encoded data removed]",
      "text/plain": [
       "<Figure size 640x480 with 1 Axes>"
      ]
     },
     "metadata": {},
     "output_type": "display_data"
    }
   ],
   "source": [
    "AND = np.array([[0,0,0], [0,1,0], [1,0,0], [1,1,1]])\n",
    "\n",
    "AND_pcptrn = Perceptron(alpha=0.1, umbral=1.5, intercepto = False, epocas=10)\n",
    "AND_pcptrn.aprender(X = AND[:,0:2], y = AND[:,2:])\n",
    "\n",
    "# OR Gate Decision Boundery\n",
    "plt.scatter(AND[3,0], AND[3,1], color='black', marker = 'o')\n",
    "plt.scatter(AND[:3,0], AND[:3,1], color='white', edgecolor = 'black', marker='o')\n",
    "\n",
    "xx = np.linspace(0.5, 1)\n",
    "w = AND_pcptrn.w_\n",
    "a = 1.5\n",
    "b = -w[0]/w[1]\n",
    "yy = a + b*xx\n",
    "\n",
    "plt.plot(xx, yy, '--', color = 'black')\n",
    "\n",
    "plt.show()"
   ]
  },
  {
   "cell_type": "markdown",
   "id": "91dfdd6a",
   "metadata": {},
   "source": [
    "### Ejercicio: Usar el perceptron para hacer la clasificacion binaria de: https://archive.ics.uci.edu/ml/machine-learning-databases/breast-cancer-wisconsin/ Por simplicidad, solamente considerar dos atributos."
   ]
  },
  {
   "cell_type": "code",
   "execution_count": 9,
   "id": "c3fb251b",
   "metadata": {
    "scrolled": true
   },
   "outputs": [
    {
     "data": {
      "text/html": [
       "<div>\n",
       "<style scoped>\n",
       "    .dataframe tbody tr th:only-of-type {\n",
       "        vertical-align: middle;\n",
       "    }\n",
       "\n",
       "    .dataframe tbody tr th {\n",
       "        vertical-align: top;\n",
       "    }\n",
       "\n",
       "    .dataframe thead th {\n",
       "        text-align: right;\n",
       "    }\n",
       "</style>\n",
       "<table border=\"1\" class=\"dataframe\">\n",
       "  <thead>\n",
       "    <tr style=\"text-align: right;\">\n",
       "      <th></th>\n",
       "      <th>clumb-thick</th>\n",
       "      <th>ucellsize</th>\n",
       "      <th>ucellshape</th>\n",
       "      <th>margadh</th>\n",
       "      <th>singlepcellsize</th>\n",
       "      <th>barenuclei</th>\n",
       "      <th>blandchr</th>\n",
       "      <th>normalnucleoli</th>\n",
       "      <th>mitoses</th>\n",
       "      <th>class</th>\n",
       "    </tr>\n",
       "  </thead>\n",
       "  <tbody>\n",
       "    <tr>\n",
       "      <th>1000025</th>\n",
       "      <td>5</td>\n",
       "      <td>1</td>\n",
       "      <td>1</td>\n",
       "      <td>1</td>\n",
       "      <td>2</td>\n",
       "      <td>1</td>\n",
       "      <td>3</td>\n",
       "      <td>1</td>\n",
       "      <td>1</td>\n",
       "      <td>2</td>\n",
       "    </tr>\n",
       "    <tr>\n",
       "      <th>1002945</th>\n",
       "      <td>5</td>\n",
       "      <td>4</td>\n",
       "      <td>4</td>\n",
       "      <td>5</td>\n",
       "      <td>7</td>\n",
       "      <td>10</td>\n",
       "      <td>3</td>\n",
       "      <td>2</td>\n",
       "      <td>1</td>\n",
       "      <td>2</td>\n",
       "    </tr>\n",
       "    <tr>\n",
       "      <th>1015425</th>\n",
       "      <td>3</td>\n",
       "      <td>1</td>\n",
       "      <td>1</td>\n",
       "      <td>1</td>\n",
       "      <td>2</td>\n",
       "      <td>2</td>\n",
       "      <td>3</td>\n",
       "      <td>1</td>\n",
       "      <td>1</td>\n",
       "      <td>2</td>\n",
       "    </tr>\n",
       "    <tr>\n",
       "      <th>1016277</th>\n",
       "      <td>6</td>\n",
       "      <td>8</td>\n",
       "      <td>8</td>\n",
       "      <td>1</td>\n",
       "      <td>3</td>\n",
       "      <td>4</td>\n",
       "      <td>3</td>\n",
       "      <td>7</td>\n",
       "      <td>1</td>\n",
       "      <td>2</td>\n",
       "    </tr>\n",
       "    <tr>\n",
       "      <th>1017023</th>\n",
       "      <td>4</td>\n",
       "      <td>1</td>\n",
       "      <td>1</td>\n",
       "      <td>3</td>\n",
       "      <td>2</td>\n",
       "      <td>1</td>\n",
       "      <td>3</td>\n",
       "      <td>1</td>\n",
       "      <td>1</td>\n",
       "      <td>2</td>\n",
       "    </tr>\n",
       "  </tbody>\n",
       "</table>\n",
       "</div>"
      ],
      "text/plain": [
       "         clumb-thick  ucellsize  ucellshape  margadh  singlepcellsize  \\\n",
       "1000025            5          1           1        1                2   \n",
       "1002945            5          4           4        5                7   \n",
       "1015425            3          1           1        1                2   \n",
       "1016277            6          8           8        1                3   \n",
       "1017023            4          1           1        3                2   \n",
       "\n",
       "        barenuclei  blandchr  normalnucleoli  mitoses  class  \n",
       "1000025          1         3               1        1      2  \n",
       "1002945         10         3               2        1      2  \n",
       "1015425          2         3               1        1      2  \n",
       "1016277          4         3               7        1      2  \n",
       "1017023          1         3               1        1      2  "
      ]
     },
     "execution_count": 9,
     "metadata": {},
     "output_type": "execute_result"
    }
   ],
   "source": [
    "file = 'https://raw.githubusercontent.com/igomezv/DataScienceIntermedio/main/datasets/binary_cancer/breast-cancer-wisconsin.data'\n",
    "data_bcancer = pd.read_csv(file)\n",
    "data_bcancer.head()"
   ]
  },
  {
   "cell_type": "markdown",
   "id": "ec643c6a",
   "metadata": {},
   "source": [
    "Solucion: Buscar las variables menos correlacionadas, es decir, las mas alejadas de 1."
   ]
  },
  {
   "cell_type": "code",
   "execution_count": 10,
   "id": "8b456736",
   "metadata": {},
   "outputs": [
    {
     "data": {
      "text/html": [
       "<div>\n",
       "<style scoped>\n",
       "    .dataframe tbody tr th:only-of-type {\n",
       "        vertical-align: middle;\n",
       "    }\n",
       "\n",
       "    .dataframe tbody tr th {\n",
       "        vertical-align: top;\n",
       "    }\n",
       "\n",
       "    .dataframe thead th {\n",
       "        text-align: right;\n",
       "    }\n",
       "</style>\n",
       "<table border=\"1\" class=\"dataframe\">\n",
       "  <thead>\n",
       "    <tr style=\"text-align: right;\">\n",
       "      <th></th>\n",
       "      <th>clumb-thick</th>\n",
       "      <th>ucellsize</th>\n",
       "      <th>ucellshape</th>\n",
       "      <th>margadh</th>\n",
       "      <th>singlepcellsize</th>\n",
       "      <th>blandchr</th>\n",
       "      <th>normalnucleoli</th>\n",
       "      <th>mitoses</th>\n",
       "      <th>class</th>\n",
       "    </tr>\n",
       "  </thead>\n",
       "  <tbody>\n",
       "    <tr>\n",
       "      <th>clumb-thick</th>\n",
       "      <td>1.000000</td>\n",
       "      <td>0.644913</td>\n",
       "      <td>0.654589</td>\n",
       "      <td>0.486356</td>\n",
       "      <td>0.521816</td>\n",
       "      <td>0.558428</td>\n",
       "      <td>0.535835</td>\n",
       "      <td>0.350034</td>\n",
       "      <td>0.716001</td>\n",
       "    </tr>\n",
       "    <tr>\n",
       "      <th>ucellsize</th>\n",
       "      <td>0.644913</td>\n",
       "      <td>1.000000</td>\n",
       "      <td>0.906882</td>\n",
       "      <td>0.705582</td>\n",
       "      <td>0.751799</td>\n",
       "      <td>0.755721</td>\n",
       "      <td>0.722865</td>\n",
       "      <td>0.458693</td>\n",
       "      <td>0.817904</td>\n",
       "    </tr>\n",
       "    <tr>\n",
       "      <th>ucellshape</th>\n",
       "      <td>0.654589</td>\n",
       "      <td>0.906882</td>\n",
       "      <td>1.000000</td>\n",
       "      <td>0.683079</td>\n",
       "      <td>0.719668</td>\n",
       "      <td>0.735948</td>\n",
       "      <td>0.719446</td>\n",
       "      <td>0.438911</td>\n",
       "      <td>0.818934</td>\n",
       "    </tr>\n",
       "    <tr>\n",
       "      <th>margadh</th>\n",
       "      <td>0.486356</td>\n",
       "      <td>0.705582</td>\n",
       "      <td>0.683079</td>\n",
       "      <td>1.000000</td>\n",
       "      <td>0.599599</td>\n",
       "      <td>0.666715</td>\n",
       "      <td>0.603352</td>\n",
       "      <td>0.417633</td>\n",
       "      <td>0.696800</td>\n",
       "    </tr>\n",
       "    <tr>\n",
       "      <th>singlepcellsize</th>\n",
       "      <td>0.521816</td>\n",
       "      <td>0.751799</td>\n",
       "      <td>0.719668</td>\n",
       "      <td>0.599599</td>\n",
       "      <td>1.000000</td>\n",
       "      <td>0.616102</td>\n",
       "      <td>0.628881</td>\n",
       "      <td>0.479101</td>\n",
       "      <td>0.682785</td>\n",
       "    </tr>\n",
       "    <tr>\n",
       "      <th>blandchr</th>\n",
       "      <td>0.558428</td>\n",
       "      <td>0.755721</td>\n",
       "      <td>0.735948</td>\n",
       "      <td>0.666715</td>\n",
       "      <td>0.616102</td>\n",
       "      <td>1.000000</td>\n",
       "      <td>0.665878</td>\n",
       "      <td>0.344169</td>\n",
       "      <td>0.756616</td>\n",
       "    </tr>\n",
       "    <tr>\n",
       "      <th>normalnucleoli</th>\n",
       "      <td>0.535835</td>\n",
       "      <td>0.722865</td>\n",
       "      <td>0.719446</td>\n",
       "      <td>0.603352</td>\n",
       "      <td>0.628881</td>\n",
       "      <td>0.665878</td>\n",
       "      <td>1.000000</td>\n",
       "      <td>0.428336</td>\n",
       "      <td>0.712244</td>\n",
       "    </tr>\n",
       "    <tr>\n",
       "      <th>mitoses</th>\n",
       "      <td>0.350034</td>\n",
       "      <td>0.458693</td>\n",
       "      <td>0.438911</td>\n",
       "      <td>0.417633</td>\n",
       "      <td>0.479101</td>\n",
       "      <td>0.344169</td>\n",
       "      <td>0.428336</td>\n",
       "      <td>1.000000</td>\n",
       "      <td>0.423170</td>\n",
       "    </tr>\n",
       "    <tr>\n",
       "      <th>class</th>\n",
       "      <td>0.716001</td>\n",
       "      <td>0.817904</td>\n",
       "      <td>0.818934</td>\n",
       "      <td>0.696800</td>\n",
       "      <td>0.682785</td>\n",
       "      <td>0.756616</td>\n",
       "      <td>0.712244</td>\n",
       "      <td>0.423170</td>\n",
       "      <td>1.000000</td>\n",
       "    </tr>\n",
       "  </tbody>\n",
       "</table>\n",
       "</div>"
      ],
      "text/plain": [
       "                 clumb-thick  ucellsize  ucellshape   margadh  \\\n",
       "clumb-thick         1.000000   0.644913    0.654589  0.486356   \n",
       "ucellsize           0.644913   1.000000    0.906882  0.705582   \n",
       "ucellshape          0.654589   0.906882    1.000000  0.683079   \n",
       "margadh             0.486356   0.705582    0.683079  1.000000   \n",
       "singlepcellsize     0.521816   0.751799    0.719668  0.599599   \n",
       "blandchr            0.558428   0.755721    0.735948  0.666715   \n",
       "normalnucleoli      0.535835   0.722865    0.719446  0.603352   \n",
       "mitoses             0.350034   0.458693    0.438911  0.417633   \n",
       "class               0.716001   0.817904    0.818934  0.696800   \n",
       "\n",
       "                 singlepcellsize  blandchr  normalnucleoli   mitoses     class  \n",
       "clumb-thick             0.521816  0.558428        0.535835  0.350034  0.716001  \n",
       "ucellsize               0.751799  0.755721        0.722865  0.458693  0.817904  \n",
       "ucellshape              0.719668  0.735948        0.719446  0.438911  0.818934  \n",
       "margadh                 0.599599  0.666715        0.603352  0.417633  0.696800  \n",
       "singlepcellsize         1.000000  0.616102        0.628881  0.479101  0.682785  \n",
       "blandchr                0.616102  1.000000        0.665878  0.344169  0.756616  \n",
       "normalnucleoli          0.628881  0.665878        1.000000  0.428336  0.712244  \n",
       "mitoses                 0.479101  0.344169        0.428336  1.000000  0.423170  \n",
       "class                   0.682785  0.756616        0.712244  0.423170  1.000000  "
      ]
     },
     "execution_count": 10,
     "metadata": {},
     "output_type": "execute_result"
    }
   ],
   "source": [
    "data_bcancer.corr()"
   ]
  },
  {
   "cell_type": "code",
   "execution_count": 11,
   "id": "3ee11c18",
   "metadata": {},
   "outputs": [
    {
     "name": "stderr",
     "output_type": "stream",
     "text": [
      "C:\\Users\\igome\\anaconda3\\lib\\site-packages\\numpy\\core\\fromnumeric.py:84: FutureWarning: In a future version, DataFrame.min(axis=None) will return a scalar min over the entire DataFrame. To retain the old behavior, use 'frame.min(axis=0)' or just 'frame.min()'\n",
      "  return reduction(axis=axis, out=out, **passkwargs)\n"
     ]
    },
    {
     "data": {
      "text/plain": [
       "clumb-thick        0.350034\n",
       "ucellsize          0.458693\n",
       "ucellshape         0.438911\n",
       "margadh            0.417633\n",
       "singlepcellsize    0.479101\n",
       "blandchr           0.344169\n",
       "normalnucleoli     0.428336\n",
       "mitoses            0.344169\n",
       "class              0.423170\n",
       "dtype: float64"
      ]
     },
     "execution_count": 11,
     "metadata": {},
     "output_type": "execute_result"
    }
   ],
   "source": [
    "np.min(data_bcancer.corr())"
   ]
  },
  {
   "cell_type": "markdown",
   "id": "cce3e52d",
   "metadata": {},
   "source": [
    "Es blandchr con mitoses: 0.344169"
   ]
  },
  {
   "cell_type": "code",
   "execution_count": 12,
   "id": "7b8887e9",
   "metadata": {},
   "outputs": [
    {
     "data": {
      "text/html": [
       "<div>\n",
       "<style scoped>\n",
       "    .dataframe tbody tr th:only-of-type {\n",
       "        vertical-align: middle;\n",
       "    }\n",
       "\n",
       "    .dataframe tbody tr th {\n",
       "        vertical-align: top;\n",
       "    }\n",
       "\n",
       "    .dataframe thead th {\n",
       "        text-align: right;\n",
       "    }\n",
       "</style>\n",
       "<table border=\"1\" class=\"dataframe\">\n",
       "  <thead>\n",
       "    <tr style=\"text-align: right;\">\n",
       "      <th></th>\n",
       "      <th>blandchr</th>\n",
       "      <th>mitoses</th>\n",
       "      <th>class</th>\n",
       "    </tr>\n",
       "  </thead>\n",
       "  <tbody>\n",
       "    <tr>\n",
       "      <th>1000025</th>\n",
       "      <td>3</td>\n",
       "      <td>1</td>\n",
       "      <td>2</td>\n",
       "    </tr>\n",
       "    <tr>\n",
       "      <th>1002945</th>\n",
       "      <td>3</td>\n",
       "      <td>1</td>\n",
       "      <td>2</td>\n",
       "    </tr>\n",
       "    <tr>\n",
       "      <th>1015425</th>\n",
       "      <td>3</td>\n",
       "      <td>1</td>\n",
       "      <td>2</td>\n",
       "    </tr>\n",
       "    <tr>\n",
       "      <th>1016277</th>\n",
       "      <td>3</td>\n",
       "      <td>1</td>\n",
       "      <td>2</td>\n",
       "    </tr>\n",
       "    <tr>\n",
       "      <th>1017023</th>\n",
       "      <td>3</td>\n",
       "      <td>1</td>\n",
       "      <td>2</td>\n",
       "    </tr>\n",
       "    <tr>\n",
       "      <th>...</th>\n",
       "      <td>...</td>\n",
       "      <td>...</td>\n",
       "      <td>...</td>\n",
       "    </tr>\n",
       "    <tr>\n",
       "      <th>776715</th>\n",
       "      <td>1</td>\n",
       "      <td>1</td>\n",
       "      <td>2</td>\n",
       "    </tr>\n",
       "    <tr>\n",
       "      <th>841769</th>\n",
       "      <td>1</td>\n",
       "      <td>1</td>\n",
       "      <td>2</td>\n",
       "    </tr>\n",
       "    <tr>\n",
       "      <th>888820</th>\n",
       "      <td>8</td>\n",
       "      <td>2</td>\n",
       "      <td>4</td>\n",
       "    </tr>\n",
       "    <tr>\n",
       "      <th>897471</th>\n",
       "      <td>10</td>\n",
       "      <td>1</td>\n",
       "      <td>4</td>\n",
       "    </tr>\n",
       "    <tr>\n",
       "      <th>897471</th>\n",
       "      <td>10</td>\n",
       "      <td>1</td>\n",
       "      <td>4</td>\n",
       "    </tr>\n",
       "  </tbody>\n",
       "</table>\n",
       "<p>699 rows × 3 columns</p>\n",
       "</div>"
      ],
      "text/plain": [
       "         blandchr  mitoses  class\n",
       "1000025         3        1      2\n",
       "1002945         3        1      2\n",
       "1015425         3        1      2\n",
       "1016277         3        1      2\n",
       "1017023         3        1      2\n",
       "...           ...      ...    ...\n",
       "776715          1        1      2\n",
       "841769          1        1      2\n",
       "888820          8        2      4\n",
       "897471         10        1      4\n",
       "897471         10        1      4\n",
       "\n",
       "[699 rows x 3 columns]"
      ]
     },
     "execution_count": 12,
     "metadata": {},
     "output_type": "execute_result"
    }
   ],
   "source": [
    "data_bcancer_filter = data_bcancer[['blandchr', 'mitoses', 'class']]\n",
    "data_bcancer_filter"
   ]
  },
  {
   "cell_type": "code",
   "execution_count": 13,
   "id": "ea502bf8",
   "metadata": {},
   "outputs": [
    {
     "data": {
      "text/plain": [
       "((699, 2), (699, 1))"
      ]
     },
     "execution_count": 13,
     "metadata": {},
     "output_type": "execute_result"
    }
   ],
   "source": [
    "X = data_bcancer_filter.values[:,:2]\n",
    "Y = data_bcancer_filter.values[:, 2].reshape(-1,1)\n",
    "np.shape(X), np.shape(Y)"
   ]
  },
  {
   "cell_type": "code",
   "execution_count": 14,
   "id": "f7c6aa1c",
   "metadata": {},
   "outputs": [],
   "source": [
    "from sklearn.preprocessing import MinMaxScaler\n",
    "scalerx = MinMaxScaler(feature_range=(-1,1))\n",
    "scalerx.fit(X)\n",
    "X = scalerx.transform(X)"
   ]
  },
  {
   "cell_type": "markdown",
   "id": "a6b32a6c",
   "metadata": {},
   "source": [
    "#### Como el la funcion escalon pasa de -1 a 1, las clases de Y hay que convertirlas de 2 a 4 a-1 y 1 respectivamente"
   ]
  },
  {
   "cell_type": "code",
   "execution_count": 15,
   "id": "5c4ea56c",
   "metadata": {},
   "outputs": [],
   "source": [
    "Y = np.where(Y == 2, -1, 1)"
   ]
  },
  {
   "cell_type": "markdown",
   "id": "8ef2c731",
   "metadata": {},
   "source": [
    "Si nos fijamos en la suma ponderada, tenemos que la salida de la neurona antes de pasar por la funcion de activacion, es:\n",
    "\n",
    "$$w_1x_1+w_2x_2+w_3$$,\n",
    "\n",
    "donde $w_3$ es el bias; igualamos a cero, que es nuestro umbral:\n",
    "\n",
    "$$w_1x_1+w_2x_2+w_3=0$$\n",
    "\n",
    "Lo que queremos graficar es $x_1$ vs $x_2$, asi que despejamos $x_2$:\n",
    "\n",
    "$$x_2 = -\\frac{w_1}{w_2}x - \\frac{w_3}{w_2}$$\n",
    "\n",
    "Dado que en python los indices inician en 0 $w_1$ es w[0],  $w_2$ es w[1] y  $w_3$ es w[2]."
   ]
  },
  {
   "cell_type": "code",
   "execution_count": 16,
   "id": "564962c0",
   "metadata": {},
   "outputs": [],
   "source": [
    "pereceptron_cancer = Perceptron(alpha=1e-4, umbral=0, intercepto=True, epocas=100)"
   ]
  },
  {
   "cell_type": "code",
   "execution_count": 17,
   "id": "bdd3e254",
   "metadata": {},
   "outputs": [
    {
     "name": "stdout",
     "output_type": "stream",
     "text": [
      "[[0.0006    ]\n",
      " [0.001     ]\n",
      " [0.00033333]]\n",
      "[-0.6] [-0.33333333]\n"
     ]
    },
    {
     "data": {
      "image/png": "[encoded data removed]",
      "text/plain": [
       "<Figure size 640x480 with 1 Axes>"
      ]
     },
     "metadata": {},
     "output_type": "display_data"
    }
   ],
   "source": [
    "\n",
    "\n",
    "# usacmos los datos estandarizados para entrenar\n",
    "pereceptron_cancer.aprender(X = X, y = Y)\n",
    "\n",
    "\n",
    "# mascara OR para colorear diferentes clases\n",
    "color= ['red' if l == -1 else 'green' for l in Y]\n",
    "\n",
    "plt.scatter(X[:,0], X[:,1], label='cancer dataset', color=color, marker = 'o')\n",
    "\n",
    "xx1 = np.linspace(min(X[:,0]), max(X[:,0]))\n",
    "w = pereceptron_cancer.w_\n",
    "print(w)\n",
    "m = -w[0]/w[1]\n",
    "b = -w[2]/w[1]\n",
    "print(m,b)\n",
    "xx2 = m*xx1+b\n",
    "\n",
    "plt.plot(xx1, xx2, '--', color = 'black')\n",
    "\n",
    "plt.show()"
   ]
  },
  {
   "cell_type": "markdown",
   "id": "4c7441e7",
   "metadata": {},
   "source": [
    "## Introducción al Aprendizaje Automático\n",
    "\n",
    "![](https://raw.githubusercontent.com/igomezv/DataScienceIntermedio/main/img/ML_grafo.jpg)\n",
    "Fuente de la imagen: medium.com\n",
    "\n",
    "![](https://raw.githubusercontent.com/igomezv/DataScienceIntermedio/main/img/ML_tipos.png)\n",
    "Fuente de la imagen: mlearninglab.com\n",
    "\n",
    "\n",
    "![](https://raw.githubusercontent.com/igomezv/DataScienceIntermedio/main/img/ML_pipeline.png)\n",
    "Fuente de la imagen: Western Digital\n",
    "\n",
    "\n",
    "### Separacion del conjunto de datos\n",
    "\n",
    "Si se tienen pocos datos:\n",
    "![](https://raw.githubusercontent.com/igomezv/DataScienceIntermedio/main/img/split_data.png)\n",
    "\n",
    "Si hay datos suficientes:\n",
    "![](https://raw.githubusercontent.com/igomezv/DataScienceIntermedio/main/img/split_data2.png)\n",
    "\n",
    "Fuente de las figuras: https://vitalflux.com/hold-out-method-for-training-machine-learning-model/\n",
    "\n",
    "## Actividad, leer la base de datos usada anteriormente, revolver aleatoreamente sus valores y dividir en tres conjuntos, uno con el 70% y los otros dos con 15% cada uno."
   ]
  },
  {
   "cell_type": "code",
   "execution_count": 18,
   "id": "92a05a55",
   "metadata": {},
   "outputs": [
    {
     "data": {
      "text/html": [
       "<div>\n",
       "<style scoped>\n",
       "    .dataframe tbody tr th:only-of-type {\n",
       "        vertical-align: middle;\n",
       "    }\n",
       "\n",
       "    .dataframe tbody tr th {\n",
       "        vertical-align: top;\n",
       "    }\n",
       "\n",
       "    .dataframe thead th {\n",
       "        text-align: right;\n",
       "    }\n",
       "</style>\n",
       "<table border=\"1\" class=\"dataframe\">\n",
       "  <thead>\n",
       "    <tr style=\"text-align: right;\">\n",
       "      <th></th>\n",
       "      <th>clumb-thick</th>\n",
       "      <th>ucellsize</th>\n",
       "      <th>ucellshape</th>\n",
       "      <th>margadh</th>\n",
       "      <th>singlepcellsize</th>\n",
       "      <th>barenuclei</th>\n",
       "      <th>blandchr</th>\n",
       "      <th>normalnucleoli</th>\n",
       "      <th>mitoses</th>\n",
       "      <th>class</th>\n",
       "    </tr>\n",
       "  </thead>\n",
       "  <tbody>\n",
       "    <tr>\n",
       "      <th>1000025</th>\n",
       "      <td>5</td>\n",
       "      <td>1</td>\n",
       "      <td>1</td>\n",
       "      <td>1</td>\n",
       "      <td>2</td>\n",
       "      <td>1</td>\n",
       "      <td>3</td>\n",
       "      <td>1</td>\n",
       "      <td>1</td>\n",
       "      <td>2</td>\n",
       "    </tr>\n",
       "    <tr>\n",
       "      <th>1002945</th>\n",
       "      <td>5</td>\n",
       "      <td>4</td>\n",
       "      <td>4</td>\n",
       "      <td>5</td>\n",
       "      <td>7</td>\n",
       "      <td>10</td>\n",
       "      <td>3</td>\n",
       "      <td>2</td>\n",
       "      <td>1</td>\n",
       "      <td>2</td>\n",
       "    </tr>\n",
       "    <tr>\n",
       "      <th>1015425</th>\n",
       "      <td>3</td>\n",
       "      <td>1</td>\n",
       "      <td>1</td>\n",
       "      <td>1</td>\n",
       "      <td>2</td>\n",
       "      <td>2</td>\n",
       "      <td>3</td>\n",
       "      <td>1</td>\n",
       "      <td>1</td>\n",
       "      <td>2</td>\n",
       "    </tr>\n",
       "    <tr>\n",
       "      <th>1016277</th>\n",
       "      <td>6</td>\n",
       "      <td>8</td>\n",
       "      <td>8</td>\n",
       "      <td>1</td>\n",
       "      <td>3</td>\n",
       "      <td>4</td>\n",
       "      <td>3</td>\n",
       "      <td>7</td>\n",
       "      <td>1</td>\n",
       "      <td>2</td>\n",
       "    </tr>\n",
       "    <tr>\n",
       "      <th>1017023</th>\n",
       "      <td>4</td>\n",
       "      <td>1</td>\n",
       "      <td>1</td>\n",
       "      <td>3</td>\n",
       "      <td>2</td>\n",
       "      <td>1</td>\n",
       "      <td>3</td>\n",
       "      <td>1</td>\n",
       "      <td>1</td>\n",
       "      <td>2</td>\n",
       "    </tr>\n",
       "  </tbody>\n",
       "</table>\n",
       "</div>"
      ],
      "text/plain": [
       "         clumb-thick  ucellsize  ucellshape  margadh  singlepcellsize  \\\n",
       "1000025            5          1           1        1                2   \n",
       "1002945            5          4           4        5                7   \n",
       "1015425            3          1           1        1                2   \n",
       "1016277            6          8           8        1                3   \n",
       "1017023            4          1           1        3                2   \n",
       "\n",
       "        barenuclei  blandchr  normalnucleoli  mitoses  class  \n",
       "1000025          1         3               1        1      2  \n",
       "1002945         10         3               2        1      2  \n",
       "1015425          2         3               1        1      2  \n",
       "1016277          4         3               7        1      2  \n",
       "1017023          1         3               1        1      2  "
      ]
     },
     "execution_count": 18,
     "metadata": {},
     "output_type": "execute_result"
    }
   ],
   "source": [
    "data_bcancer.head()"
   ]
  },
  {
   "cell_type": "code",
   "execution_count": 19,
   "id": "f5db8b3f",
   "metadata": {},
   "outputs": [
    {
     "data": {
      "text/plain": [
       "((524, 9), (88, 9), (87, 9), (524,), (88,), (87,))"
      ]
     },
     "execution_count": 19,
     "metadata": {},
     "output_type": "execute_result"
    }
   ],
   "source": [
    "from sklearn.model_selection import train_test_split\n",
    "## Primero separamos el conjunto de entrenamiento con 75% y otro temporal con el 25% \n",
    "data_train, data_temp = train_test_split(data_bcancer.values, train_size=0.75, shuffle=True)\n",
    "## El temporal lo partimos en dos partes iguales para obtener conjuntos de validacion y de prueba\n",
    "data_val, data_test = train_test_split(data_temp, test_size=0.5, shuffle=True)\n",
    "## Separamos X y Y para cada nuevo conjunto\n",
    "X_train, Y_train = data_train[:,:-1], data_train[:,-1]\n",
    "X_val, Y_val = data_val[:,:-1], data_val[:,-1]\n",
    "X_test, Y_test = data_test[:,:-1], data_test[:,-1]\n",
    "## Verificamos tamanos\n",
    "np.shape(X_train), np.shape(X_test), np.shape(X_val), np.shape(Y_train), np.shape(Y_test), np.shape(Y_val)"
   ]
  },
  {
   "cell_type": "markdown",
   "id": "d9041a50",
   "metadata": {},
   "source": [
    "Intentemos usar nuestros datos para un modelo sencillo con sklearn"
   ]
  },
  {
   "cell_type": "code",
   "execution_count": 20,
   "id": "a1b7cf59",
   "metadata": {},
   "outputs": [
    {
     "ename": "ValueError",
     "evalue": "could not convert string to float: '?'",
     "output_type": "error",
     "traceback": [
      "\u001b[1;31m---------------------------------------------------------------------------\u001b[0m",
      "\u001b[1;31mValueError\u001b[0m                                Traceback (most recent call last)",
      "\u001b[1;32m~\\AppData\\Local\\Temp\\ipykernel_1636\\245374908.py\u001b[0m in \u001b[0;36m<module>\u001b[1;34m\u001b[0m\n\u001b[0;32m      1\u001b[0m \u001b[1;32mfrom\u001b[0m \u001b[0msklearn\u001b[0m\u001b[1;33m.\u001b[0m\u001b[0mlinear_model\u001b[0m \u001b[1;32mimport\u001b[0m \u001b[0mPerceptron\u001b[0m\u001b[1;33m\u001b[0m\u001b[1;33m\u001b[0m\u001b[0m\n\u001b[0;32m      2\u001b[0m \u001b[0mclf\u001b[0m \u001b[1;33m=\u001b[0m \u001b[0mPerceptron\u001b[0m\u001b[1;33m(\u001b[0m\u001b[0mtol\u001b[0m\u001b[1;33m=\u001b[0m\u001b[1;36m0.001\u001b[0m\u001b[1;33m,\u001b[0m \u001b[0mrandom_state\u001b[0m\u001b[1;33m=\u001b[0m\u001b[1;36m0\u001b[0m\u001b[1;33m)\u001b[0m\u001b[1;33m\u001b[0m\u001b[1;33m\u001b[0m\u001b[0m\n\u001b[1;32m----> 3\u001b[1;33m \u001b[0mclf\u001b[0m\u001b[1;33m.\u001b[0m\u001b[0mfit\u001b[0m\u001b[1;33m(\u001b[0m\u001b[0mX_train\u001b[0m\u001b[1;33m,\u001b[0m \u001b[0mY_train\u001b[0m\u001b[1;33m)\u001b[0m\u001b[1;33m\u001b[0m\u001b[1;33m\u001b[0m\u001b[0m\n\u001b[0m",
      "\u001b[1;32m~\\anaconda3\\lib\\site-packages\\sklearn\\linear_model\\_stochastic_gradient.py\u001b[0m in \u001b[0;36mfit\u001b[1;34m(self, X, y, coef_init, intercept_init, sample_weight)\u001b[0m\n\u001b[0;32m    881\u001b[0m             \u001b[0mReturns\u001b[0m \u001b[0man\u001b[0m \u001b[0minstance\u001b[0m \u001b[0mof\u001b[0m \u001b[0mself\u001b[0m\u001b[1;33m.\u001b[0m\u001b[1;33m\u001b[0m\u001b[1;33m\u001b[0m\u001b[0m\n\u001b[0;32m    882\u001b[0m         \"\"\"\n\u001b[1;32m--> 883\u001b[1;33m         return self._fit(\n\u001b[0m\u001b[0;32m    884\u001b[0m             \u001b[0mX\u001b[0m\u001b[1;33m,\u001b[0m\u001b[1;33m\u001b[0m\u001b[1;33m\u001b[0m\u001b[0m\n\u001b[0;32m    885\u001b[0m             \u001b[0my\u001b[0m\u001b[1;33m,\u001b[0m\u001b[1;33m\u001b[0m\u001b[1;33m\u001b[0m\u001b[0m\n",
      "\u001b[1;32m~\\anaconda3\\lib\\site-packages\\sklearn\\linear_model\\_stochastic_gradient.py\u001b[0m in \u001b[0;36m_fit\u001b[1;34m(self, X, y, alpha, C, loss, learning_rate, coef_init, intercept_init, sample_weight)\u001b[0m\n\u001b[0;32m    675\u001b[0m         \u001b[0mself\u001b[0m\u001b[1;33m.\u001b[0m\u001b[0mt_\u001b[0m \u001b[1;33m=\u001b[0m \u001b[1;36m1.0\u001b[0m\u001b[1;33m\u001b[0m\u001b[1;33m\u001b[0m\u001b[0m\n\u001b[0;32m    676\u001b[0m \u001b[1;33m\u001b[0m\u001b[0m\n\u001b[1;32m--> 677\u001b[1;33m         self._partial_fit(\n\u001b[0m\u001b[0;32m    678\u001b[0m             \u001b[0mX\u001b[0m\u001b[1;33m,\u001b[0m\u001b[1;33m\u001b[0m\u001b[1;33m\u001b[0m\u001b[0m\n\u001b[0;32m    679\u001b[0m             \u001b[0my\u001b[0m\u001b[1;33m,\u001b[0m\u001b[1;33m\u001b[0m\u001b[1;33m\u001b[0m\u001b[0m\n",
      "\u001b[1;32m~\\anaconda3\\lib\\site-packages\\sklearn\\linear_model\\_stochastic_gradient.py\u001b[0m in \u001b[0;36m_partial_fit\u001b[1;34m(self, X, y, alpha, C, loss, learning_rate, max_iter, classes, sample_weight, coef_init, intercept_init)\u001b[0m\n\u001b[0;32m    570\u001b[0m     ):\n\u001b[0;32m    571\u001b[0m         \u001b[0mfirst_call\u001b[0m \u001b[1;33m=\u001b[0m \u001b[1;32mnot\u001b[0m \u001b[0mhasattr\u001b[0m\u001b[1;33m(\u001b[0m\u001b[0mself\u001b[0m\u001b[1;33m,\u001b[0m \u001b[1;34m\"classes_\"\u001b[0m\u001b[1;33m)\u001b[0m\u001b[1;33m\u001b[0m\u001b[1;33m\u001b[0m\u001b[0m\n\u001b[1;32m--> 572\u001b[1;33m         X, y = self._validate_data(\n\u001b[0m\u001b[0;32m    573\u001b[0m             \u001b[0mX\u001b[0m\u001b[1;33m,\u001b[0m\u001b[1;33m\u001b[0m\u001b[1;33m\u001b[0m\u001b[0m\n\u001b[0;32m    574\u001b[0m             \u001b[0my\u001b[0m\u001b[1;33m,\u001b[0m\u001b[1;33m\u001b[0m\u001b[1;33m\u001b[0m\u001b[0m\n",
      "\u001b[1;32m~\\anaconda3\\lib\\site-packages\\sklearn\\base.py\u001b[0m in \u001b[0;36m_validate_data\u001b[1;34m(self, X, y, reset, validate_separately, **check_params)\u001b[0m\n\u001b[0;32m    579\u001b[0m                 \u001b[0my\u001b[0m \u001b[1;33m=\u001b[0m \u001b[0mcheck_array\u001b[0m\u001b[1;33m(\u001b[0m\u001b[0my\u001b[0m\u001b[1;33m,\u001b[0m \u001b[1;33m**\u001b[0m\u001b[0mcheck_y_params\u001b[0m\u001b[1;33m)\u001b[0m\u001b[1;33m\u001b[0m\u001b[1;33m\u001b[0m\u001b[0m\n\u001b[0;32m    580\u001b[0m             \u001b[1;32melse\u001b[0m\u001b[1;33m:\u001b[0m\u001b[1;33m\u001b[0m\u001b[1;33m\u001b[0m\u001b[0m\n\u001b[1;32m--> 581\u001b[1;33m                 \u001b[0mX\u001b[0m\u001b[1;33m,\u001b[0m \u001b[0my\u001b[0m \u001b[1;33m=\u001b[0m \u001b[0mcheck_X_y\u001b[0m\u001b[1;33m(\u001b[0m\u001b[0mX\u001b[0m\u001b[1;33m,\u001b[0m \u001b[0my\u001b[0m\u001b[1;33m,\u001b[0m \u001b[1;33m**\u001b[0m\u001b[0mcheck_params\u001b[0m\u001b[1;33m)\u001b[0m\u001b[1;33m\u001b[0m\u001b[1;33m\u001b[0m\u001b[0m\n\u001b[0m\u001b[0;32m    582\u001b[0m             \u001b[0mout\u001b[0m \u001b[1;33m=\u001b[0m \u001b[0mX\u001b[0m\u001b[1;33m,\u001b[0m \u001b[0my\u001b[0m\u001b[1;33m\u001b[0m\u001b[1;33m\u001b[0m\u001b[0m\n\u001b[0;32m    583\u001b[0m \u001b[1;33m\u001b[0m\u001b[0m\n",
      "\u001b[1;32m~\\anaconda3\\lib\\site-packages\\sklearn\\utils\\validation.py\u001b[0m in \u001b[0;36mcheck_X_y\u001b[1;34m(X, y, accept_sparse, accept_large_sparse, dtype, order, copy, force_all_finite, ensure_2d, allow_nd, multi_output, ensure_min_samples, ensure_min_features, y_numeric, estimator)\u001b[0m\n\u001b[0;32m    962\u001b[0m         \u001b[1;32mraise\u001b[0m \u001b[0mValueError\u001b[0m\u001b[1;33m(\u001b[0m\u001b[1;34m\"y cannot be None\"\u001b[0m\u001b[1;33m)\u001b[0m\u001b[1;33m\u001b[0m\u001b[1;33m\u001b[0m\u001b[0m\n\u001b[0;32m    963\u001b[0m \u001b[1;33m\u001b[0m\u001b[0m\n\u001b[1;32m--> 964\u001b[1;33m     X = check_array(\n\u001b[0m\u001b[0;32m    965\u001b[0m         \u001b[0mX\u001b[0m\u001b[1;33m,\u001b[0m\u001b[1;33m\u001b[0m\u001b[1;33m\u001b[0m\u001b[0m\n\u001b[0;32m    966\u001b[0m         \u001b[0maccept_sparse\u001b[0m\u001b[1;33m=\u001b[0m\u001b[0maccept_sparse\u001b[0m\u001b[1;33m,\u001b[0m\u001b[1;33m\u001b[0m\u001b[1;33m\u001b[0m\u001b[0m\n",
      "\u001b[1;32m~\\anaconda3\\lib\\site-packages\\sklearn\\utils\\validation.py\u001b[0m in \u001b[0;36mcheck_array\u001b[1;34m(array, accept_sparse, accept_large_sparse, dtype, order, copy, force_all_finite, ensure_2d, allow_nd, ensure_min_samples, ensure_min_features, estimator)\u001b[0m\n\u001b[0;32m    744\u001b[0m                     \u001b[0marray\u001b[0m \u001b[1;33m=\u001b[0m \u001b[0marray\u001b[0m\u001b[1;33m.\u001b[0m\u001b[0mastype\u001b[0m\u001b[1;33m(\u001b[0m\u001b[0mdtype\u001b[0m\u001b[1;33m,\u001b[0m \u001b[0mcasting\u001b[0m\u001b[1;33m=\u001b[0m\u001b[1;34m\"unsafe\"\u001b[0m\u001b[1;33m,\u001b[0m \u001b[0mcopy\u001b[0m\u001b[1;33m=\u001b[0m\u001b[1;32mFalse\u001b[0m\u001b[1;33m)\u001b[0m\u001b[1;33m\u001b[0m\u001b[1;33m\u001b[0m\u001b[0m\n\u001b[0;32m    745\u001b[0m                 \u001b[1;32melse\u001b[0m\u001b[1;33m:\u001b[0m\u001b[1;33m\u001b[0m\u001b[1;33m\u001b[0m\u001b[0m\n\u001b[1;32m--> 746\u001b[1;33m                     \u001b[0marray\u001b[0m \u001b[1;33m=\u001b[0m \u001b[0mnp\u001b[0m\u001b[1;33m.\u001b[0m\u001b[0masarray\u001b[0m\u001b[1;33m(\u001b[0m\u001b[0marray\u001b[0m\u001b[1;33m,\u001b[0m \u001b[0morder\u001b[0m\u001b[1;33m=\u001b[0m\u001b[0morder\u001b[0m\u001b[1;33m,\u001b[0m \u001b[0mdtype\u001b[0m\u001b[1;33m=\u001b[0m\u001b[0mdtype\u001b[0m\u001b[1;33m)\u001b[0m\u001b[1;33m\u001b[0m\u001b[1;33m\u001b[0m\u001b[0m\n\u001b[0m\u001b[0;32m    747\u001b[0m             \u001b[1;32mexcept\u001b[0m \u001b[0mComplexWarning\u001b[0m \u001b[1;32mas\u001b[0m \u001b[0mcomplex_warning\u001b[0m\u001b[1;33m:\u001b[0m\u001b[1;33m\u001b[0m\u001b[1;33m\u001b[0m\u001b[0m\n\u001b[0;32m    748\u001b[0m                 raise ValueError(\n",
      "\u001b[1;31mValueError\u001b[0m: could not convert string to float: '?'"
     ]
    }
   ],
   "source": [
    "from sklearn.linear_model import Perceptron\n",
    "clf = Perceptron(tol=0.001, random_state=0)\n",
    "clf.fit(X_train, Y_train)"
   ]
  },
  {
   "cell_type": "markdown",
   "id": "1a0d8f14",
   "metadata": {},
   "source": [
    "Por qué marca error? Parece que nuestra base de datos tiene un \"?\". Hay que detectarlo y quitarlo como en la primera clase."
   ]
  },
  {
   "cell_type": "code",
   "execution_count": 22,
   "id": "04636f75",
   "metadata": {
    "scrolled": true
   },
   "outputs": [
    {
     "data": {
      "text/html": [
       "<div>\n",
       "<style scoped>\n",
       "    .dataframe tbody tr th:only-of-type {\n",
       "        vertical-align: middle;\n",
       "    }\n",
       "\n",
       "    .dataframe tbody tr th {\n",
       "        vertical-align: top;\n",
       "    }\n",
       "\n",
       "    .dataframe thead th {\n",
       "        text-align: right;\n",
       "    }\n",
       "</style>\n",
       "<table border=\"1\" class=\"dataframe\">\n",
       "  <thead>\n",
       "    <tr style=\"text-align: right;\">\n",
       "      <th></th>\n",
       "      <th>clumb-thick</th>\n",
       "      <th>ucellsize</th>\n",
       "      <th>ucellshape</th>\n",
       "      <th>margadh</th>\n",
       "      <th>singlepcellsize</th>\n",
       "      <th>barenuclei</th>\n",
       "      <th>blandchr</th>\n",
       "      <th>normalnucleoli</th>\n",
       "      <th>mitoses</th>\n",
       "      <th>class</th>\n",
       "    </tr>\n",
       "  </thead>\n",
       "  <tbody>\n",
       "    <tr>\n",
       "      <th>1000025</th>\n",
       "      <td>5</td>\n",
       "      <td>1</td>\n",
       "      <td>1</td>\n",
       "      <td>1</td>\n",
       "      <td>2</td>\n",
       "      <td>1.0</td>\n",
       "      <td>3</td>\n",
       "      <td>1</td>\n",
       "      <td>1</td>\n",
       "      <td>2</td>\n",
       "    </tr>\n",
       "    <tr>\n",
       "      <th>1002945</th>\n",
       "      <td>5</td>\n",
       "      <td>4</td>\n",
       "      <td>4</td>\n",
       "      <td>5</td>\n",
       "      <td>7</td>\n",
       "      <td>10.0</td>\n",
       "      <td>3</td>\n",
       "      <td>2</td>\n",
       "      <td>1</td>\n",
       "      <td>2</td>\n",
       "    </tr>\n",
       "    <tr>\n",
       "      <th>1015425</th>\n",
       "      <td>3</td>\n",
       "      <td>1</td>\n",
       "      <td>1</td>\n",
       "      <td>1</td>\n",
       "      <td>2</td>\n",
       "      <td>2.0</td>\n",
       "      <td>3</td>\n",
       "      <td>1</td>\n",
       "      <td>1</td>\n",
       "      <td>2</td>\n",
       "    </tr>\n",
       "    <tr>\n",
       "      <th>1016277</th>\n",
       "      <td>6</td>\n",
       "      <td>8</td>\n",
       "      <td>8</td>\n",
       "      <td>1</td>\n",
       "      <td>3</td>\n",
       "      <td>4.0</td>\n",
       "      <td>3</td>\n",
       "      <td>7</td>\n",
       "      <td>1</td>\n",
       "      <td>2</td>\n",
       "    </tr>\n",
       "    <tr>\n",
       "      <th>1017023</th>\n",
       "      <td>4</td>\n",
       "      <td>1</td>\n",
       "      <td>1</td>\n",
       "      <td>3</td>\n",
       "      <td>2</td>\n",
       "      <td>1.0</td>\n",
       "      <td>3</td>\n",
       "      <td>1</td>\n",
       "      <td>1</td>\n",
       "      <td>2</td>\n",
       "    </tr>\n",
       "  </tbody>\n",
       "</table>\n",
       "</div>"
      ],
      "text/plain": [
       "         clumb-thick  ucellsize  ucellshape  margadh  singlepcellsize  \\\n",
       "1000025            5          1           1        1                2   \n",
       "1002945            5          4           4        5                7   \n",
       "1015425            3          1           1        1                2   \n",
       "1016277            6          8           8        1                3   \n",
       "1017023            4          1           1        3                2   \n",
       "\n",
       "         barenuclei  blandchr  normalnucleoli  mitoses  class  \n",
       "1000025         1.0         3               1        1      2  \n",
       "1002945        10.0         3               2        1      2  \n",
       "1015425         2.0         3               1        1      2  \n",
       "1016277         4.0         3               7        1      2  \n",
       "1017023         1.0         3               1        1      2  "
      ]
     },
     "execution_count": 22,
     "metadata": {},
     "output_type": "execute_result"
    }
   ],
   "source": [
    "cols = data_bcancer.columns\n",
    "\n",
    "df_clean = data_bcancer[cols].apply(pd.to_numeric, errors='coerce').fillna(0)\n",
    "df_clean.head(5)"
   ]
  },
  {
   "cell_type": "markdown",
   "id": "3a5a1ca5",
   "metadata": {},
   "source": [
    "Volvemos a separar nuestro dataset"
   ]
  },
  {
   "cell_type": "code",
   "execution_count": 33,
   "id": "8bca344e",
   "metadata": {},
   "outputs": [
    {
     "data": {
      "text/plain": [
       "((524, 9), (88, 9), (87, 9), (524,), (88,), (87,))"
      ]
     },
     "execution_count": 33,
     "metadata": {},
     "output_type": "execute_result"
    }
   ],
   "source": [
    "## Primero separamos el conjunto de entrenamiento con 75% y otro temporal con el 25% \n",
    "data_train, data_temp = train_test_split(df_clean.values, train_size=0.75, shuffle=True)\n",
    "## El temporal lo partimos en dos partes iguales para obtener conjuntos de validacion y de prueba\n",
    "data_val, data_test = train_test_split(data_temp, test_size=0.5, shuffle=True)\n",
    "## Separamos X y Y para cada nuevo conjunto\n",
    "X_train, Y_train = data_train[:,:-1], data_train[:,-1]\n",
    "X_val, Y_val = data_val[:,:-1], data_val[:,-1]\n",
    "X_test, Y_test = data_test[:,:-1], data_test[:,-1]\n",
    "## Verificamos tamanos\n",
    "np.shape(X_train), np.shape(X_test), np.shape(X_val), np.shape(Y_train), np.shape(Y_test), np.shape(Y_val)"
   ]
  },
  {
   "cell_type": "markdown",
   "id": "ba3bc1f4",
   "metadata": {},
   "source": [
    "Volvemos a probar"
   ]
  },
  {
   "cell_type": "code",
   "execution_count": 34,
   "id": "ebbb6e05",
   "metadata": {},
   "outputs": [
    {
     "data": {
      "text/plain": [
       "Perceptron()"
      ]
     },
     "execution_count": 34,
     "metadata": {},
     "output_type": "execute_result"
    }
   ],
   "source": [
    "clf = Perceptron(tol=0.001, random_state=0)\n",
    "clf.fit(X_train, Y_train)"
   ]
  },
  {
   "cell_type": "markdown",
   "id": "6cd197a7",
   "metadata": {},
   "source": [
    "Probamos su metrica, en este caso su exactitud:"
   ]
  },
  {
   "cell_type": "code",
   "execution_count": 35,
   "id": "596bcbb0",
   "metadata": {},
   "outputs": [
    {
     "data": {
      "text/plain": [
       "0.9659090909090909"
      ]
     },
     "execution_count": 35,
     "metadata": {},
     "output_type": "execute_result"
    }
   ],
   "source": [
    "clf.score(X_test, Y_test)"
   ]
  },
  {
   "cell_type": "code",
   "execution_count": 39,
   "id": "4e9e8366",
   "metadata": {},
   "outputs": [
    {
     "data": {
      "text/plain": [
       "array([2.])"
      ]
     },
     "execution_count": 39,
     "metadata": {},
     "output_type": "execute_result"
    }
   ],
   "source": [
    "clf.predict(np.array([3,1,1,1,2,2.0,3,1,0]).reshape(1,-1))"
   ]
  },
  {
   "cell_type": "markdown",
   "id": "a8f6a2c1",
   "metadata": {},
   "source": [
    "\n",
    "## Referencias\n",
    "\n",
    "- McCulloch, W. S., & Pitts, W. (1943). A logical calculus of the ideas immanent in nervous activity. The bulletin of mathematical biophysics, 5(4), 115-133. \n",
    "\n",
    "- Rosenblatt, F. (1958). The perceptron: a probabilistic model for information storage and organization in the brain. Psychological review, 65(6), 386.\n",
    "\n",
    "- https://jontysinai.github.io/jekyll/update/2017/09/24/the-mcp-neuron.html\n",
    "\n",
    "- https://sebastianraschka.com/Articles/2015_singlelayer_neurons.html \n",
    "\n",
    " https://vitalflux.com/hold-out-method-for-training-machine-learning-model/"
   ]
  },
  {
   "cell_type": "code",
   "execution_count": null,
   "id": "9bbab8dd",
   "metadata": {},
   "outputs": [],
   "source": []
  }
 ],
 "metadata": {
  "kernelspec": {
   "display_name": "Python 3 (ipykernel)",
   "language": "python",
   "name": "python3"
  },
  "language_info": {
   "codemirror_mode": {
    "name": "ipython",
    "version": 3
   },
   "file_extension": ".py",
   "mimetype": "text/x-python",
   "name": "python",
   "nbconvert_exporter": "python",
   "pygments_lexer": "ipython3",
   "version": "3.9.13"
  }
 },
 "nbformat": 4,
 "nbformat_minor": 5
}
