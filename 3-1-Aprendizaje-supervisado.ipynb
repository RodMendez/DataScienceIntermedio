{
 "cells": [
  {
   "cell_type": "markdown",
   "id": "b94ca426",
   "metadata": {},
   "source": [
    "Metricas de clasificación\n",
    "\n",
    "\n",
    "![](https://raw.githubusercontent.com/igomezv/DataScienceIntermedio/main/img/confusionMatrx.jpg)\n",
    "\n",
    "\n",
    "Metricas de regresión\n",
    "\n",
    "![](https://raw.githubusercontent.com/igomezv/DataScienceIntermedio/main/img/metricas-regresion.png)\n",
    "Fuente de la imagen: sitiobigdata.com\n"
   ]
  },
  {
   "cell_type": "markdown",
   "id": "2cb3ec4a",
   "metadata": {},
   "source": [
    "Para empezar retomemos el ejemplo de la notebook anterior y analicemos algunas cosas."
   ]
  },
  {
   "cell_type": "code",
   "execution_count": 10,
   "id": "cbb691c8",
   "metadata": {},
   "outputs": [],
   "source": [
    "import pandas as pd\n",
    "import numpy as np\n",
    "import matplotlib.pyplot as plt\n",
    "\n",
    "from sklearn.linear_model import Perceptron\n",
    "from sklearn.model_selection import train_test_split"
   ]
  },
  {
   "cell_type": "code",
   "execution_count": 11,
   "id": "e928e02d",
   "metadata": {},
   "outputs": [
    {
     "data": {
      "text/html": [
       "<div>\n",
       "<style scoped>\n",
       "    .dataframe tbody tr th:only-of-type {\n",
       "        vertical-align: middle;\n",
       "    }\n",
       "\n",
       "    .dataframe tbody tr th {\n",
       "        vertical-align: top;\n",
       "    }\n",
       "\n",
       "    .dataframe thead th {\n",
       "        text-align: right;\n",
       "    }\n",
       "</style>\n",
       "<table border=\"1\" class=\"dataframe\">\n",
       "  <thead>\n",
       "    <tr style=\"text-align: right;\">\n",
       "      <th></th>\n",
       "      <th>clumb-thick</th>\n",
       "      <th>ucellsize</th>\n",
       "      <th>ucellshape</th>\n",
       "      <th>margadh</th>\n",
       "      <th>singlepcellsize</th>\n",
       "      <th>barenuclei</th>\n",
       "      <th>blandchr</th>\n",
       "      <th>normalnucleoli</th>\n",
       "      <th>mitoses</th>\n",
       "      <th>class</th>\n",
       "    </tr>\n",
       "  </thead>\n",
       "  <tbody>\n",
       "    <tr>\n",
       "      <th>1000025</th>\n",
       "      <td>5</td>\n",
       "      <td>1</td>\n",
       "      <td>1</td>\n",
       "      <td>1</td>\n",
       "      <td>2</td>\n",
       "      <td>1</td>\n",
       "      <td>3</td>\n",
       "      <td>1</td>\n",
       "      <td>1</td>\n",
       "      <td>2</td>\n",
       "    </tr>\n",
       "    <tr>\n",
       "      <th>1002945</th>\n",
       "      <td>5</td>\n",
       "      <td>4</td>\n",
       "      <td>4</td>\n",
       "      <td>5</td>\n",
       "      <td>7</td>\n",
       "      <td>10</td>\n",
       "      <td>3</td>\n",
       "      <td>2</td>\n",
       "      <td>1</td>\n",
       "      <td>2</td>\n",
       "    </tr>\n",
       "    <tr>\n",
       "      <th>1015425</th>\n",
       "      <td>3</td>\n",
       "      <td>1</td>\n",
       "      <td>1</td>\n",
       "      <td>1</td>\n",
       "      <td>2</td>\n",
       "      <td>2</td>\n",
       "      <td>3</td>\n",
       "      <td>1</td>\n",
       "      <td>1</td>\n",
       "      <td>2</td>\n",
       "    </tr>\n",
       "    <tr>\n",
       "      <th>1016277</th>\n",
       "      <td>6</td>\n",
       "      <td>8</td>\n",
       "      <td>8</td>\n",
       "      <td>1</td>\n",
       "      <td>3</td>\n",
       "      <td>4</td>\n",
       "      <td>3</td>\n",
       "      <td>7</td>\n",
       "      <td>1</td>\n",
       "      <td>2</td>\n",
       "    </tr>\n",
       "    <tr>\n",
       "      <th>1017023</th>\n",
       "      <td>4</td>\n",
       "      <td>1</td>\n",
       "      <td>1</td>\n",
       "      <td>3</td>\n",
       "      <td>2</td>\n",
       "      <td>1</td>\n",
       "      <td>3</td>\n",
       "      <td>1</td>\n",
       "      <td>1</td>\n",
       "      <td>2</td>\n",
       "    </tr>\n",
       "  </tbody>\n",
       "</table>\n",
       "</div>"
      ],
      "text/plain": [
       "         clumb-thick  ucellsize  ucellshape  margadh  singlepcellsize  \\\n",
       "1000025            5          1           1        1                2   \n",
       "1002945            5          4           4        5                7   \n",
       "1015425            3          1           1        1                2   \n",
       "1016277            6          8           8        1                3   \n",
       "1017023            4          1           1        3                2   \n",
       "\n",
       "        barenuclei  blandchr  normalnucleoli  mitoses  class  \n",
       "1000025          1         3               1        1      2  \n",
       "1002945         10         3               2        1      2  \n",
       "1015425          2         3               1        1      2  \n",
       "1016277          4         3               7        1      2  \n",
       "1017023          1         3               1        1      2  "
      ]
     },
     "execution_count": 11,
     "metadata": {},
     "output_type": "execute_result"
    }
   ],
   "source": [
    "file = 'https://raw.githubusercontent.com/igomezv/DataScienceIntermedio/main/datasets/binary_cancer/breast-cancer-wisconsin.data'\n",
    "data_bcancer = pd.read_csv(file)\n",
    "data_bcancer.head()"
   ]
  },
  {
   "cell_type": "code",
   "execution_count": 12,
   "id": "8528836e",
   "metadata": {},
   "outputs": [
    {
     "data": {
      "text/html": [
       "<div>\n",
       "<style scoped>\n",
       "    .dataframe tbody tr th:only-of-type {\n",
       "        vertical-align: middle;\n",
       "    }\n",
       "\n",
       "    .dataframe tbody tr th {\n",
       "        vertical-align: top;\n",
       "    }\n",
       "\n",
       "    .dataframe thead th {\n",
       "        text-align: right;\n",
       "    }\n",
       "</style>\n",
       "<table border=\"1\" class=\"dataframe\">\n",
       "  <thead>\n",
       "    <tr style=\"text-align: right;\">\n",
       "      <th></th>\n",
       "      <th>clumb-thick</th>\n",
       "      <th>ucellsize</th>\n",
       "      <th>ucellshape</th>\n",
       "      <th>margadh</th>\n",
       "      <th>singlepcellsize</th>\n",
       "      <th>barenuclei</th>\n",
       "      <th>blandchr</th>\n",
       "      <th>normalnucleoli</th>\n",
       "      <th>mitoses</th>\n",
       "      <th>class</th>\n",
       "    </tr>\n",
       "  </thead>\n",
       "  <tbody>\n",
       "    <tr>\n",
       "      <th>1000025</th>\n",
       "      <td>5</td>\n",
       "      <td>1</td>\n",
       "      <td>1</td>\n",
       "      <td>1</td>\n",
       "      <td>2</td>\n",
       "      <td>1.0</td>\n",
       "      <td>3</td>\n",
       "      <td>1</td>\n",
       "      <td>1</td>\n",
       "      <td>2</td>\n",
       "    </tr>\n",
       "    <tr>\n",
       "      <th>1002945</th>\n",
       "      <td>5</td>\n",
       "      <td>4</td>\n",
       "      <td>4</td>\n",
       "      <td>5</td>\n",
       "      <td>7</td>\n",
       "      <td>10.0</td>\n",
       "      <td>3</td>\n",
       "      <td>2</td>\n",
       "      <td>1</td>\n",
       "      <td>2</td>\n",
       "    </tr>\n",
       "    <tr>\n",
       "      <th>1015425</th>\n",
       "      <td>3</td>\n",
       "      <td>1</td>\n",
       "      <td>1</td>\n",
       "      <td>1</td>\n",
       "      <td>2</td>\n",
       "      <td>2.0</td>\n",
       "      <td>3</td>\n",
       "      <td>1</td>\n",
       "      <td>1</td>\n",
       "      <td>2</td>\n",
       "    </tr>\n",
       "    <tr>\n",
       "      <th>1016277</th>\n",
       "      <td>6</td>\n",
       "      <td>8</td>\n",
       "      <td>8</td>\n",
       "      <td>1</td>\n",
       "      <td>3</td>\n",
       "      <td>4.0</td>\n",
       "      <td>3</td>\n",
       "      <td>7</td>\n",
       "      <td>1</td>\n",
       "      <td>2</td>\n",
       "    </tr>\n",
       "    <tr>\n",
       "      <th>1017023</th>\n",
       "      <td>4</td>\n",
       "      <td>1</td>\n",
       "      <td>1</td>\n",
       "      <td>3</td>\n",
       "      <td>2</td>\n",
       "      <td>1.0</td>\n",
       "      <td>3</td>\n",
       "      <td>1</td>\n",
       "      <td>1</td>\n",
       "      <td>2</td>\n",
       "    </tr>\n",
       "  </tbody>\n",
       "</table>\n",
       "</div>"
      ],
      "text/plain": [
       "         clumb-thick  ucellsize  ucellshape  margadh  singlepcellsize  \\\n",
       "1000025            5          1           1        1                2   \n",
       "1002945            5          4           4        5                7   \n",
       "1015425            3          1           1        1                2   \n",
       "1016277            6          8           8        1                3   \n",
       "1017023            4          1           1        3                2   \n",
       "\n",
       "         barenuclei  blandchr  normalnucleoli  mitoses  class  \n",
       "1000025         1.0         3               1        1      2  \n",
       "1002945        10.0         3               2        1      2  \n",
       "1015425         2.0         3               1        1      2  \n",
       "1016277         4.0         3               7        1      2  \n",
       "1017023         1.0         3               1        1      2  "
      ]
     },
     "execution_count": 12,
     "metadata": {},
     "output_type": "execute_result"
    }
   ],
   "source": [
    "cols = data_bcancer.columns\n",
    "\n",
    "df_clean = data_bcancer[cols].apply(pd.to_numeric, errors='coerce').fillna(0)\n",
    "df_clean.head(5)"
   ]
  },
  {
   "cell_type": "code",
   "execution_count": 13,
   "id": "230a5ec1",
   "metadata": {},
   "outputs": [
    {
     "data": {
      "text/plain": [
       "((524, 9), (88, 9), (87, 9), (524,), (88,), (87,))"
      ]
     },
     "execution_count": 13,
     "metadata": {},
     "output_type": "execute_result"
    }
   ],
   "source": [
    "## Primero separamos el conjunto de entrenamiento con 75% y otro temporal con el 25% \n",
    "data_train, data_temp = train_test_split(df_clean.values, train_size=0.75, shuffle=True)\n",
    "## El temporal lo partimos en dos partes iguales para obtener conjuntos de validacion y de prueba\n",
    "data_val, data_test = train_test_split(data_temp, test_size=0.5, shuffle=True)\n",
    "## Separamos X y Y para cada nuevo conjunto\n",
    "X_train, Y_train = data_train[:,:-1], data_train[:,-1]\n",
    "X_val, Y_val = data_val[:,:-1], data_val[:,-1]\n",
    "X_test, Y_test = data_test[:,:-1], data_test[:,-1]\n",
    "## Verificamos tamanos\n",
    "np.shape(X_train), np.shape(X_test), np.shape(X_val), np.shape(Y_train), np.shape(Y_test), np.shape(Y_val)"
   ]
  },
  {
   "cell_type": "code",
   "execution_count": 14,
   "id": "4132bf83",
   "metadata": {},
   "outputs": [
    {
     "data": {
      "text/plain": [
       "Perceptron()"
      ]
     },
     "execution_count": 14,
     "metadata": {},
     "output_type": "execute_result"
    }
   ],
   "source": [
    "clf = Perceptron(tol=0.001, random_state=0)\n",
    "clf.fit(X_train, Y_train)"
   ]
  },
  {
   "cell_type": "markdown",
   "id": "a2c266ef",
   "metadata": {},
   "source": [
    "Hagamos una predicción:"
   ]
  },
  {
   "cell_type": "code",
   "execution_count": null,
   "id": "bc87dbcf",
   "metadata": {},
   "outputs": [],
   "source": [
    "clf.predict(np.array([3,1,1,1,2,2.0,3,1,0]).reshape(1,-1))"
   ]
  },
  {
   "cell_type": "markdown",
   "id": "54b04230",
   "metadata": {},
   "source": [
    "Probamos su metrica, en este caso su exactitud:"
   ]
  },
  {
   "cell_type": "code",
   "execution_count": 15,
   "id": "db9f2028",
   "metadata": {},
   "outputs": [
    {
     "data": {
      "text/plain": [
       "0.9431818181818182"
      ]
     },
     "execution_count": 15,
     "metadata": {},
     "output_type": "execute_result"
    }
   ],
   "source": [
    "clf.score(X_test, Y_test)"
   ]
  },
  {
   "cell_type": "code",
   "execution_count": 17,
   "id": "4a8378cf",
   "metadata": {},
   "outputs": [
    {
     "data": {
      "text/plain": [
       "0.9599236641221374"
      ]
     },
     "execution_count": 17,
     "metadata": {},
     "output_type": "execute_result"
    }
   ],
   "source": [
    "clf.score(X_train, Y_train)"
   ]
  },
  {
   "cell_type": "markdown",
   "id": "9c6d9603",
   "metadata": {},
   "source": []
  },
  {
   "cell_type": "markdown",
   "id": "b9690e23",
   "metadata": {},
   "source": []
  }
 ],
 "metadata": {
  "kernelspec": {
   "display_name": "Python 3 (ipykernel)",
   "language": "python",
   "name": "python3"
  },
  "language_info": {
   "codemirror_mode": {
    "name": "ipython",
    "version": 3
   },
   "file_extension": ".py",
   "mimetype": "text/x-python",
   "name": "python",
   "nbconvert_exporter": "python",
   "pygments_lexer": "ipython3",
   "version": "3.9.13"
  }
 },
 "nbformat": 4,
 "nbformat_minor": 5
}
